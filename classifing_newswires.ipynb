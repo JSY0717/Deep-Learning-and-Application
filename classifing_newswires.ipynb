{
  "nbformat": 4,
  "nbformat_minor": 0,
  "metadata": {
    "colab": {
      "name": "classifing newswires.ipynb",
      "provenance": [],
      "authorship_tag": "ABX9TyPrqSGKl21NaDCZw8XUKidt"
    },
    "kernelspec": {
      "name": "python3",
      "display_name": "Python 3"
    }
  },
  "cells": [
    {
      "cell_type": "markdown",
      "metadata": {
        "id": "thVSKHFqHveL"
      },
      "source": [
        "# **뉴스 기사 분류 : 다중 분류**"
      ]
    },
    {
      "cell_type": "code",
      "metadata": {
        "colab": {
          "base_uri": "https://localhost:8080/",
          "height": 34
        },
        "id": "VQEvS2E-HyaR",
        "outputId": "4438826b-5739-4832-ef14-772e1055c296"
      },
      "source": [
        "import keras\r\n",
        "keras.__version__"
      ],
      "execution_count": null,
      "outputs": [
        {
          "output_type": "execute_result",
          "data": {
            "application/vnd.google.colaboratory.intrinsic+json": {
              "type": "string"
            },
            "text/plain": [
              "'2.4.3'"
            ]
          },
          "metadata": {
            "tags": []
          },
          "execution_count": 1
        }
      ]
    },
    {
      "cell_type": "markdown",
      "metadata": {
        "id": "d9RY_FBbIHV2"
      },
      "source": [
        "##  * Reuters dataset"
      ]
    },
    {
      "cell_type": "code",
      "metadata": {
        "colab": {
          "base_uri": "https://localhost:8080/"
        },
        "id": "pSEAXvuEIFcy",
        "outputId": "8bfd1dd6-b2db-4fb7-d1f7-ed2d759660c2"
      },
      "source": [
        "from keras.datasets import reuters\r\n",
        "\r\n",
        "# 가장 자주 등장하는 단어 10,000개\r\n",
        "(traindata,trainlabels),(testdata,testlabels) = reuters.load_data(num_words=10000)"
      ],
      "execution_count": null,
      "outputs": [
        {
          "output_type": "stream",
          "text": [
            "Downloading data from https://storage.googleapis.com/tensorflow/tf-keras-datasets/reuters.npz\n",
            "2113536/2110848 [==============================] - 0s 0us/step\n"
          ],
          "name": "stdout"
        },
        {
          "output_type": "stream",
          "text": [
            "/usr/local/lib/python3.6/dist-packages/tensorflow/python/keras/datasets/reuters.py:148: VisibleDeprecationWarning: Creating an ndarray from ragged nested sequences (which is a list-or-tuple of lists-or-tuples-or ndarrays with different lengths or shapes) is deprecated. If you meant to do this, you must specify 'dtype=object' when creating the ndarray\n",
            "  x_train, y_train = np.array(xs[:idx]), np.array(labels[:idx])\n",
            "/usr/local/lib/python3.6/dist-packages/tensorflow/python/keras/datasets/reuters.py:149: VisibleDeprecationWarning: Creating an ndarray from ragged nested sequences (which is a list-or-tuple of lists-or-tuples-or ndarrays with different lengths or shapes) is deprecated. If you meant to do this, you must specify 'dtype=object' when creating the ndarray\n",
            "  x_test, y_test = np.array(xs[idx:]), np.array(labels[idx:])\n"
          ],
          "name": "stderr"
        }
      ]
    },
    {
      "cell_type": "code",
      "metadata": {
        "colab": {
          "base_uri": "https://localhost:8080/"
        },
        "id": "myvfxceCKGg4",
        "outputId": "5dbaeaaa-31b4-416a-fa26-6f27e7f06f28"
      },
      "source": [
        "print(len(traindata))\r\n",
        "print(len(testdata))"
      ],
      "execution_count": null,
      "outputs": [
        {
          "output_type": "stream",
          "text": [
            "8982\n",
            "2246\n"
          ],
          "name": "stdout"
        }
      ]
    },
    {
      "cell_type": "code",
      "metadata": {
        "colab": {
          "base_uri": "https://localhost:8080/"
        },
        "id": "h8VksF1XKJPE",
        "outputId": "6110247f-6a0b-446b-81e9-8993555ce2e3"
      },
      "source": [
        "# 단어 리스트가 아니라, 단어 인덱스인 정수 리스트로 이루어진 데이터\r\n",
        "print(traindata[0])\r\n",
        "print()\r\n",
        "# label은 토픽의 인덱스(0~45 정수)\r\n",
        "print(trainlabels[0])"
      ],
      "execution_count": null,
      "outputs": [
        {
          "output_type": "stream",
          "text": [
            "[1, 2, 2, 8, 43, 10, 447, 5, 25, 207, 270, 5, 3095, 111, 16, 369, 186, 90, 67, 7, 89, 5, 19, 102, 6, 19, 124, 15, 90, 67, 84, 22, 482, 26, 7, 48, 4, 49, 8, 864, 39, 209, 154, 6, 151, 6, 83, 11, 15, 22, 155, 11, 15, 7, 48, 9, 4579, 1005, 504, 6, 258, 6, 272, 11, 15, 22, 134, 44, 11, 15, 16, 8, 197, 1245, 90, 67, 52, 29, 209, 30, 32, 132, 6, 109, 15, 17, 12]\n",
            "\n",
            "3\n"
          ],
          "name": "stdout"
        }
      ]
    },
    {
      "cell_type": "markdown",
      "metadata": {
        "id": "-rsATje7KdQX"
      },
      "source": [
        "+) 단어 인덱스를 단어로 디코딩하는 방법"
      ]
    },
    {
      "cell_type": "code",
      "metadata": {
        "id": "hJakuVk6KQS6"
      },
      "source": [
        "word_index = reuters.get_word_index()\r\n",
        "reverse_word_index = dict([(value,key) for (key,value) in word_index.items()])\r\n",
        "decoded_newswire = ' '.join([reverse_word_index.get(i-3, '?') for i in traindata[0]])\r\n",
        "# 0,1,2 는 불필요한 인덱스이므로 제외"
      ],
      "execution_count": null,
      "outputs": []
    },
    {
      "cell_type": "code",
      "metadata": {
        "colab": {
          "base_uri": "https://localhost:8080/",
          "height": 104
        },
        "id": "a38B8Kw1KnP5",
        "outputId": "81e8f7cc-6d70-419d-b6db-5d6e4617b266"
      },
      "source": [
        "decoded_newswire"
      ],
      "execution_count": null,
      "outputs": [
        {
          "output_type": "execute_result",
          "data": {
            "application/vnd.google.colaboratory.intrinsic+json": {
              "type": "string"
            },
            "text/plain": [
              "'? ? ? said as a result of its december acquisition of space co it expects earnings per share in 1987 of 1 15 to 1 30 dlrs per share up from 70 cts in 1986 the company said pretax net should rise to nine to 10 mln dlrs from six mln dlrs in 1986 and rental operation revenues to 19 to 22 mln dlrs from 12 5 mln dlrs it said cash flow per share this year should be 2 50 to three dlrs reuter 3'"
            ]
          },
          "metadata": {
            "tags": []
          },
          "execution_count": 17
        }
      ]
    },
    {
      "cell_type": "markdown",
      "metadata": {
        "id": "s2RJ2bQIMq4S"
      },
      "source": [
        "##  * Preprocessing (vectorize)"
      ]
    },
    {
      "cell_type": "markdown",
      "metadata": {
        "id": "DoDy5P32OQJr"
      },
      "source": [
        "1) 데이터를 벡터로 변환"
      ]
    },
    {
      "cell_type": "code",
      "metadata": {
        "id": "O9q4xXLGMIj9"
      },
      "source": [
        "import numpy as np\r\n",
        "\r\n",
        "def vectorize_sequences(seq,dimention=10000):\r\n",
        "  res = np.zeros((len(seq),dimention)) # 영행렬 생성\r\n",
        "  for i, seq in enumerate(seq):\r\n",
        "    res[i,seq] = 1. # 해당 원소를 1로 변경\r\n",
        "  return res\r\n",
        "\r\n",
        "xtrain = vectorize_sequences(traindata)\r\n",
        "xtest = vectorize_sequences(testdata)"
      ],
      "execution_count": null,
      "outputs": []
    },
    {
      "cell_type": "code",
      "metadata": {
        "colab": {
          "base_uri": "https://localhost:8080/"
        },
        "id": "GaHm6RlUMRmc",
        "outputId": "c9c6b50b-1fb9-437e-bc29-aea7e4b04629"
      },
      "source": [
        "xtrain[0]"
      ],
      "execution_count": null,
      "outputs": [
        {
          "output_type": "execute_result",
          "data": {
            "text/plain": [
              "array([0., 1., 1., ..., 0., 0., 0.])"
            ]
          },
          "metadata": {
            "tags": []
          },
          "execution_count": 22
        }
      ]
    },
    {
      "cell_type": "code",
      "metadata": {
        "colab": {
          "base_uri": "https://localhost:8080/"
        },
        "id": "HuiKP9tPgAA1",
        "outputId": "9f77eef8-0967-4bc8-b4bd-f3906d2c6ad8"
      },
      "source": [
        "xtest[0]"
      ],
      "execution_count": null,
      "outputs": [
        {
          "output_type": "execute_result",
          "data": {
            "text/plain": [
              "array([0., 1., 1., ..., 0., 0., 0.])"
            ]
          },
          "metadata": {
            "tags": []
          },
          "execution_count": 67
        }
      ]
    },
    {
      "cell_type": "markdown",
      "metadata": {
        "id": "1MG7ibQTOT94"
      },
      "source": [
        "2) label을 벡터로 변환"
      ]
    },
    {
      "cell_type": "code",
      "metadata": {
        "id": "WwcdFlxFNglC"
      },
      "source": [
        "# 2-1) 함수 생성\r\n",
        "\r\n",
        "def to_one_hot(labels, dimension=46):\r\n",
        "    results = np.zeros((len(labels), dimension))\r\n",
        "    for i, label in enumerate(labels):\r\n",
        "        results[i, label] = 1.\r\n",
        "    return results\r\n",
        "\r\n",
        "one_hot_train_labels = to_one_hot(trainlabels)\r\n",
        "one_hot_test_labels = to_one_hot(testlabels)"
      ],
      "execution_count": null,
      "outputs": []
    },
    {
      "cell_type": "code",
      "metadata": {
        "colab": {
          "base_uri": "https://localhost:8080/"
        },
        "id": "H-MmQd9fOdPz",
        "outputId": "957e0806-d3ed-4706-8408-7caec7fa3701"
      },
      "source": [
        "one_hot_train_labels[0]"
      ],
      "execution_count": null,
      "outputs": [
        {
          "output_type": "execute_result",
          "data": {
            "text/plain": [
              "array([0., 0., 0., 1., 0., 0., 0., 0., 0., 0., 0., 0., 0., 0., 0., 0., 0.,\n",
              "       0., 0., 0., 0., 0., 0., 0., 0., 0., 0., 0., 0., 0., 0., 0., 0., 0.,\n",
              "       0., 0., 0., 0., 0., 0., 0., 0., 0., 0., 0., 0.])"
            ]
          },
          "metadata": {
            "tags": []
          },
          "execution_count": 26
        }
      ]
    },
    {
      "cell_type": "code",
      "metadata": {
        "id": "iqtGNvL6Oh8p"
      },
      "source": [
        "# 2-2) keras 내장 함수 사용\r\n",
        "\r\n",
        "from keras.utils.np_utils import to_categorical\r\n",
        "\r\n",
        "one_hot_train_labels = to_categorical(trainlabels)\r\n",
        "one_hot_test_labels = to_categorical(testlabels)"
      ],
      "execution_count": null,
      "outputs": []
    },
    {
      "cell_type": "markdown",
      "metadata": {
        "id": "TuB8laaLP6mR"
      },
      "source": [
        "##  * 모델 구성"
      ]
    },
    {
      "cell_type": "code",
      "metadata": {
        "id": "i5RT0oXuP3F6"
      },
      "source": [
        "from keras import models, layers\r\n",
        "\r\n",
        "model = models.Sequential()\r\n",
        "# 세개의 Dense 층으로 이루어진 모델\r\n",
        "model.add(layers.Dense(64, activation='relu', input_shape=(10000,)))\r\n",
        "model.add(layers.Dense(64, activation='relu'))\r\n",
        "model.add(layers.Dense(46, activation='softmax')) # 각 입력 데이터마다 46개의 labeel로 분류될 확률 분포를 출력"
      ],
      "execution_count": null,
      "outputs": []
    },
    {
      "cell_type": "code",
      "metadata": {
        "colab": {
          "base_uri": "https://localhost:8080/"
        },
        "id": "th8HP4KYRKxr",
        "outputId": "d125632e-71e5-4c06-e2f6-770f52589227"
      },
      "source": [
        "model.summary()"
      ],
      "execution_count": null,
      "outputs": [
        {
          "output_type": "stream",
          "text": [
            "Model: \"sequential_1\"\n",
            "_________________________________________________________________\n",
            "Layer (type)                 Output Shape              Param #   \n",
            "=================================================================\n",
            "dense_3 (Dense)              (None, 64)                640064    \n",
            "_________________________________________________________________\n",
            "dense_4 (Dense)              (None, 64)                4160      \n",
            "_________________________________________________________________\n",
            "dense_5 (Dense)              (None, 46)                2990      \n",
            "=================================================================\n",
            "Total params: 647,214\n",
            "Trainable params: 647,214\n",
            "Non-trainable params: 0\n",
            "_________________________________________________________________\n"
          ],
          "name": "stdout"
        }
      ]
    },
    {
      "cell_type": "code",
      "metadata": {
        "id": "53kffEQ9RMGR"
      },
      "source": [
        "# categorical_crossentropy : 모델이 출력한 확률 분포와 진짜 label의 분포 사이의 거리 측정\r\n",
        "\r\n",
        "model.compile(optimizer='rmsprop',\r\n",
        "              loss='categorical_crossentropy',\r\n",
        "              metrics=['accuracy'])"
      ],
      "execution_count": null,
      "outputs": []
    },
    {
      "cell_type": "markdown",
      "metadata": {
        "id": "1KrEu5XzTHG-"
      },
      "source": [
        "##  * 훈련 검증"
      ]
    },
    {
      "cell_type": "code",
      "metadata": {
        "id": "O7ZJiIvxTE_7"
      },
      "source": [
        "# validation set 생성 (처음 본 데이터)\r\n",
        "\r\n",
        "xvalid = xtrain[:1000]\r\n",
        "partial_xtrain = xtrain[1000:]\r\n",
        "\r\n",
        "yvalid = one_hot_train_labels[:1000]\r\n",
        "partial_ytrain = one_hot_train_labels[1000:]"
      ],
      "execution_count": null,
      "outputs": []
    },
    {
      "cell_type": "code",
      "metadata": {
        "colab": {
          "base_uri": "https://localhost:8080/"
        },
        "id": "MjJ9bJbrUDOa",
        "outputId": "ff06b699-fe3a-4d95-c80d-b618d23c1206"
      },
      "source": [
        "# 20 epochs 반복\r\n",
        "history = model.fit(partial_xtrain,\r\n",
        "                    partial_ytrain,\r\n",
        "                    epochs=20,\r\n",
        "                    batch_size=512,\r\n",
        "                    validation_data = (xvalid, yvalid))"
      ],
      "execution_count": null,
      "outputs": [
        {
          "output_type": "stream",
          "text": [
            "Epoch 1/20\n",
            "16/16 [==============================] - 2s 58ms/step - loss: 3.0881 - accuracy: 0.4225 - val_loss: 1.7455 - val_accuracy: 0.6540\n",
            "Epoch 2/20\n",
            "16/16 [==============================] - 1s 44ms/step - loss: 1.5018 - accuracy: 0.7023 - val_loss: 1.3196 - val_accuracy: 0.7110\n",
            "Epoch 3/20\n",
            "16/16 [==============================] - 1s 44ms/step - loss: 1.1020 - accuracy: 0.7604 - val_loss: 1.1366 - val_accuracy: 0.7500\n",
            "Epoch 4/20\n",
            "16/16 [==============================] - 1s 44ms/step - loss: 0.8611 - accuracy: 0.8147 - val_loss: 1.0363 - val_accuracy: 0.7740\n",
            "Epoch 5/20\n",
            "16/16 [==============================] - 1s 46ms/step - loss: 0.6891 - accuracy: 0.8512 - val_loss: 0.9784 - val_accuracy: 0.7810\n",
            "Epoch 6/20\n",
            "16/16 [==============================] - 1s 44ms/step - loss: 0.5653 - accuracy: 0.8812 - val_loss: 0.9252 - val_accuracy: 0.8050\n",
            "Epoch 7/20\n",
            "16/16 [==============================] - 1s 44ms/step - loss: 0.4653 - accuracy: 0.9018 - val_loss: 0.8997 - val_accuracy: 0.8120\n",
            "Epoch 8/20\n",
            "16/16 [==============================] - 1s 44ms/step - loss: 0.3420 - accuracy: 0.9290 - val_loss: 0.8945 - val_accuracy: 0.8160\n",
            "Epoch 9/20\n",
            "16/16 [==============================] - 1s 45ms/step - loss: 0.2918 - accuracy: 0.9372 - val_loss: 0.9169 - val_accuracy: 0.8010\n",
            "Epoch 10/20\n",
            "16/16 [==============================] - 1s 44ms/step - loss: 0.2393 - accuracy: 0.9481 - val_loss: 0.8947 - val_accuracy: 0.8150\n",
            "Epoch 11/20\n",
            "16/16 [==============================] - 1s 44ms/step - loss: 0.1988 - accuracy: 0.9545 - val_loss: 0.9053 - val_accuracy: 0.8190\n",
            "Epoch 12/20\n",
            "16/16 [==============================] - 1s 44ms/step - loss: 0.1736 - accuracy: 0.9557 - val_loss: 0.9512 - val_accuracy: 0.8060\n",
            "Epoch 13/20\n",
            "16/16 [==============================] - 1s 45ms/step - loss: 0.1588 - accuracy: 0.9562 - val_loss: 0.9731 - val_accuracy: 0.7980\n",
            "Epoch 14/20\n",
            "16/16 [==============================] - 1s 44ms/step - loss: 0.1383 - accuracy: 0.9598 - val_loss: 0.9499 - val_accuracy: 0.8160\n",
            "Epoch 15/20\n",
            "16/16 [==============================] - 1s 45ms/step - loss: 0.1273 - accuracy: 0.9620 - val_loss: 1.0157 - val_accuracy: 0.8020\n",
            "Epoch 16/20\n",
            "16/16 [==============================] - 1s 45ms/step - loss: 0.1293 - accuracy: 0.9585 - val_loss: 1.0532 - val_accuracy: 0.7930\n",
            "Epoch 17/20\n",
            "16/16 [==============================] - 1s 44ms/step - loss: 0.1194 - accuracy: 0.9599 - val_loss: 1.0683 - val_accuracy: 0.7960\n",
            "Epoch 18/20\n",
            "16/16 [==============================] - 1s 44ms/step - loss: 0.1153 - accuracy: 0.9577 - val_loss: 1.0377 - val_accuracy: 0.8070\n",
            "Epoch 19/20\n",
            "16/16 [==============================] - 1s 45ms/step - loss: 0.1034 - accuracy: 0.9621 - val_loss: 1.0555 - val_accuracy: 0.8070\n",
            "Epoch 20/20\n",
            "16/16 [==============================] - 1s 45ms/step - loss: 0.1042 - accuracy: 0.9605 - val_loss: 1.0678 - val_accuracy: 0.7930\n"
          ],
          "name": "stdout"
        }
      ]
    },
    {
      "cell_type": "code",
      "metadata": {
        "colab": {
          "base_uri": "https://localhost:8080/"
        },
        "id": "SohfK9QDcGnV",
        "outputId": "0862310b-1976-497c-c0f3-7f8ab8660f00"
      },
      "source": [
        "history_dict = history.history\r\n",
        "history_dict.keys()"
      ],
      "execution_count": null,
      "outputs": [
        {
          "output_type": "execute_result",
          "data": {
            "text/plain": [
              "dict_keys(['loss', 'accuracy', 'val_loss', 'val_accuracy'])"
            ]
          },
          "metadata": {
            "tags": []
          },
          "execution_count": 55
        }
      ]
    },
    {
      "cell_type": "markdown",
      "metadata": {
        "id": "2keyRz2HbTXQ"
      },
      "source": [
        "1) 손실 곡선"
      ]
    },
    {
      "cell_type": "code",
      "metadata": {
        "id": "Ta25OvXKWezg"
      },
      "source": [
        "import matplotlib.pyplot as plt"
      ],
      "execution_count": null,
      "outputs": []
    },
    {
      "cell_type": "code",
      "metadata": {
        "colab": {
          "base_uri": "https://localhost:8080/",
          "height": 295
        },
        "id": "y_wU1aFCbY4h",
        "outputId": "8824dccf-4480-4182-af71-819c9b2a12f4"
      },
      "source": [
        "loss = history.history['loss']\r\n",
        "val_loss = history.history['val_loss']\r\n",
        "\r\n",
        "epochs = range(1,len(loss)+1) # 1~len(loss)\r\n",
        "\r\n",
        "plt.plot(epochs, loss, 'bo', label='Trainig loss')\r\n",
        "plt.plot(epochs, val_loss, 'r', label='Validation loss')\r\n",
        "plt.title('Training and Validation Loss')\r\n",
        "plt.xlabel('Epochs') # 반복횟수\r\n",
        "plt.ylabel('Loss')\r\n",
        "plt.legend()"
      ],
      "execution_count": null,
      "outputs": [
        {
          "output_type": "display_data",
          "data": {
            "image/png": "[encoded data removed]",
            "text/plain": [
              "<Figure size 432x288 with 1 Axes>"
            ]
          },
          "metadata": {
            "tags": [],
            "needs_background": "light"
          }
        }
      ]
    },
    {
      "cell_type": "markdown",
      "metadata": {
        "id": "QtN6gzuSc72O"
      },
      "source": [
        "2) 정확도 곡선"
      ]
    },
    {
      "cell_type": "code",
      "metadata": {
        "colab": {
          "base_uri": "https://localhost:8080/",
          "height": 312
        },
        "id": "kqVKuzPac72b",
        "outputId": "1a3ef1fb-374b-4aa4-a9fb-a05c29a4768c"
      },
      "source": [
        "plt.clf()  # 그래프 초기화\r\n",
        "\r\n",
        "acc = history.history['accuracy']\r\n",
        "val_acc = history.history['val_accuracy']\r\n",
        "\r\n",
        "epochs = range(1,len(loss)+1) # 1~len(loss)\r\n",
        "\r\n",
        "plt.plot(epochs, acc, 'bo', label='Trainig acc')\r\n",
        "plt.plot(epochs, val_acc, 'r', label='Validation acc')\r\n",
        "plt.title('Training and Validation Accuracy')\r\n",
        "plt.xlabel('Epochs') # 반복횟수\r\n",
        "plt.ylabel('Accuracy')\r\n",
        "plt.legend()"
      ],
      "execution_count": null,
      "outputs": [
        {
          "output_type": "execute_result",
          "data": {
            "text/plain": [
              "<matplotlib.legend.Legend at 0x7f0e1cf84908>"
            ]
          },
          "metadata": {
            "tags": []
          },
          "execution_count": 64
        },
        {
          "output_type": "display_data",
          "data": {
            "image/png": "[encoded data removed]",
            "text/plain": [
              "<Figure size 432x288 with 1 Axes>"
            ]
          },
          "metadata": {
            "tags": [],
            "needs_background": "light"
          }
        }
      ]
    },
    {
      "cell_type": "markdown",
      "metadata": {
        "id": "csVfFdoaey40"
      },
      "source": [
        "그래프의 기울기를 보녀, 9번째 epoch 이후로 과대적합이 시작됨을 알 수 있다.  \r\n",
        "epoch를 9로 조정해 새로운 모델을 훈련하고, 평가한다."
      ]
    },
    {
      "cell_type": "code",
      "metadata": {
        "colab": {
          "base_uri": "https://localhost:8080/"
        },
        "id": "fLvpWuUVcePb",
        "outputId": "c683a350-85eb-4846-fc77-0a9a098bcb45"
      },
      "source": [
        "model = models.Sequential()\r\n",
        "# 세개의 Dense 층으로 이루어진 모델\r\n",
        "model.add(layers.Dense(64, activation='relu', input_shape=(10000,)))\r\n",
        "model.add(layers.Dense(64, activation='relu'))\r\n",
        "model.add(layers.Dense(46, activation='softmax')) # 각 입력 데이터마다 46개의 labeel로 분류될 확률 분포를 출력\r\n",
        "\r\n",
        "model.compile(optimizer='rmsprop',\r\n",
        "              loss='categorical_crossentropy',\r\n",
        "              metrics=['accuracy'])\r\n",
        "\r\n",
        "# 9 epochs 반복\r\n",
        "history = model.fit(partial_xtrain,\r\n",
        "                    partial_ytrain,\r\n",
        "                    epochs=9,\r\n",
        "                    batch_size=512,\r\n",
        "                    validation_data = (xvalid, yvalid))\r\n",
        "\r\n",
        "# 평가 결과 \r\n",
        "results = model.evaluate(xtest,one_hot_test_labels)"
      ],
      "execution_count": null,
      "outputs": [
        {
          "output_type": "stream",
          "text": [
            "Epoch 1/9\n",
            "16/16 [==============================] - 1s 55ms/step - loss: 2.9823 - accuracy: 0.4442 - val_loss: 1.6548 - val_accuracy: 0.6450\n",
            "Epoch 2/9\n",
            "16/16 [==============================] - 1s 44ms/step - loss: 1.4611 - accuracy: 0.6901 - val_loss: 1.2987 - val_accuracy: 0.7120\n",
            "Epoch 3/9\n",
            "16/16 [==============================] - 1s 44ms/step - loss: 1.0567 - accuracy: 0.7646 - val_loss: 1.1405 - val_accuracy: 0.7460\n",
            "Epoch 4/9\n",
            "16/16 [==============================] - 1s 44ms/step - loss: 0.8544 - accuracy: 0.8148 - val_loss: 1.0363 - val_accuracy: 0.7830\n",
            "Epoch 5/9\n",
            "16/16 [==============================] - 1s 44ms/step - loss: 0.6994 - accuracy: 0.8498 - val_loss: 0.9778 - val_accuracy: 0.7860\n",
            "Epoch 6/9\n",
            "16/16 [==============================] - 1s 44ms/step - loss: 0.5342 - accuracy: 0.8844 - val_loss: 0.9341 - val_accuracy: 0.8050\n",
            "Epoch 7/9\n",
            "16/16 [==============================] - 1s 45ms/step - loss: 0.4205 - accuracy: 0.9136 - val_loss: 0.9072 - val_accuracy: 0.8090\n",
            "Epoch 8/9\n",
            "16/16 [==============================] - 1s 45ms/step - loss: 0.3561 - accuracy: 0.9267 - val_loss: 0.9162 - val_accuracy: 0.8120\n",
            "Epoch 9/9\n",
            "16/16 [==============================] - 1s 43ms/step - loss: 0.2830 - accuracy: 0.9397 - val_loss: 0.9063 - val_accuracy: 0.8090\n",
            "71/71 [==============================] - 0s 2ms/step - loss: 0.9745 - accuracy: 0.7854\n"
          ],
          "name": "stdout"
        }
      ]
    },
    {
      "cell_type": "code",
      "metadata": {
        "colab": {
          "base_uri": "https://localhost:8080/"
        },
        "id": "8KhcYZ_-fioY",
        "outputId": "b84be9c4-0044-4a18-993a-a0cbabcec437"
      },
      "source": [
        "# 평가 결과 출력 : 약 79%의 정확도\r\n",
        "results"
      ],
      "execution_count": null,
      "outputs": [
        {
          "output_type": "execute_result",
          "data": {
            "text/plain": [
              "[0.9744585156440735, 0.7853962779045105]"
            ]
          },
          "metadata": {
            "tags": []
          },
          "execution_count": 69
        }
      ]
    },
    {
      "cell_type": "markdown",
      "metadata": {
        "id": "UtCLAej2gUq7"
      },
      "source": [
        "##  * 새로운 데이터에 대해 예측하기"
      ]
    },
    {
      "cell_type": "code",
      "metadata": {
        "colab": {
          "base_uri": "https://localhost:8080/"
        },
        "id": "MC6yA3ivgL-G",
        "outputId": "be8278d7-440c-48af-ca67-4d28caa28757"
      },
      "source": [
        "# model.predict() : 46개 토픽에 대한 확률 분포를 반환\r\n",
        "predictions = model.predict(xtest)\r\n",
        "\r\n",
        "predictions[0] # 각 항목의 길이가 46인 벡터"
      ],
      "execution_count": null,
      "outputs": [
        {
          "output_type": "execute_result",
          "data": {
            "text/plain": [
              "array([8.0643458e-06, 1.2377423e-04, 7.9198129e-05, 7.0144653e-01,\n",
              "       2.8092146e-01, 4.7700651e-05, 1.1964727e-05, 5.8791356e-04,\n",
              "       2.2909408e-03, 1.2555810e-05, 1.3494815e-04, 5.0310465e-04,\n",
              "       9.0041227e-05, 7.4884348e-04, 4.4802565e-04, 1.6001421e-04,\n",
              "       6.1272661e-04, 5.3050258e-05, 9.0959882e-05, 2.3383400e-03,\n",
              "       5.5039972e-03, 2.3315927e-04, 5.2998173e-05, 1.4609197e-03,\n",
              "       2.4393463e-04, 1.6691954e-05, 3.6341748e-06, 2.2292485e-05,\n",
              "       1.0865500e-04, 2.0798777e-04, 2.0186472e-04, 7.3352974e-05,\n",
              "       9.8305372e-06, 4.9345061e-05, 1.1966638e-04, 7.8460645e-05,\n",
              "       3.7676375e-04, 1.3853565e-05, 2.5291911e-05, 1.4380892e-04,\n",
              "       7.6031873e-05, 2.0033792e-04, 7.5500752e-06, 4.8801816e-05,\n",
              "       7.2980047e-06, 3.4164245e-06], dtype=float32)"
            ]
          },
          "metadata": {
            "tags": []
          },
          "execution_count": 70
        }
      ]
    },
    {
      "cell_type": "code",
      "metadata": {
        "colab": {
          "base_uri": "https://localhost:8080/"
        },
        "id": "v4ALH9r1guAs",
        "outputId": "f2a71f63-a9fb-4c80-8207-03f0135d328e"
      },
      "source": [
        "# 확률 분포이므로 46개 모든 원소의 합은 1\r\n",
        "np.sum(predictions[0])"
      ],
      "execution_count": null,
      "outputs": [
        {
          "output_type": "execute_result",
          "data": {
            "text/plain": [
              "1.0000001"
            ]
          },
          "metadata": {
            "tags": []
          },
          "execution_count": 73
        }
      ]
    },
    {
      "cell_type": "code",
      "metadata": {
        "colab": {
          "base_uri": "https://localhost:8080/"
        },
        "id": "bs2G1KF8g8Rm",
        "outputId": "fe76e422-18f1-455c-bc36-8d1e00ad49e1"
      },
      "source": [
        "# 확률이 가장 높은 값이 예측 클래스가 된다.\r\n",
        "np.argmax(predictions[10])"
      ],
      "execution_count": null,
      "outputs": [
        {
          "output_type": "execute_result",
          "data": {
            "text/plain": [
              "1"
            ]
          },
          "metadata": {
            "tags": []
          },
          "execution_count": 75
        }
      ]
    },
    {
      "cell_type": "markdown",
      "metadata": {
        "id": "9JfyQiuOhPUl"
      },
      "source": [
        "##  +) label을 인코딩 하는 다른 방법"
      ]
    },
    {
      "cell_type": "code",
      "metadata": {
        "colab": {
          "base_uri": "https://localhost:8080/"
        },
        "id": "cbFJgU1Che9i",
        "outputId": "0ccccf1e-1429-4b21-a2ca-5ee19d6705ca"
      },
      "source": [
        "# label을 정수 텐서로 변환\r\n",
        "ytrain = np.array(trainlabels)\r\n",
        "ytest = np.array(testlabels)\r\n",
        "\r\n",
        "# loss 함수를 categorical_crossentropy 에서 sparse_categorical_crossentropy 로 변경\r\n",
        "model.compile(optimizer='rmsprop', \r\n",
        "              loss='sparse_categorical_crossentropy', \r\n",
        "              metrics=['acc'])"
      ],
      "execution_count": null,
      "outputs": [
        {
          "output_type": "execute_result",
          "data": {
            "text/plain": [
              "numpy.ndarray"
            ]
          },
          "metadata": {
            "tags": []
          },
          "execution_count": 79
        }
      ]
    },
    {
      "cell_type": "markdown",
      "metadata": {
        "id": "AkWV-E-FikZa"
      },
      "source": [
        "##  +) 중간층의 hidden unit이 충분히 커야 하는 이유"
      ]
    },
    {
      "cell_type": "code",
      "metadata": {
        "colab": {
          "base_uri": "https://localhost:8080/"
        },
        "id": "axdIdGQFh5PV",
        "outputId": "e3fead20-9d05-4912-bfee-9553f0bb5e5a"
      },
      "source": [
        "# 중간층을 46차원 -> 4차원 으로 변경해서 실험\r\n",
        "# val_acc가 약 73%로 감소한 것을 알 수 있음\r\n",
        "\r\n",
        "model = models.Sequential()\r\n",
        "model.add(layers.Dense(64, activation='relu', input_shape=(10000,)))\r\n",
        "model.add(layers.Dense(4, activation='relu'))\r\n",
        "model.add(layers.Dense(46, activation='softmax'))\r\n",
        "\r\n",
        "model.compile(optimizer='rmsprop',\r\n",
        "              loss='categorical_crossentropy',\r\n",
        "              metrics=['accuracy'])\r\n",
        "model.fit(partial_xtrain,\r\n",
        "          partial_ytrain,\r\n",
        "          epochs=20,\r\n",
        "          batch_size=128,\r\n",
        "          validation_data=(xvalid, yvalid))"
      ],
      "execution_count": null,
      "outputs": [
        {
          "output_type": "stream",
          "text": [
            "Epoch 1/20\n",
            "63/63 [==============================] - 2s 19ms/step - loss: 3.6266 - accuracy: 0.0857 - val_loss: 2.6308 - val_accuracy: 0.4280\n",
            "Epoch 2/20\n",
            "63/63 [==============================] - 1s 15ms/step - loss: 2.2593 - accuracy: 0.4502 - val_loss: 1.7313 - val_accuracy: 0.4930\n",
            "Epoch 3/20\n",
            "63/63 [==============================] - 1s 18ms/step - loss: 1.4660 - accuracy: 0.5842 - val_loss: 1.4286 - val_accuracy: 0.6510\n",
            "Epoch 4/20\n",
            "63/63 [==============================] - 1s 16ms/step - loss: 1.1762 - accuracy: 0.7109 - val_loss: 1.3250 - val_accuracy: 0.6920\n",
            "Epoch 5/20\n",
            "63/63 [==============================] - 1s 16ms/step - loss: 1.0183 - accuracy: 0.7383 - val_loss: 1.2848 - val_accuracy: 0.6940\n",
            "Epoch 6/20\n",
            "63/63 [==============================] - 1s 16ms/step - loss: 0.9061 - accuracy: 0.7748 - val_loss: 1.2634 - val_accuracy: 0.7080\n",
            "Epoch 7/20\n",
            "63/63 [==============================] - 1s 16ms/step - loss: 0.8071 - accuracy: 0.7988 - val_loss: 1.2820 - val_accuracy: 0.7190\n",
            "Epoch 8/20\n",
            "63/63 [==============================] - 1s 16ms/step - loss: 0.7230 - accuracy: 0.8112 - val_loss: 1.3064 - val_accuracy: 0.7110\n",
            "Epoch 9/20\n",
            "63/63 [==============================] - 1s 16ms/step - loss: 0.7003 - accuracy: 0.8193 - val_loss: 1.2973 - val_accuracy: 0.7250\n",
            "Epoch 10/20\n",
            "63/63 [==============================] - 1s 16ms/step - loss: 0.6137 - accuracy: 0.8379 - val_loss: 1.3380 - val_accuracy: 0.7290\n",
            "Epoch 11/20\n",
            "63/63 [==============================] - 1s 16ms/step - loss: 0.5913 - accuracy: 0.8460 - val_loss: 1.3983 - val_accuracy: 0.7260\n",
            "Epoch 12/20\n",
            "63/63 [==============================] - 1s 16ms/step - loss: 0.5358 - accuracy: 0.8575 - val_loss: 1.3927 - val_accuracy: 0.7300\n",
            "Epoch 13/20\n",
            "63/63 [==============================] - 1s 16ms/step - loss: 0.5092 - accuracy: 0.8660 - val_loss: 1.4866 - val_accuracy: 0.7190\n",
            "Epoch 14/20\n",
            "63/63 [==============================] - 1s 16ms/step - loss: 0.4893 - accuracy: 0.8726 - val_loss: 1.5180 - val_accuracy: 0.7160\n",
            "Epoch 15/20\n",
            "63/63 [==============================] - 1s 16ms/step - loss: 0.4433 - accuracy: 0.8778 - val_loss: 1.5713 - val_accuracy: 0.7270\n",
            "Epoch 16/20\n",
            "63/63 [==============================] - 1s 16ms/step - loss: 0.4109 - accuracy: 0.8907 - val_loss: 1.6524 - val_accuracy: 0.7140\n",
            "Epoch 17/20\n",
            "63/63 [==============================] - 1s 16ms/step - loss: 0.4037 - accuracy: 0.8926 - val_loss: 1.6774 - val_accuracy: 0.7240\n",
            "Epoch 18/20\n",
            "63/63 [==============================] - 1s 16ms/step - loss: 0.3824 - accuracy: 0.8942 - val_loss: 1.7719 - val_accuracy: 0.7240\n",
            "Epoch 19/20\n",
            "63/63 [==============================] - 1s 16ms/step - loss: 0.3601 - accuracy: 0.9025 - val_loss: 1.7758 - val_accuracy: 0.7180\n",
            "Epoch 20/20\n",
            "63/63 [==============================] - 1s 16ms/step - loss: 0.3460 - accuracy: 0.9041 - val_loss: 1.8777 - val_accuracy: 0.7150\n"
          ],
          "name": "stdout"
        },
        {
          "output_type": "execute_result",
          "data": {
            "text/plain": [
              "<tensorflow.python.keras.callbacks.History at 0x7f0e0aa0bda0>"
            ]
          },
          "metadata": {
            "tags": []
          },
          "execution_count": 80
        }
      ]
    },
    {
      "cell_type": "code",
      "metadata": {
        "colab": {
          "base_uri": "https://localhost:8080/"
        },
        "id": "0OaOB-O0i4Qn",
        "outputId": "59ed6d25-5d8d-46fa-b335-26049a9fc476"
      },
      "source": [
        "model.summary()"
      ],
      "execution_count": null,
      "outputs": [
        {
          "output_type": "stream",
          "text": [
            "Model: \"sequential_4\"\n",
            "_________________________________________________________________\n",
            "Layer (type)                 Output Shape              Param #   \n",
            "=================================================================\n",
            "dense_12 (Dense)             (None, 64)                640064    \n",
            "_________________________________________________________________\n",
            "dense_13 (Dense)             (None, 4)                 260       \n",
            "_________________________________________________________________\n",
            "dense_14 (Dense)             (None, 46)                230       \n",
            "=================================================================\n",
            "Total params: 640,554\n",
            "Trainable params: 640,554\n",
            "Non-trainable params: 0\n",
            "_________________________________________________________________\n"
          ],
          "name": "stdout"
        }
      ]
    },
    {
      "cell_type": "code",
      "metadata": {
        "id": "Y_BxHYW9jCOe"
      },
      "source": [
        ""
      ],
      "execution_count": null,
      "outputs": []
    }
  ]
}