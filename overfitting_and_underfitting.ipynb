{
  "nbformat": 4,
  "nbformat_minor": 0,
  "metadata": {
    "colab": {
      "name": "overfitting and underfitting.ipynb",
      "provenance": [],
      "toc_visible": true,
      "authorship_tag": "ABX9TyPA0sh+nHe/Z56zTFwgArIt"
    },
    "kernelspec": {
      "name": "python3",
      "display_name": "Python 3"
    }
  },
  "cells": [
    {
      "cell_type": "markdown",
      "metadata": {
        "id": "iopmnGX-lReT"
      },
      "source": [
        "# **과대적합과 과소적합**"
      ]
    },
    {
      "cell_type": "markdown",
      "metadata": {
        "id": "dUmuatslRU5o"
      },
      "source": [
        "##  * IMDB dataset"
      ]
    },
    {
      "cell_type": "code",
      "metadata": {
        "id": "Y_BxHYW9jCOe",
        "colab": {
          "base_uri": "https://localhost:8080/"
        },
        "outputId": "b5729d2f-f559-435b-eeb1-1a64e8ce32e1"
      },
      "source": [
        "from keras.datasets import imdb\r\n",
        "import numpy as np\r\n",
        "\r\n",
        "(traindata,trainlabels),(testdata, testlabels) = imdb.load_data(num_words=10000)\r\n",
        "\r\n",
        "def vectorize_sequence (seq, dimension=10000):\r\n",
        "  results = np.zeros((len(seq),dimension)) # 영행렬 생성\r\n",
        "  for i, seq in enumerate(seq):\r\n",
        "    results[i,seq] = 1. # 값을 0에서 1로 변경\r\n",
        "  return results\r\n",
        "\r\n",
        "# data를 벡터로 변환\r\n",
        "xtrain = vectorize_sequence(traindata)\r\n",
        "xtest = vectorize_sequence(testdata)\r\n",
        "\r\n",
        "# label을 벡터로 변환\r\n",
        "ytrain=np.asarray(trainlabels).astype('float32')\r\n",
        "ytest=np.asarray(testlabels).astype('float32')"
      ],
      "execution_count": null,
      "outputs": [
        {
          "output_type": "stream",
          "text": [
            "Downloading data from https://storage.googleapis.com/tensorflow/tf-keras-datasets/imdb.npz\n",
            "17465344/17464789 [==============================] - 0s 0us/step\n"
          ],
          "name": "stdout"
        },
        {
          "output_type": "stream",
          "text": [
            "<string>:6: VisibleDeprecationWarning: Creating an ndarray from ragged nested sequences (which is a list-or-tuple of lists-or-tuples-or ndarrays with different lengths or shapes) is deprecated. If you meant to do this, you must specify 'dtype=object' when creating the ndarray\n",
            "/usr/local/lib/python3.6/dist-packages/tensorflow/python/keras/datasets/imdb.py:159: VisibleDeprecationWarning: Creating an ndarray from ragged nested sequences (which is a list-or-tuple of lists-or-tuples-or ndarrays with different lengths or shapes) is deprecated. If you meant to do this, you must specify 'dtype=object' when creating the ndarray\n",
            "  x_train, y_train = np.array(xs[:idx]), np.array(labels[:idx])\n",
            "/usr/local/lib/python3.6/dist-packages/tensorflow/python/keras/datasets/imdb.py:160: VisibleDeprecationWarning: Creating an ndarray from ragged nested sequences (which is a list-or-tuple of lists-or-tuples-or ndarrays with different lengths or shapes) is deprecated. If you meant to do this, you must specify 'dtype=object' when creating the ndarray\n",
            "  x_test, y_test = np.array(xs[idx:]), np.array(labels[idx:])\n"
          ],
          "name": "stderr"
        }
      ]
    },
    {
      "cell_type": "markdown",
      "metadata": {
        "id": "3ndHa8oqSr6i"
      },
      "source": [
        "## * 1) 네트워크 크기 축소"
      ]
    },
    {
      "cell_type": "markdown",
      "metadata": {
        "id": "2BusBkSPTymw"
      },
      "source": [
        "영화 리뷰 분류 모델의 원래 네트워크"
      ]
    },
    {
      "cell_type": "code",
      "metadata": {
        "id": "MZEM91rvSjMp"
      },
      "source": [
        "from keras import models,layers\r\n",
        "\r\n",
        "original_model = models.Sequential()\r\n",
        "original_model.add(layers.Dense(16, activation='relu', input_shape=(10000,)))\r\n",
        "original_model.add(layers.Dense(16, activation='relu'))\r\n",
        "original_model.add(layers.Dense(1, activation='sigmoid'))\r\n",
        "\r\n",
        "original_model.compile(optimizer='rmsprop',\r\n",
        "                       loss='binary_crossentropy',\r\n",
        "                       metrics=['acc'])"
      ],
      "execution_count": null,
      "outputs": []
    },
    {
      "cell_type": "code",
      "metadata": {
        "colab": {
          "base_uri": "https://localhost:8080/"
        },
        "id": "KcZWITFaWQTC",
        "outputId": "c64c07bf-2931-4188-c265-f8b08db96b0b"
      },
      "source": [
        "original_model.summary()"
      ],
      "execution_count": null,
      "outputs": [
        {
          "output_type": "stream",
          "text": [
            "Model: \"sequential\"\n",
            "_________________________________________________________________\n",
            "Layer (type)                 Output Shape              Param #   \n",
            "=================================================================\n",
            "dense (Dense)                (None, 16)                160016    \n",
            "_________________________________________________________________\n",
            "dense_1 (Dense)              (None, 16)                272       \n",
            "_________________________________________________________________\n",
            "dense_2 (Dense)              (None, 1)                 17        \n",
            "=================================================================\n",
            "Total params: 160,305\n",
            "Trainable params: 160,305\n",
            "Non-trainable params: 0\n",
            "_________________________________________________________________\n"
          ],
          "name": "stdout"
        }
      ]
    },
    {
      "cell_type": "markdown",
      "metadata": {
        "id": "bB1kP5FtT4Fh"
      },
      "source": [
        "네트워크 크기 축소 (16->6)"
      ]
    },
    {
      "cell_type": "code",
      "metadata": {
        "id": "qtacM03QT3bt"
      },
      "source": [
        "# 모델에 있는 학습 파라미터의 수(=모델의 기억 용량)을 줄인다\r\n",
        "# 파라미터 수는 층의 수와 각 층의 유닛 수에 의해 결정된다\r\n",
        "smaller_model = models.Sequential()\r\n",
        "smaller_model.add(layers.Dense(6, activation='relu', input_shape=(10000,)))\r\n",
        "smaller_model.add(layers.Dense(6, activation='relu'))\r\n",
        "smaller_model.add(layers.Dense(1, activation='sigmoid'))\r\n",
        "\r\n",
        "smaller_model.compile(optimizer='rmsprop',\r\n",
        "                      loss='binary_crossentropy',\r\n",
        "                      metrics=['acc'])"
      ],
      "execution_count": null,
      "outputs": []
    },
    {
      "cell_type": "code",
      "metadata": {
        "colab": {
          "base_uri": "https://localhost:8080/"
        },
        "id": "9jDEj65yWUlu",
        "outputId": "3b7abfe0-b641-4ed1-e71d-dce6812d2354"
      },
      "source": [
        "smaller_model.summary()"
      ],
      "execution_count": null,
      "outputs": [
        {
          "output_type": "stream",
          "text": [
            "Model: \"sequential_1\"\n",
            "_________________________________________________________________\n",
            "Layer (type)                 Output Shape              Param #   \n",
            "=================================================================\n",
            "dense_3 (Dense)              (None, 6)                 60006     \n",
            "_________________________________________________________________\n",
            "dense_4 (Dense)              (None, 6)                 42        \n",
            "_________________________________________________________________\n",
            "dense_5 (Dense)              (None, 1)                 7         \n",
            "=================================================================\n",
            "Total params: 60,055\n",
            "Trainable params: 60,055\n",
            "Non-trainable params: 0\n",
            "_________________________________________________________________\n"
          ],
          "name": "stdout"
        }
      ]
    },
    {
      "cell_type": "markdown",
      "metadata": {
        "id": "4jHO76oxVRC-"
      },
      "source": [
        "pyplot을 활용해  \r\n",
        "original_model과 smaller_model의 두 네트워크의 검증 손실을 비교"
      ]
    },
    {
      "cell_type": "code",
      "metadata": {
        "colab": {
          "base_uri": "https://localhost:8080/"
        },
        "id": "-8W5evkxVP7V",
        "outputId": "07091a86-3ec2-40fd-9dca-d0d6d9800a73"
      },
      "source": [
        "original_hist = original_model.fit(xtrain, ytrain,\r\n",
        "                                   epochs=20,\r\n",
        "                                   batch_size=512,\r\n",
        "                                   validation_data=(xtest, ytest))"
      ],
      "execution_count": null,
      "outputs": [
        {
          "output_type": "stream",
          "text": [
            "Epoch 1/20\n",
            "49/49 [==============================] - 3s 52ms/step - loss: 0.5244 - acc: 0.7507 - val_loss: 0.3197 - val_acc: 0.8840\n",
            "Epoch 2/20\n",
            "49/49 [==============================] - 2s 37ms/step - loss: 0.2559 - acc: 0.9129 - val_loss: 0.2814 - val_acc: 0.8892\n",
            "Epoch 3/20\n",
            "49/49 [==============================] - 2s 42ms/step - loss: 0.1908 - acc: 0.9345 - val_loss: 0.3119 - val_acc: 0.8736\n",
            "Epoch 4/20\n",
            "49/49 [==============================] - 2s 38ms/step - loss: 0.1599 - acc: 0.9445 - val_loss: 0.3006 - val_acc: 0.8817\n",
            "Epoch 5/20\n",
            "49/49 [==============================] - 2s 38ms/step - loss: 0.1389 - acc: 0.9543 - val_loss: 0.3399 - val_acc: 0.8714\n",
            "Epoch 6/20\n",
            "49/49 [==============================] - 2s 38ms/step - loss: 0.1194 - acc: 0.9605 - val_loss: 0.3450 - val_acc: 0.8727\n",
            "Epoch 7/20\n",
            "49/49 [==============================] - 2s 38ms/step - loss: 0.1008 - acc: 0.9670 - val_loss: 0.4182 - val_acc: 0.8578\n",
            "Epoch 8/20\n",
            "49/49 [==============================] - 2s 38ms/step - loss: 0.0904 - acc: 0.9715 - val_loss: 0.3996 - val_acc: 0.8671\n",
            "Epoch 9/20\n",
            "49/49 [==============================] - 2s 37ms/step - loss: 0.0847 - acc: 0.9732 - val_loss: 0.4273 - val_acc: 0.8647\n",
            "Epoch 10/20\n",
            "49/49 [==============================] - 2s 37ms/step - loss: 0.0734 - acc: 0.9767 - val_loss: 0.4686 - val_acc: 0.8598\n",
            "Epoch 11/20\n",
            "49/49 [==============================] - 2s 37ms/step - loss: 0.0646 - acc: 0.9807 - val_loss: 0.4966 - val_acc: 0.8583\n",
            "Epoch 12/20\n",
            "49/49 [==============================] - 2s 38ms/step - loss: 0.0591 - acc: 0.9821 - val_loss: 0.5228 - val_acc: 0.8571\n",
            "Epoch 13/20\n",
            "49/49 [==============================] - 2s 37ms/step - loss: 0.0497 - acc: 0.9849 - val_loss: 0.5901 - val_acc: 0.8515\n",
            "Epoch 14/20\n",
            "49/49 [==============================] - 2s 38ms/step - loss: 0.0447 - acc: 0.9870 - val_loss: 0.6012 - val_acc: 0.8523\n",
            "Epoch 15/20\n",
            "49/49 [==============================] - 2s 37ms/step - loss: 0.0379 - acc: 0.9895 - val_loss: 0.6460 - val_acc: 0.8498\n",
            "Epoch 16/20\n",
            "49/49 [==============================] - 2s 37ms/step - loss: 0.0313 - acc: 0.9919 - val_loss: 0.6632 - val_acc: 0.8516\n",
            "Epoch 17/20\n",
            "49/49 [==============================] - 2s 38ms/step - loss: 0.0285 - acc: 0.9925 - val_loss: 0.7054 - val_acc: 0.8494\n",
            "Epoch 18/20\n",
            "49/49 [==============================] - 2s 37ms/step - loss: 0.0255 - acc: 0.9936 - val_loss: 0.7342 - val_acc: 0.8500\n",
            "Epoch 19/20\n",
            "49/49 [==============================] - 2s 37ms/step - loss: 0.0260 - acc: 0.9923 - val_loss: 0.7678 - val_acc: 0.8494\n",
            "Epoch 20/20\n",
            "49/49 [==============================] - 2s 37ms/step - loss: 0.0180 - acc: 0.9961 - val_loss: 0.8224 - val_acc: 0.8472\n"
          ],
          "name": "stdout"
        }
      ]
    },
    {
      "cell_type": "code",
      "metadata": {
        "colab": {
          "base_uri": "https://localhost:8080/"
        },
        "id": "u6rgEq3xVc-j",
        "outputId": "8d6eacd0-3284-42e3-bb06-9f5eb9e6b74b"
      },
      "source": [
        "smaller_model_hist = smaller_model.fit(xtrain, ytrain,\r\n",
        "                                       epochs=20,\r\n",
        "                                       batch_size=512,\r\n",
        "                                       validation_data=(xtest, ytest))"
      ],
      "execution_count": null,
      "outputs": [
        {
          "output_type": "stream",
          "text": [
            "Epoch 1/20\n",
            "49/49 [==============================] - 3s 49ms/step - loss: 0.6357 - acc: 0.6624 - val_loss: 0.4909 - val_acc: 0.8619\n",
            "Epoch 2/20\n",
            "49/49 [==============================] - 2s 35ms/step - loss: 0.4294 - acc: 0.8844 - val_loss: 0.3744 - val_acc: 0.8781\n",
            "Epoch 3/20\n",
            "49/49 [==============================] - 2s 35ms/step - loss: 0.3102 - acc: 0.9107 - val_loss: 0.3134 - val_acc: 0.8873\n",
            "Epoch 4/20\n",
            "49/49 [==============================] - 2s 35ms/step - loss: 0.2436 - acc: 0.9246 - val_loss: 0.3032 - val_acc: 0.8802\n",
            "Epoch 5/20\n",
            "49/49 [==============================] - 2s 35ms/step - loss: 0.2021 - acc: 0.9338 - val_loss: 0.2832 - val_acc: 0.8875\n",
            "Epoch 6/20\n",
            "49/49 [==============================] - 2s 34ms/step - loss: 0.1765 - acc: 0.9400 - val_loss: 0.2815 - val_acc: 0.8879\n",
            "Epoch 7/20\n",
            "49/49 [==============================] - 2s 34ms/step - loss: 0.1537 - acc: 0.9502 - val_loss: 0.2885 - val_acc: 0.8869\n",
            "Epoch 8/20\n",
            "49/49 [==============================] - 2s 34ms/step - loss: 0.1396 - acc: 0.9552 - val_loss: 0.3085 - val_acc: 0.8794\n",
            "Epoch 9/20\n",
            "49/49 [==============================] - 2s 34ms/step - loss: 0.1287 - acc: 0.9586 - val_loss: 0.3136 - val_acc: 0.8803\n",
            "Epoch 10/20\n",
            "49/49 [==============================] - 2s 34ms/step - loss: 0.1133 - acc: 0.9658 - val_loss: 0.3300 - val_acc: 0.8772\n",
            "Epoch 11/20\n",
            "49/49 [==============================] - 2s 34ms/step - loss: 0.1045 - acc: 0.9672 - val_loss: 0.3467 - val_acc: 0.8742\n",
            "Epoch 12/20\n",
            "49/49 [==============================] - 2s 34ms/step - loss: 0.0995 - acc: 0.9702 - val_loss: 0.3621 - val_acc: 0.8727\n",
            "Epoch 13/20\n",
            "49/49 [==============================] - 2s 34ms/step - loss: 0.0869 - acc: 0.9750 - val_loss: 0.3813 - val_acc: 0.8703\n",
            "Epoch 14/20\n",
            "49/49 [==============================] - 2s 34ms/step - loss: 0.0800 - acc: 0.9776 - val_loss: 0.3978 - val_acc: 0.8687\n",
            "Epoch 15/20\n",
            "49/49 [==============================] - 2s 34ms/step - loss: 0.0737 - acc: 0.9797 - val_loss: 0.4172 - val_acc: 0.8668\n",
            "Epoch 16/20\n",
            "49/49 [==============================] - 2s 34ms/step - loss: 0.0705 - acc: 0.9802 - val_loss: 0.4372 - val_acc: 0.8660\n",
            "Epoch 17/20\n",
            "49/49 [==============================] - 2s 34ms/step - loss: 0.0641 - acc: 0.9830 - val_loss: 0.4667 - val_acc: 0.8607\n",
            "Epoch 18/20\n",
            "49/49 [==============================] - 2s 35ms/step - loss: 0.0551 - acc: 0.9861 - val_loss: 0.4872 - val_acc: 0.8620\n",
            "Epoch 19/20\n",
            "49/49 [==============================] - 2s 34ms/step - loss: 0.0492 - acc: 0.9877 - val_loss: 0.5058 - val_acc: 0.8601\n",
            "Epoch 20/20\n",
            "49/49 [==============================] - 2s 34ms/step - loss: 0.0451 - acc: 0.9900 - val_loss: 0.5338 - val_acc: 0.8575\n"
          ],
          "name": "stdout"
        }
      ]
    },
    {
      "cell_type": "code",
      "metadata": {
        "colab": {
          "base_uri": "https://localhost:8080/",
          "height": 312
        },
        "id": "dk9SN15iV4rO",
        "outputId": "db42ee10-8fd7-4dca-b424-dc17f7a40ad7"
      },
      "source": [
        "import matplotlib.pyplot as plt\r\n",
        "\r\n",
        "\r\n",
        "epochs = range(1, 21) # 1~20\r\n",
        "original_val_loss = original_hist.history['val_loss']\r\n",
        "smaller_model_val_loss = smaller_model_hist.history['val_loss']\r\n",
        "\r\n",
        "plt.plot(epochs, original_val_loss, 'b+', label='Original model')\r\n",
        "plt.plot(epochs, smaller_model_val_loss, 'bo', label='Smaller model')\r\n",
        "plt.xlabel('Epochs')\r\n",
        "plt.ylabel('Validation loss')\r\n",
        "plt.title('Validation loss Comparision')\r\n",
        "plt.legend()"
      ],
      "execution_count": null,
      "outputs": [
        {
          "output_type": "execute_result",
          "data": {
            "text/plain": [
              "<matplotlib.legend.Legend at 0x7f325f091898>"
            ]
          },
          "metadata": {
            "tags": []
          },
          "execution_count": 13
        },
        {
          "output_type": "display_data",
          "data": {
            "image/png": "[encoded data removed]",
            "text/plain": [
              "<Figure size 432x288 with 1 Axes>"
            ]
          },
          "metadata": {
            "tags": [],
            "needs_background": "light"
          }
        }
      ]
    },
    {
      "cell_type": "markdown",
      "metadata": {
        "id": "VRIK3-LqWayq"
      },
      "source": [
        "각 층의 유닛 수가 더 작은 네트워크가 더 나중에 과대적합되기 시작하고, 과대적합이 시작된 후에 성능이 더 천천히 감소된다는 것을 알 수 있다."
      ]
    },
    {
      "cell_type": "markdown",
      "metadata": {
        "id": "-iZf732WXQp4"
      },
      "source": [
        "+) 더 큰 용량을 가진 네트워크와 비교"
      ]
    },
    {
      "cell_type": "code",
      "metadata": {
        "id": "I2xoJ8nDWYcg"
      },
      "source": [
        "bigger_model = models.Sequential()\r\n",
        "bigger_model.add(layers.Dense(1024, activation='relu', input_shape=(10000,)))\r\n",
        "bigger_model.add(layers.Dense(1024, activation='relu'))\r\n",
        "bigger_model.add(layers.Dense(1, activation='sigmoid'))\r\n",
        "\r\n",
        "bigger_model.compile(optimizer='rmsprop',\r\n",
        "                     loss='binary_crossentropy',\r\n",
        "                     metrics=['acc'])"
      ],
      "execution_count": null,
      "outputs": []
    },
    {
      "cell_type": "code",
      "metadata": {
        "colab": {
          "base_uri": "https://localhost:8080/"
        },
        "id": "twxtTMTyXcMM",
        "outputId": "1467676d-3631-4c75-a84d-5aa2d5172c1e"
      },
      "source": [
        "bigger_model_hist = bigger_model.fit(xtrain, ytrain,\r\n",
        "                                     epochs=20,\r\n",
        "                                     batch_size=512,\r\n",
        "                                     validation_data=(xtest, ytest))"
      ],
      "execution_count": null,
      "outputs": [
        {
          "output_type": "stream",
          "text": [
            "Epoch 1/20\n",
            "49/49 [==============================] - 24s 488ms/step - loss: 0.7912 - acc: 0.6871 - val_loss: 0.2878 - val_acc: 0.8834\n",
            "Epoch 2/20\n",
            "49/49 [==============================] - 23s 468ms/step - loss: 0.2308 - acc: 0.9121 - val_loss: 0.2718 - val_acc: 0.8900\n",
            "Epoch 3/20\n",
            "49/49 [==============================] - 23s 467ms/step - loss: 0.1152 - acc: 0.9587 - val_loss: 0.4289 - val_acc: 0.8643\n",
            "Epoch 4/20\n",
            "49/49 [==============================] - 23s 465ms/step - loss: 0.0812 - acc: 0.9776 - val_loss: 0.5904 - val_acc: 0.8000\n",
            "Epoch 5/20\n",
            "49/49 [==============================] - 23s 465ms/step - loss: 0.0266 - acc: 0.9950 - val_loss: 0.3894 - val_acc: 0.8850\n",
            "Epoch 6/20\n",
            "49/49 [==============================] - 23s 471ms/step - loss: 0.0021 - acc: 1.0000 - val_loss: 1.3646 - val_acc: 0.7918\n",
            "Epoch 7/20\n",
            "49/49 [==============================] - 23s 468ms/step - loss: 0.3676 - acc: 0.9568 - val_loss: 0.6381 - val_acc: 0.8852\n",
            "Epoch 8/20\n",
            "49/49 [==============================] - 23s 469ms/step - loss: 8.1863e-05 - acc: 1.0000 - val_loss: 0.7662 - val_acc: 0.8850\n",
            "Epoch 9/20\n",
            "49/49 [==============================] - 23s 471ms/step - loss: 1.1985e-05 - acc: 1.0000 - val_loss: 0.8971 - val_acc: 0.8837\n",
            "Epoch 10/20\n",
            "49/49 [==============================] - 23s 473ms/step - loss: 1.5108e-06 - acc: 1.0000 - val_loss: 1.0531 - val_acc: 0.8842\n",
            "Epoch 11/20\n",
            "49/49 [==============================] - 23s 469ms/step - loss: 2.0095e-07 - acc: 1.0000 - val_loss: 1.1787 - val_acc: 0.8846\n",
            "Epoch 12/20\n",
            "49/49 [==============================] - 23s 471ms/step - loss: 4.3977e-08 - acc: 1.0000 - val_loss: 1.2707 - val_acc: 0.8842\n",
            "Epoch 13/20\n",
            "49/49 [==============================] - 23s 470ms/step - loss: 1.6462e-08 - acc: 1.0000 - val_loss: 1.3192 - val_acc: 0.8842\n",
            "Epoch 14/20\n",
            "49/49 [==============================] - 23s 468ms/step - loss: 1.0769e-08 - acc: 1.0000 - val_loss: 1.3490 - val_acc: 0.8841\n",
            "Epoch 15/20\n",
            "49/49 [==============================] - 23s 468ms/step - loss: 7.3305e-09 - acc: 1.0000 - val_loss: 1.3689 - val_acc: 0.8842\n",
            "Epoch 16/20\n",
            "49/49 [==============================] - 23s 470ms/step - loss: 5.6919e-09 - acc: 1.0000 - val_loss: 1.3852 - val_acc: 0.8840\n",
            "Epoch 17/20\n",
            "49/49 [==============================] - 23s 470ms/step - loss: 4.6856e-09 - acc: 1.0000 - val_loss: 1.3973 - val_acc: 0.8841\n",
            "Epoch 18/20\n",
            "49/49 [==============================] - 23s 470ms/step - loss: 4.0426e-09 - acc: 1.0000 - val_loss: 1.4085 - val_acc: 0.8840\n",
            "Epoch 19/20\n",
            "49/49 [==============================] - 23s 469ms/step - loss: 3.4762e-09 - acc: 1.0000 - val_loss: 1.4175 - val_acc: 0.8840\n",
            "Epoch 20/20\n",
            "49/49 [==============================] - 23s 470ms/step - loss: 3.0209e-09 - acc: 1.0000 - val_loss: 1.4261 - val_acc: 0.8838\n"
          ],
          "name": "stdout"
        }
      ]
    },
    {
      "cell_type": "code",
      "metadata": {
        "colab": {
          "base_uri": "https://localhost:8080/",
          "height": 312
        },
        "id": "p-6_1oycXjL2",
        "outputId": "1ebc7b64-2972-4aaf-fc84-93f59d757a49"
      },
      "source": [
        "bigger_model_val_loss = bigger_model_hist.history['val_loss']\r\n",
        "\r\n",
        "plt.plot(epochs, original_val_loss, 'b+', label='Original model')\r\n",
        "plt.plot(epochs, bigger_model_val_loss, 'bo', label='Bigger model')\r\n",
        "plt.xlabel('Epochs')\r\n",
        "plt.ylabel('Validation loss')\r\n",
        "plt.title('Validation loss Comparision')\r\n",
        "plt.legend()"
      ],
      "execution_count": null,
      "outputs": [
        {
          "output_type": "execute_result",
          "data": {
            "text/plain": [
              "<matplotlib.legend.Legend at 0x7f325f866be0>"
            ]
          },
          "metadata": {
            "tags": []
          },
          "execution_count": 16
        },
        {
          "output_type": "display_data",
          "data": {
            "image/png": "[encoded data removed]",
            "text/plain": [
              "<Figure size 432x288 with 1 Axes>"
            ]
          },
          "metadata": {
            "tags": [],
            "needs_background": "light"
          }
        }
      ]
    },
    {
      "cell_type": "markdown",
      "metadata": {
        "id": "qMx4pqN-YBdE"
      },
      "source": [
        "용량이 더 큰 네트워크는 과대적합이 매우 빠르게 시작되고, 불안정한 검증 손실을 보인다.  \r\n",
        "bigger_model과 original_model의 training loss 비교 그래프는 다음과 같다.  "
      ]
    },
    {
      "cell_type": "code",
      "metadata": {
        "colab": {
          "base_uri": "https://localhost:8080/",
          "height": 297
        },
        "id": "lRnBVUzQYAPm",
        "outputId": "12cdfbb1-58e8-41e2-e6c5-e9211ebb3c0f"
      },
      "source": [
        "original_train_loss = original_hist.history['loss']\r\n",
        "bigger_model_train_loss = bigger_model_hist.history['loss']\r\n",
        "\r\n",
        "plt.plot(epochs, original_train_loss, 'b+', label='Original model')\r\n",
        "plt.plot(epochs, bigger_model_train_loss, 'bo', label='Bigger model')\r\n",
        "plt.xlabel('Epochs')\r\n",
        "plt.ylabel('Training loss')\r\n",
        "plt.legend()"
      ],
      "execution_count": null,
      "outputs": [
        {
          "output_type": "execute_result",
          "data": {
            "text/plain": [
              "<matplotlib.legend.Legend at 0x7f3260740710>"
            ]
          },
          "metadata": {
            "tags": []
          },
          "execution_count": 18
        },
        {
          "output_type": "display_data",
          "data": {
            "image/png": "[encoded data removed]",
            "text/plain": [
              "<Figure size 432x288 with 1 Axes>"
            ]
          },
          "metadata": {
            "tags": [],
            "needs_background": "light"
          }
        }
      ]
    },
    {
      "cell_type": "markdown",
      "metadata": {
        "id": "oy2STDYHdugN"
      },
      "source": [
        "용량이 더 큰 네트워크는 훈련 손실이 빠르게 0에 가까워지므로, 더 빠르게 훈련 데이터를 모델링 할 수 있다. 이는 곧 과대적합에 더 민감해진다는 의미이다."
      ]
    },
    {
      "cell_type": "markdown",
      "metadata": {
        "id": "x1pT-SA1e96m"
      },
      "source": [
        "## * 2) 가중치 규제 추가"
      ]
    },
    {
      "cell_type": "markdown",
      "metadata": {
        "id": "bZR0lrhzos9J"
      },
      "source": [
        "간단한 모델(파라미터 값 분포의 엔트로피가 작은 모델, 적은 수의 파라미터를 가진 모델)이  \r\n",
        "복잡한 모델보다 과대적합 될 가능성이 낮다.  \r\n",
        "네트워크의 복잡도에 제한을 두어 가중치가 작은 값을 가지도록 강제하는 것이 가중치 규제이다."
      ]
    },
    {
      "cell_type": "markdown",
      "metadata": {
        "id": "fjUyxpG2rrrR"
      },
      "source": [
        "### 2-1) L2 규제"
      ]
    },
    {
      "cell_type": "code",
      "metadata": {
        "id": "pcikGyjeadbW"
      },
      "source": [
        "# L2 규제 : 가중치의 제곱에 비례하는 비용이 추가\r\n",
        "# l2(0.001) : 가중치 행렬의 모든 원소를 제곱하고, 0.001을 곱해서 네트워크의 전체 손실에 더한다.\r\n",
        "from keras import regularizers\r\n",
        "\r\n",
        "l2_model = models.Sequential()\r\n",
        "l2_model.add(layers.Dense(16, kernel_regularizer=regularizers.l2(0.001),\r\n",
        "                          activation='relu', input_shape=(10000,)))\r\n",
        "l2_model.add(layers.Dense(16, kernel_regularizer=regularizers.l2(0.001),\r\n",
        "                          activation='relu'))\r\n",
        "l2_model.add(layers.Dense(1, activation='sigmoid'))"
      ],
      "execution_count": null,
      "outputs": []
    },
    {
      "cell_type": "code",
      "metadata": {
        "colab": {
          "base_uri": "https://localhost:8080/"
        },
        "id": "H8YD1JscpZ42",
        "outputId": "aafb01b5-a3ef-4a57-85f5-f6f9750dc46f"
      },
      "source": [
        "l2_model.summary()"
      ],
      "execution_count": null,
      "outputs": [
        {
          "output_type": "stream",
          "text": [
            "Model: \"sequential_3\"\n",
            "_________________________________________________________________\n",
            "Layer (type)                 Output Shape              Param #   \n",
            "=================================================================\n",
            "dense_9 (Dense)              (None, 16)                160016    \n",
            "_________________________________________________________________\n",
            "dense_10 (Dense)             (None, 16)                272       \n",
            "_________________________________________________________________\n",
            "dense_11 (Dense)             (None, 1)                 17        \n",
            "=================================================================\n",
            "Total params: 160,305\n",
            "Trainable params: 160,305\n",
            "Non-trainable params: 0\n",
            "_________________________________________________________________\n"
          ],
          "name": "stdout"
        }
      ]
    },
    {
      "cell_type": "code",
      "metadata": {
        "id": "Vaa0SLq3pZP7"
      },
      "source": [
        "l2_model.compile(optimizer='rmsprop',\r\n",
        "                 loss='binary_crossentropy',\r\n",
        "                 metrics=['acc'])"
      ],
      "execution_count": null,
      "outputs": []
    },
    {
      "cell_type": "markdown",
      "metadata": {
        "id": "m1unH95Uqrfp"
      },
      "source": [
        "L2-regularized model과 original model의 validation loss를 시각화해 비교"
      ]
    },
    {
      "cell_type": "code",
      "metadata": {
        "colab": {
          "base_uri": "https://localhost:8080/"
        },
        "id": "b2HiJJW7qNmI",
        "outputId": "67566b48-8077-486d-9c7c-6d536220f289"
      },
      "source": [
        "l2_model_hist = l2_model.fit(xtrain, ytrain,\r\n",
        "                             epochs=20,\r\n",
        "                             batch_size=512,\r\n",
        "                             validation_data=(xtest, ytest))"
      ],
      "execution_count": null,
      "outputs": [
        {
          "output_type": "stream",
          "text": [
            "Epoch 1/20\n",
            "49/49 [==============================] - 4s 81ms/step - loss: 0.5844 - acc: 0.7492 - val_loss: 0.3971 - val_acc: 0.8691\n",
            "Epoch 2/20\n",
            "49/49 [==============================] - 2s 39ms/step - loss: 0.3310 - acc: 0.9042 - val_loss: 0.3367 - val_acc: 0.8869\n",
            "Epoch 3/20\n",
            "49/49 [==============================] - 2s 39ms/step - loss: 0.2659 - acc: 0.9251 - val_loss: 0.3288 - val_acc: 0.8888\n",
            "Epoch 4/20\n",
            "49/49 [==============================] - 2s 42ms/step - loss: 0.2479 - acc: 0.9288 - val_loss: 0.3370 - val_acc: 0.8852\n",
            "Epoch 5/20\n",
            "49/49 [==============================] - 2s 45ms/step - loss: 0.2286 - acc: 0.9410 - val_loss: 0.3399 - val_acc: 0.8850\n",
            "Epoch 6/20\n",
            "49/49 [==============================] - 5s 108ms/step - loss: 0.2266 - acc: 0.9376 - val_loss: 0.3535 - val_acc: 0.8793\n",
            "Epoch 7/20\n",
            "49/49 [==============================] - 3s 65ms/step - loss: 0.2205 - acc: 0.9421 - val_loss: 0.3709 - val_acc: 0.8738\n",
            "Epoch 8/20\n",
            "49/49 [==============================] - 2s 39ms/step - loss: 0.2077 - acc: 0.9483 - val_loss: 0.3602 - val_acc: 0.8789\n",
            "Epoch 9/20\n",
            "49/49 [==============================] - 2s 39ms/step - loss: 0.2127 - acc: 0.9447 - val_loss: 0.3664 - val_acc: 0.8786\n",
            "Epoch 10/20\n",
            "49/49 [==============================] - 2s 39ms/step - loss: 0.2011 - acc: 0.9505 - val_loss: 0.4043 - val_acc: 0.8674\n",
            "Epoch 11/20\n",
            "49/49 [==============================] - 2s 38ms/step - loss: 0.1994 - acc: 0.9521 - val_loss: 0.3986 - val_acc: 0.8684\n",
            "Epoch 12/20\n",
            "49/49 [==============================] - 2s 38ms/step - loss: 0.1972 - acc: 0.9499 - val_loss: 0.3999 - val_acc: 0.8703\n",
            "Epoch 13/20\n",
            "49/49 [==============================] - 2s 38ms/step - loss: 0.1956 - acc: 0.9503 - val_loss: 0.4078 - val_acc: 0.8677\n",
            "Epoch 14/20\n",
            "49/49 [==============================] - 2s 38ms/step - loss: 0.1860 - acc: 0.9569 - val_loss: 0.3965 - val_acc: 0.8720\n",
            "Epoch 15/20\n",
            "49/49 [==============================] - 2s 39ms/step - loss: 0.1857 - acc: 0.9555 - val_loss: 0.4249 - val_acc: 0.8645\n",
            "Epoch 16/20\n",
            "49/49 [==============================] - 2s 39ms/step - loss: 0.1802 - acc: 0.9575 - val_loss: 0.4385 - val_acc: 0.8605\n",
            "Epoch 17/20\n",
            "49/49 [==============================] - 2s 38ms/step - loss: 0.1852 - acc: 0.9545 - val_loss: 0.4209 - val_acc: 0.8689\n",
            "Epoch 18/20\n",
            "49/49 [==============================] - 2s 38ms/step - loss: 0.1711 - acc: 0.9611 - val_loss: 0.4381 - val_acc: 0.8648\n",
            "Epoch 19/20\n",
            "49/49 [==============================] - 2s 38ms/step - loss: 0.1840 - acc: 0.9565 - val_loss: 0.4239 - val_acc: 0.8686\n",
            "Epoch 20/20\n",
            "49/49 [==============================] - 2s 43ms/step - loss: 0.1714 - acc: 0.9603 - val_loss: 0.4427 - val_acc: 0.8644\n"
          ],
          "name": "stdout"
        }
      ]
    },
    {
      "cell_type": "code",
      "metadata": {
        "colab": {
          "base_uri": "https://localhost:8080/",
          "height": 297
        },
        "id": "DyiitnF8qNev",
        "outputId": "9761eb10-85be-4d67-faca-fc198bd36914"
      },
      "source": [
        "l2_model_val_loss = l2_model_hist.history['val_loss']\r\n",
        "\r\n",
        "plt.plot(epochs, original_val_loss, 'b+', label='Original model')\r\n",
        "plt.plot(epochs, l2_model_val_loss, 'ro', label='L2-regularized model')\r\n",
        "plt.xlabel('Epochs')\r\n",
        "plt.ylabel('Validation loss')\r\n",
        "plt.legend()"
      ],
      "execution_count": null,
      "outputs": [
        {
          "output_type": "execute_result",
          "data": {
            "text/plain": [
              "<matplotlib.legend.Legend at 0x7f32616d4e80>"
            ]
          },
          "metadata": {
            "tags": []
          },
          "execution_count": 25
        },
        {
          "output_type": "display_data",
          "data": {
            "image/png": "[encoded data removed]",
            "text/plain": [
              "<Figure size 432x288 with 1 Axes>"
            ]
          },
          "metadata": {
            "tags": [],
            "needs_background": "light"
          }
        }
      ]
    },
    {
      "cell_type": "markdown",
      "metadata": {
        "id": "HVh5blbUrM_m"
      },
      "source": [
        "모델의 파라미터 수(기억 용량)이 같더라도, L2-regularized model이 과대적합을 더 잘 견딘다는 것을 알 수 있다."
      ]
    },
    {
      "cell_type": "markdown",
      "metadata": {
        "id": "Lpam45bar05k"
      },
      "source": [
        "### 2-2) L1 규제"
      ]
    },
    {
      "cell_type": "code",
      "metadata": {
        "id": "3HmwWh8OqNXC"
      },
      "source": [
        "l1_model = models.Sequential()\r\n",
        "l1_model.add(layers.Dense(16, kernel_regularizer=regularizers.l1(0.0001),\r\n",
        "                          activation='relu', input_shape=(10000,)))\r\n",
        "l1_model.add(layers.Dense(16, kernel_regularizer=regularizers.l1(0.0001),\r\n",
        "                          activation='relu'))\r\n",
        "l1_model.add(layers.Dense(1, activation='sigmoid'))\r\n",
        "\r\n",
        "l1_model.compile(optimizer='rmsprop',\r\n",
        "                 loss='binary_crossentropy',\r\n",
        "                 metrics=['acc'])"
      ],
      "execution_count": null,
      "outputs": []
    },
    {
      "cell_type": "code",
      "metadata": {
        "colab": {
          "base_uri": "https://localhost:8080/"
        },
        "id": "3Wod_NBkqNK-",
        "outputId": "c3c6d4d5-2d7e-4009-e887-095fffd4ed89"
      },
      "source": [
        "l1_model_hist = l1_model.fit(xtrain, ytrain,\r\n",
        "                             epochs=20,\r\n",
        "                             batch_size=512,\r\n",
        "                             validation_data=(xtest, ytest))"
      ],
      "execution_count": null,
      "outputs": [
        {
          "output_type": "stream",
          "text": [
            "Epoch 1/20\n",
            "49/49 [==============================] - 3s 46ms/step - loss: 0.6832 - acc: 0.7490 - val_loss: 0.4465 - val_acc: 0.8755\n",
            "Epoch 2/20\n",
            "49/49 [==============================] - 2s 37ms/step - loss: 0.4044 - acc: 0.8881 - val_loss: 0.3905 - val_acc: 0.8770\n",
            "Epoch 3/20\n",
            "49/49 [==============================] - 2s 37ms/step - loss: 0.3465 - acc: 0.9041 - val_loss: 0.3683 - val_acc: 0.8840\n",
            "Epoch 4/20\n",
            "49/49 [==============================] - 2s 37ms/step - loss: 0.3264 - acc: 0.9086 - val_loss: 0.3626 - val_acc: 0.8863\n",
            "Epoch 5/20\n",
            "49/49 [==============================] - 2s 37ms/step - loss: 0.3172 - acc: 0.9109 - val_loss: 0.3589 - val_acc: 0.8868\n",
            "Epoch 6/20\n",
            "49/49 [==============================] - 2s 37ms/step - loss: 0.3044 - acc: 0.9191 - val_loss: 0.3604 - val_acc: 0.8846\n",
            "Epoch 7/20\n",
            "49/49 [==============================] - 2s 37ms/step - loss: 0.2943 - acc: 0.9197 - val_loss: 0.3614 - val_acc: 0.8849\n",
            "Epoch 8/20\n",
            "49/49 [==============================] - 2s 37ms/step - loss: 0.2877 - acc: 0.9202 - val_loss: 0.3635 - val_acc: 0.8838\n",
            "Epoch 9/20\n",
            "49/49 [==============================] - 2s 37ms/step - loss: 0.2831 - acc: 0.9244 - val_loss: 0.3835 - val_acc: 0.8804\n",
            "Epoch 10/20\n",
            "49/49 [==============================] - 2s 37ms/step - loss: 0.2746 - acc: 0.9290 - val_loss: 0.3752 - val_acc: 0.8822\n",
            "Epoch 11/20\n",
            "49/49 [==============================] - 2s 36ms/step - loss: 0.2761 - acc: 0.9297 - val_loss: 0.3748 - val_acc: 0.8810\n",
            "Epoch 12/20\n",
            "49/49 [==============================] - 2s 37ms/step - loss: 0.2688 - acc: 0.9334 - val_loss: 0.3728 - val_acc: 0.8825\n",
            "Epoch 13/20\n",
            "49/49 [==============================] - 2s 36ms/step - loss: 0.2639 - acc: 0.9334 - val_loss: 0.4021 - val_acc: 0.8736\n",
            "Epoch 14/20\n",
            "49/49 [==============================] - 2s 37ms/step - loss: 0.2684 - acc: 0.9276 - val_loss: 0.3928 - val_acc: 0.8761\n",
            "Epoch 15/20\n",
            "49/49 [==============================] - 2s 37ms/step - loss: 0.2644 - acc: 0.9330 - val_loss: 0.3787 - val_acc: 0.8813\n",
            "Epoch 16/20\n",
            "49/49 [==============================] - 2s 36ms/step - loss: 0.2559 - acc: 0.9366 - val_loss: 0.4185 - val_acc: 0.8681\n",
            "Epoch 17/20\n",
            "49/49 [==============================] - 2s 37ms/step - loss: 0.2468 - acc: 0.9406 - val_loss: 0.3893 - val_acc: 0.8765\n",
            "Epoch 18/20\n",
            "49/49 [==============================] - 2s 37ms/step - loss: 0.2458 - acc: 0.9397 - val_loss: 0.3874 - val_acc: 0.8790\n",
            "Epoch 19/20\n",
            "49/49 [==============================] - 2s 37ms/step - loss: 0.2403 - acc: 0.9414 - val_loss: 0.3912 - val_acc: 0.8786\n",
            "Epoch 20/20\n",
            "49/49 [==============================] - 2s 37ms/step - loss: 0.2329 - acc: 0.9484 - val_loss: 0.4424 - val_acc: 0.8620\n"
          ],
          "name": "stdout"
        }
      ]
    },
    {
      "cell_type": "markdown",
      "metadata": {
        "id": "ZwD17z-ysFXm"
      },
      "source": [
        "L1-regularized model과 original model의 validation loss를 시각화해 비교"
      ]
    },
    {
      "cell_type": "code",
      "metadata": {
        "colab": {
          "base_uri": "https://localhost:8080/",
          "height": 297
        },
        "id": "w45IHQnosKXk",
        "outputId": "e348aa7d-775c-4b7c-ca2a-ef811529ce1e"
      },
      "source": [
        "l1_model_val_loss = l1_model_hist.history['val_loss']\r\n",
        "\r\n",
        "plt.plot(epochs, original_val_loss, 'b+', label='Original model')\r\n",
        "plt.plot(epochs, l1_model_val_loss, 'ro', label='L1-regularized model')\r\n",
        "plt.xlabel('Epochs')\r\n",
        "plt.ylabel('Validation loss')\r\n",
        "plt.legend()\r\n",
        "\r\n",
        "# L1 모델이 과대적합을 더 잘 견딘다"
      ],
      "execution_count": null,
      "outputs": [
        {
          "output_type": "execute_result",
          "data": {
            "text/plain": [
              "<matplotlib.legend.Legend at 0x7f32624d0710>"
            ]
          },
          "metadata": {
            "tags": []
          },
          "execution_count": 30
        },
        {
          "output_type": "display_data",
          "data": {
            "image/png": "[encoded data removed]",
            "text/plain": [
              "<Figure size 432x288 with 1 Axes>"
            ]
          },
          "metadata": {
            "tags": [],
            "needs_background": "light"
          }
        }
      ]
    },
    {
      "cell_type": "markdown",
      "metadata": {
        "id": "jw4kYBE2sU4T"
      },
      "source": [
        "### 2-2) L1과 L2 규제 병행"
      ]
    },
    {
      "cell_type": "code",
      "metadata": {
        "id": "dIaTECz6sZd_"
      },
      "source": [
        "l1l2_model = models.Sequential()\r\n",
        "l1l2_model.add(layers.Dense(16, kernel_regularizer=regularizers.l1_l2(l1=0.0001, l2=0.0001),\r\n",
        "                            activation='relu', input_shape=(10000,)))\r\n",
        "l1l2_model.add(layers.Dense(16, kernel_regularizer=regularizers.l1_l2(l1=0.0001, l2=0.0001),\r\n",
        "                            activation='relu'))\r\n",
        "l1l2_model.add(layers.Dense(1, activation='sigmoid'))\r\n",
        "\r\n",
        "l1l2_model.compile(optimizer='rmsprop',\r\n",
        "                   loss='binary_crossentropy',\r\n",
        "                   metrics=['acc'])"
      ],
      "execution_count": null,
      "outputs": []
    },
    {
      "cell_type": "code",
      "metadata": {
        "colab": {
          "base_uri": "https://localhost:8080/"
        },
        "id": "j0wbudppsaZV",
        "outputId": "c4832a26-02d6-42d7-fd14-02fc0427dcd9"
      },
      "source": [
        "l1l2_model_hist = l1l2_model.fit(xtrain, ytrain,\r\n",
        "                                 epochs=20,\r\n",
        "                                 batch_size=512,\r\n",
        "                                 validation_data=(xtest, ytest))"
      ],
      "execution_count": null,
      "outputs": [
        {
          "output_type": "stream",
          "text": [
            "Epoch 1/20\n",
            "49/49 [==============================] - 4s 61ms/step - loss: 0.6767 - acc: 0.7328 - val_loss: 0.4610 - val_acc: 0.8438\n",
            "Epoch 2/20\n",
            "49/49 [==============================] - 2s 38ms/step - loss: 0.3848 - acc: 0.8931 - val_loss: 0.3735 - val_acc: 0.8892\n",
            "Epoch 3/20\n",
            "49/49 [==============================] - 2s 38ms/step - loss: 0.3321 - acc: 0.9077 - val_loss: 0.4037 - val_acc: 0.8680\n",
            "Epoch 4/20\n",
            "49/49 [==============================] - 2s 38ms/step - loss: 0.3225 - acc: 0.9090 - val_loss: 0.3799 - val_acc: 0.8769\n",
            "Epoch 5/20\n",
            "49/49 [==============================] - 2s 38ms/step - loss: 0.2976 - acc: 0.9207 - val_loss: 0.3806 - val_acc: 0.8768\n",
            "Epoch 6/20\n",
            "49/49 [==============================] - 2s 38ms/step - loss: 0.2953 - acc: 0.9201 - val_loss: 0.3656 - val_acc: 0.8862\n",
            "Epoch 7/20\n",
            "49/49 [==============================] - 2s 38ms/step - loss: 0.2792 - acc: 0.9267 - val_loss: 0.3719 - val_acc: 0.8852\n",
            "Epoch 8/20\n",
            "49/49 [==============================] - 2s 38ms/step - loss: 0.2782 - acc: 0.9298 - val_loss: 0.3753 - val_acc: 0.8820\n",
            "Epoch 9/20\n",
            "49/49 [==============================] - 2s 38ms/step - loss: 0.2765 - acc: 0.9280 - val_loss: 0.3969 - val_acc: 0.8751\n",
            "Epoch 10/20\n",
            "49/49 [==============================] - 2s 44ms/step - loss: 0.2637 - acc: 0.9328 - val_loss: 0.4390 - val_acc: 0.8598\n",
            "Epoch 11/20\n",
            "49/49 [==============================] - 2s 41ms/step - loss: 0.2665 - acc: 0.9325 - val_loss: 0.3908 - val_acc: 0.8770\n",
            "Epoch 12/20\n",
            "49/49 [==============================] - 2s 39ms/step - loss: 0.2596 - acc: 0.9382 - val_loss: 0.4072 - val_acc: 0.8738\n",
            "Epoch 13/20\n",
            "49/49 [==============================] - 2s 39ms/step - loss: 0.2572 - acc: 0.9349 - val_loss: 0.3938 - val_acc: 0.8783\n",
            "Epoch 14/20\n",
            "49/49 [==============================] - 2s 39ms/step - loss: 0.2535 - acc: 0.9375 - val_loss: 0.4140 - val_acc: 0.8709\n",
            "Epoch 15/20\n",
            "49/49 [==============================] - 2s 39ms/step - loss: 0.2473 - acc: 0.9394 - val_loss: 0.3921 - val_acc: 0.8790\n",
            "Epoch 16/20\n",
            "49/49 [==============================] - 2s 39ms/step - loss: 0.2490 - acc: 0.9412 - val_loss: 0.3920 - val_acc: 0.8782\n",
            "Epoch 17/20\n",
            "49/49 [==============================] - 2s 39ms/step - loss: 0.2294 - acc: 0.9528 - val_loss: 0.3955 - val_acc: 0.8783\n",
            "Epoch 18/20\n",
            "49/49 [==============================] - 2s 39ms/step - loss: 0.2315 - acc: 0.9473 - val_loss: 0.4187 - val_acc: 0.8713\n",
            "Epoch 19/20\n",
            "49/49 [==============================] - 2s 39ms/step - loss: 0.2305 - acc: 0.9460 - val_loss: 0.4041 - val_acc: 0.8760\n",
            "Epoch 20/20\n",
            "49/49 [==============================] - 2s 39ms/step - loss: 0.2233 - acc: 0.9502 - val_loss: 0.4173 - val_acc: 0.8723\n"
          ],
          "name": "stdout"
        }
      ]
    },
    {
      "cell_type": "markdown",
      "metadata": {
        "id": "aTcPC990stJo"
      },
      "source": [
        "L1,L2-regularized model과 original model의 validation loss를 시각화해 비교"
      ]
    },
    {
      "cell_type": "code",
      "metadata": {
        "colab": {
          "base_uri": "https://localhost:8080/",
          "height": 297
        },
        "id": "p1YYha_EsoNn",
        "outputId": "913a2488-d1c0-4856-dd5c-127aaeb89ede"
      },
      "source": [
        "l1l2_model_val_loss = l1l2_model_hist.history['val_loss']\r\n",
        "\r\n",
        "plt.plot(epochs, original_val_loss, 'b+', label='Original model')\r\n",
        "plt.plot(epochs, l1l2_model_val_loss, 'ro', label='L1,L2-regularized model')\r\n",
        "plt.xlabel('Epochs')\r\n",
        "plt.ylabel('Validation loss')\r\n",
        "plt.legend()\r\n",
        "\r\n",
        "# L1,L2 병행 모델이 과대적합을 더 잘 견딘다"
      ],
      "execution_count": null,
      "outputs": [
        {
          "output_type": "execute_result",
          "data": {
            "text/plain": [
              "<matplotlib.legend.Legend at 0x7f3261cf88d0>"
            ]
          },
          "metadata": {
            "tags": []
          },
          "execution_count": 35
        },
        {
          "output_type": "display_data",
          "data": {
            "image/png": "[encoded data removed]",
            "text/plain": [
              "<Figure size 432x288 with 1 Axes>"
            ]
          },
          "metadata": {
            "tags": [],
            "needs_background": "light"
          }
        }
      ]
    },
    {
      "cell_type": "markdown",
      "metadata": {
        "id": "hXXY0uNYfFlD"
      },
      "source": [
        "## * 3) 드롭아웃 추가"
      ]
    },
    {
      "cell_type": "markdown",
      "metadata": {
        "id": "aVK5lBLUtvB7"
      },
      "source": [
        "훈련 과정에서 무작위로 layer의 일부 feature를 제외시키는(0으로 만드는) 방법"
      ]
    },
    {
      "cell_type": "code",
      "metadata": {
        "id": "pXaDExDfsJPw"
      },
      "source": [
        "# 두개의 Dropout층 추가\r\n",
        "\r\n",
        "dpt_model = models.Sequential()\r\n",
        "dpt_model.add(layers.Dense(16, activation='relu', input_shape=(10000,)))\r\n",
        "dpt_model.add(layers.Dropout(0.5))\r\n",
        "dpt_model.add(layers.Dense(16, activation='relu'))\r\n",
        "dpt_model.add(layers.Dropout(0.5))\r\n",
        "dpt_model.add(layers.Dense(1, activation='sigmoid'))\r\n",
        "\r\n",
        "dpt_model.compile(optimizer='rmsprop',\r\n",
        "                  loss='binary_crossentropy',\r\n",
        "                  metrics=['acc'])"
      ],
      "execution_count": null,
      "outputs": []
    },
    {
      "cell_type": "code",
      "metadata": {
        "colab": {
          "base_uri": "https://localhost:8080/"
        },
        "id": "UT7K3muWfJjI",
        "outputId": "9c365e96-95a3-456b-d6f5-ebb87553bae9"
      },
      "source": [
        "dpt_model.summary()"
      ],
      "execution_count": null,
      "outputs": [
        {
          "output_type": "stream",
          "text": [
            "Model: \"sequential_6\"\n",
            "_________________________________________________________________\n",
            "Layer (type)                 Output Shape              Param #   \n",
            "=================================================================\n",
            "dense_18 (Dense)             (None, 16)                160016    \n",
            "_________________________________________________________________\n",
            "dropout (Dropout)            (None, 16)                0         \n",
            "_________________________________________________________________\n",
            "dense_19 (Dense)             (None, 16)                272       \n",
            "_________________________________________________________________\n",
            "dropout_1 (Dropout)          (None, 16)                0         \n",
            "_________________________________________________________________\n",
            "dense_20 (Dense)             (None, 1)                 17        \n",
            "=================================================================\n",
            "Total params: 160,305\n",
            "Trainable params: 160,305\n",
            "Non-trainable params: 0\n",
            "_________________________________________________________________\n"
          ],
          "name": "stdout"
        }
      ]
    },
    {
      "cell_type": "code",
      "metadata": {
        "colab": {
          "base_uri": "https://localhost:8080/"
        },
        "id": "vmC1KtaQwQAu",
        "outputId": "e383e6a6-af87-40e5-b8fc-512609c2fbd2"
      },
      "source": [
        "dpt_model_hist = dpt_model.fit(xtrain, ytrain,\r\n",
        "                               epochs=20,\r\n",
        "                               batch_size=512,\r\n",
        "                               validation_data=(xtest, ytest))"
      ],
      "execution_count": null,
      "outputs": [
        {
          "output_type": "stream",
          "text": [
            "Epoch 1/20\n",
            "49/49 [==============================] - 3s 46ms/step - loss: 0.6430 - acc: 0.6071 - val_loss: 0.4397 - val_acc: 0.8611\n",
            "Epoch 2/20\n",
            "49/49 [==============================] - 2s 37ms/step - loss: 0.4621 - acc: 0.7929 - val_loss: 0.3282 - val_acc: 0.8822\n",
            "Epoch 3/20\n",
            "49/49 [==============================] - 2s 37ms/step - loss: 0.3600 - acc: 0.8565 - val_loss: 0.2917 - val_acc: 0.8868\n",
            "Epoch 4/20\n",
            "49/49 [==============================] - 2s 36ms/step - loss: 0.2987 - acc: 0.8872 - val_loss: 0.2740 - val_acc: 0.8914\n",
            "Epoch 5/20\n",
            "49/49 [==============================] - 2s 36ms/step - loss: 0.2606 - acc: 0.9087 - val_loss: 0.2755 - val_acc: 0.8898\n",
            "Epoch 6/20\n",
            "49/49 [==============================] - 2s 35ms/step - loss: 0.2242 - acc: 0.9270 - val_loss: 0.2871 - val_acc: 0.8871\n",
            "Epoch 7/20\n",
            "49/49 [==============================] - 2s 36ms/step - loss: 0.2002 - acc: 0.9346 - val_loss: 0.2993 - val_acc: 0.8880\n",
            "Epoch 8/20\n",
            "49/49 [==============================] - 2s 35ms/step - loss: 0.1760 - acc: 0.9412 - val_loss: 0.3234 - val_acc: 0.8852\n",
            "Epoch 9/20\n",
            "49/49 [==============================] - 2s 36ms/step - loss: 0.1706 - acc: 0.9447 - val_loss: 0.3546 - val_acc: 0.8857\n",
            "Epoch 10/20\n",
            "49/49 [==============================] - 2s 36ms/step - loss: 0.1520 - acc: 0.9500 - val_loss: 0.3623 - val_acc: 0.8818\n",
            "Epoch 11/20\n",
            "49/49 [==============================] - 2s 36ms/step - loss: 0.1471 - acc: 0.9507 - val_loss: 0.3963 - val_acc: 0.8816\n",
            "Epoch 12/20\n",
            "49/49 [==============================] - 2s 35ms/step - loss: 0.1390 - acc: 0.9540 - val_loss: 0.4170 - val_acc: 0.8796\n",
            "Epoch 13/20\n",
            "49/49 [==============================] - 2s 36ms/step - loss: 0.1311 - acc: 0.9562 - val_loss: 0.4365 - val_acc: 0.8778\n",
            "Epoch 14/20\n",
            "49/49 [==============================] - 2s 35ms/step - loss: 0.1216 - acc: 0.9604 - val_loss: 0.4642 - val_acc: 0.8781\n",
            "Epoch 15/20\n",
            "49/49 [==============================] - 2s 36ms/step - loss: 0.1192 - acc: 0.9613 - val_loss: 0.4849 - val_acc: 0.8759\n",
            "Epoch 16/20\n",
            "49/49 [==============================] - 2s 37ms/step - loss: 0.1101 - acc: 0.9616 - val_loss: 0.5304 - val_acc: 0.8743\n",
            "Epoch 17/20\n",
            "49/49 [==============================] - 2s 37ms/step - loss: 0.1073 - acc: 0.9632 - val_loss: 0.5324 - val_acc: 0.8745\n",
            "Epoch 18/20\n",
            "49/49 [==============================] - 2s 36ms/step - loss: 0.1172 - acc: 0.9610 - val_loss: 0.5563 - val_acc: 0.8748\n",
            "Epoch 19/20\n",
            "49/49 [==============================] - 2s 35ms/step - loss: 0.1118 - acc: 0.9632 - val_loss: 0.5649 - val_acc: 0.8730\n",
            "Epoch 20/20\n",
            "49/49 [==============================] - 2s 36ms/step - loss: 0.1054 - acc: 0.9648 - val_loss: 0.5970 - val_acc: 0.8700\n"
          ],
          "name": "stdout"
        }
      ]
    },
    {
      "cell_type": "markdown",
      "metadata": {
        "id": "5StYsZhNwbpi"
      },
      "source": [
        "Dropout-regularized model과 original model의 validation loss를 시각화해서 비교"
      ]
    },
    {
      "cell_type": "code",
      "metadata": {
        "colab": {
          "base_uri": "https://localhost:8080/",
          "height": 279
        },
        "id": "KTkVA7T6wYHV",
        "outputId": "c27c1221-8867-4ba4-a562-eb0218a61112"
      },
      "source": [
        "dpt_model_val_loss = dpt_model_hist.history['val_loss']\r\n",
        "\r\n",
        "plt.plot(epochs, original_val_loss, 'b+', label='Original model')\r\n",
        "plt.plot(epochs, dpt_model_val_loss, 'mo', label='Dropout-regularized model')\r\n",
        "plt.xlabel('Epochs')\r\n",
        "plt.ylabel('Validation loss')\r\n",
        "plt.legend()\r\n",
        "\r\n",
        "plt.show()"
      ],
      "execution_count": null,
      "outputs": [
        {
          "output_type": "display_data",
          "data": {
            "image/png": "[encoded data removed]",
            "text/plain": [
              "<Figure size 432x288 with 1 Axes>"
            ]
          },
          "metadata": {
            "tags": [],
            "needs_background": "light"
          }
        }
      ]
    },
    {
      "cell_type": "markdown",
      "metadata": {
        "id": "0RBHvp1Ew1PD"
      },
      "source": [
        "Dropout-regularized model이 과대적합을 더 잘 견딘다."
      ]
    }
  ]
}