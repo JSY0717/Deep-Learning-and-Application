{
  "nbformat": 4,
  "nbformat_minor": 0,
  "metadata": {
    "colab": {
      "name": "understanding and advanced usage of recurrent neural networks.ipynb",
      "provenance": [],
      "authorship_tag": "ABX9TyMi//mxQ1R8TxYxlhsqUdiD",
      "include_colab_link": true
    },
    "kernelspec": {
      "name": "python3",
      "display_name": "Python 3"
    }
  },
  "cells": [
    {
      "cell_type": "markdown",
      "metadata": {
        "id": "view-in-github",
        "colab_type": "text"
      },
      "source": [
        "<a href=\"https://colab.research.google.com/github/JSY0717/Deep-Learning-with-Python/blob/main/understanding_and_advanced_usage_of_recurrent_neural_networks.ipynb\" target=\"_parent\"><img src=\"https://colab.research.google.com/assets/colab-badge.svg\" alt=\"Open In Colab\"/></a>"
      ]
    },
    {
      "cell_type": "markdown",
      "metadata": {
        "id": "vvYoHlTIA0HM"
      },
      "source": [
        "# Recurrent neural networks (순환신경망)"
      ]
    },
    {
      "cell_type": "markdown",
      "metadata": {
        "id": "N3Uz8rIBFDY9"
      },
      "source": [
        "# 1) Simple RNN의 기본 구조"
      ]
    },
    {
      "cell_type": "code",
      "metadata": {
        "colab": {
          "base_uri": "https://localhost:8080/"
        },
        "id": "AHZaBPQ4B-G7",
        "outputId": "a6a6157a-5900-4503-8bb4-3e20658c3eab"
      },
      "source": [
        "import numpy as np\r\n",
        "\r\n",
        "timesteps = 3\r\n",
        "input_features = 1\r\n",
        "output_features = 1\r\n",
        "i = 0\r\n",
        "j = 0\r\n",
        "\r\n",
        "# 3x1 크기의 난수 생성\r\n",
        "inputs = np.random.random((timesteps, input_features))\r\n",
        "print(inputs)\r\n",
        "inputs.shape"
      ],
      "execution_count": null,
      "outputs": [
        {
          "output_type": "stream",
          "text": [
            "[[0.23598762]\n",
            " [0.19008022]\n",
            " [0.02493997]]\n"
          ],
          "name": "stdout"
        },
        {
          "output_type": "execute_result",
          "data": {
            "text/plain": [
              "(3, 1)"
            ]
          },
          "metadata": {
            "tags": []
          },
          "execution_count": 4
        }
      ]
    },
    {
      "cell_type": "code",
      "metadata": {
        "colab": {
          "base_uri": "https://localhost:8080/"
        },
        "id": "KI-wN9PlCaBa",
        "outputId": "f23682cf-888a-4aac-e3d1-6422c8c8bb2f"
      },
      "source": [
        "state_t = np.zeros((output_features))\r\n",
        "print(state_t)\r\n",
        "state_t.shape"
      ],
      "execution_count": null,
      "outputs": [
        {
          "output_type": "stream",
          "text": [
            "[0.]\n"
          ],
          "name": "stdout"
        },
        {
          "output_type": "execute_result",
          "data": {
            "text/plain": [
              "(1,)"
            ]
          },
          "metadata": {
            "tags": []
          },
          "execution_count": 5
        }
      ]
    },
    {
      "cell_type": "code",
      "metadata": {
        "colab": {
          "base_uri": "https://localhost:8080/"
        },
        "id": "Iu0ahIGrCkM-",
        "outputId": "cd9b886c-e401-4164-b649-5d586e89eac9"
      },
      "source": [
        "# RNN의 가중치값 설정\r\n",
        "W = np.random.random((output_features,input_features))\r\n",
        "U = np.random.random((output_features,output_features))\r\n",
        "\r\n",
        "# 바이어스 값 생성\r\n",
        "b = np.random.random((output_features))\r\n",
        "\r\n",
        "print(W)\r\n",
        "print(U)\r\n",
        "print(b)"
      ],
      "execution_count": null,
      "outputs": [
        {
          "output_type": "stream",
          "text": [
            "[[0.12388372]]\n",
            "[[0.8357658]]\n",
            "[0.93110354]\n"
          ],
          "name": "stdout"
        }
      ]
    },
    {
      "cell_type": "code",
      "metadata": {
        "colab": {
          "base_uri": "https://localhost:8080/"
        },
        "id": "Rq8H9C0sC6oN",
        "outputId": "e2270aa8-4469-4256-d1d4-7f86b5e35875"
      },
      "source": [
        "\r\n",
        "successive_outputs = []\r\n",
        "for input_t in inputs:\r\n",
        "  print('input_t : ',input_t)\r\n",
        "  output_t = np.tanh(np.dot(W,input_t) + np.dot(U,state_t) + b)\r\n",
        "  print('output_t : ')\r\n",
        "  print(output_t)\r\n",
        "  print('----------')\r\n",
        "  successive_outputs.append(output_t)\r\n",
        "  state_t = output_t\r\n",
        "\r\n",
        "final_output_sequence = np.stack(successive_outputs, axis=0)\r\n",
        "print(final_output_sequence)"
      ],
      "execution_count": null,
      "outputs": [
        {
          "output_type": "stream",
          "text": [
            "input_t :  [0.23598762]\n",
            "output_t : \n",
            "[0.94049041]\n",
            "----------\n",
            "input_t :  [0.19008022]\n",
            "output_t : \n",
            "[0.94030558]\n",
            "----------\n",
            "input_t :  [0.02493997]\n",
            "output_t : \n",
            "[0.93787127]\n",
            "----------\n",
            "[[0.94049041]\n",
            " [0.94030558]\n",
            " [0.93787127]]\n"
          ],
          "name": "stdout"
        }
      ]
    },
    {
      "cell_type": "markdown",
      "metadata": {
        "id": "Sl9nBpv7Bp7A"
      },
      "source": [
        "## 2) kera의 순환층 사용"
      ]
    },
    {
      "cell_type": "code",
      "metadata": {
        "colab": {
          "base_uri": "https://localhost:8080/",
          "height": 35
        },
        "id": "3Tf-DxTiAu5d",
        "outputId": "e991331f-c50b-4dc0-d939-82fc736993a2"
      },
      "source": [
        "import keras\r\n",
        "keras.__version__"
      ],
      "execution_count": null,
      "outputs": [
        {
          "output_type": "execute_result",
          "data": {
            "application/vnd.google.colaboratory.intrinsic+json": {
              "type": "string"
            },
            "text/plain": [
              "'2.4.3'"
            ]
          },
          "metadata": {
            "tags": []
          },
          "execution_count": 1
        }
      ]
    },
    {
      "cell_type": "code",
      "metadata": {
        "id": "DLaZIBnkBAzK"
      },
      "source": [
        "from keras.layers import SimpleRNN"
      ],
      "execution_count": null,
      "outputs": []
    },
    {
      "cell_type": "code",
      "metadata": {
        "colab": {
          "base_uri": "https://localhost:8080/"
        },
        "id": "YC3AoU3KEO_y",
        "outputId": "225a4a04-ea50-4af9-c0db-d2c7b6e1d9da"
      },
      "source": [
        "from keras.models import Sequential\r\n",
        "from keras.layers import Embedding, SimpleRNN\r\n",
        "\r\n",
        "model = Sequential()\r\n",
        "\r\n",
        "# Embedding(input_dim,output_dim)\r\n",
        "# output_dim = size of the voca, output_dim = dimension of the dense embedding\r\n",
        "model.add(Embedding(10000,32))  # 10000개까지의 어휘를 넣었을 때, 32차원의 벡터로 매핑\r\n",
        "\r\n",
        "model.add(SimpleRNN(32))  #return_sequences=False\r\n",
        "model.summary()"
      ],
      "execution_count": null,
      "outputs": [
        {
          "output_type": "stream",
          "text": [
            "Model: \"sequential\"\n",
            "_________________________________________________________________\n",
            "Layer (type)                 Output Shape              Param #   \n",
            "=================================================================\n",
            "embedding (Embedding)        (None, None, 32)          320000    \n",
            "_________________________________________________________________\n",
            "simple_rnn (SimpleRNN)       (None, 32)                2080      \n",
            "=================================================================\n",
            "Total params: 322,080\n",
            "Trainable params: 322,080\n",
            "Non-trainable params: 0\n",
            "_________________________________________________________________\n"
          ],
          "name": "stdout"
        }
      ]
    },
    {
      "cell_type": "code",
      "metadata": {
        "colab": {
          "base_uri": "https://localhost:8080/"
        },
        "id": "3-unLvJVH7Gn",
        "outputId": "fbc688af-589d-480a-c784-3412b4be209a"
      },
      "source": [
        "model = Sequential()\r\n",
        "model.add(Embedding(10000, 32))\r\n",
        "model.add(SimpleRNN(32, return_sequences=True))  # 크기가 (batch_size, timesteps, output_features) 인 3D 텐서 반환\r\n",
        "model.summary()"
      ],
      "execution_count": null,
      "outputs": [
        {
          "output_type": "stream",
          "text": [
            "Model: \"sequential_1\"\n",
            "_________________________________________________________________\n",
            "Layer (type)                 Output Shape              Param #   \n",
            "=================================================================\n",
            "embedding_1 (Embedding)      (None, None, 32)          320000    \n",
            "_________________________________________________________________\n",
            "simple_rnn_1 (SimpleRNN)     (None, None, 32)          2080      \n",
            "=================================================================\n",
            "Total params: 322,080\n",
            "Trainable params: 322,080\n",
            "Non-trainable params: 0\n",
            "_________________________________________________________________\n"
          ],
          "name": "stdout"
        }
      ]
    },
    {
      "cell_type": "markdown",
      "metadata": {
        "id": "eTmM3v7VIqCe"
      },
      "source": [
        "네트워크의 표현력 증가를 위해, 여러 개의 SimpleRNN을 쌓는 것이 도움이 되기도 한다."
      ]
    },
    {
      "cell_type": "code",
      "metadata": {
        "colab": {
          "base_uri": "https://localhost:8080/"
        },
        "id": "1L3oii0HIRj1",
        "outputId": "d50f7fe3-3f06-471f-ae6a-82e3e5af4ad4"
      },
      "source": [
        "model = Sequential()\r\n",
        "model.add(Embedding(10000, 32))\r\n",
        "model.add(SimpleRNN(32, return_sequences=True))  # 크기가 (batch_size, timesteps, output_features) 인 3D 텐서 반환\r\n",
        "model.add(SimpleRNN(32, return_sequences=True))\r\n",
        "model.add(SimpleRNN(32, return_sequences=True))\r\n",
        "model.summary()"
      ],
      "execution_count": null,
      "outputs": [
        {
          "output_type": "stream",
          "text": [
            "Model: \"sequential_2\"\n",
            "_________________________________________________________________\n",
            "Layer (type)                 Output Shape              Param #   \n",
            "=================================================================\n",
            "embedding_2 (Embedding)      (None, None, 32)          320000    \n",
            "_________________________________________________________________\n",
            "simple_rnn_2 (SimpleRNN)     (None, None, 32)          2080      \n",
            "_________________________________________________________________\n",
            "simple_rnn_3 (SimpleRNN)     (None, None, 32)          2080      \n",
            "_________________________________________________________________\n",
            "simple_rnn_4 (SimpleRNN)     (None, None, 32)          2080      \n",
            "=================================================================\n",
            "Total params: 326,240\n",
            "Trainable params: 326,240\n",
            "Non-trainable params: 0\n",
            "_________________________________________________________________\n"
          ],
          "name": "stdout"
        }
      ]
    },
    {
      "cell_type": "markdown",
      "metadata": {
        "id": "Qp9wuVZ9On2C"
      },
      "source": [
        "## 2-1) IMDB 영화 리뷰 분류 문제에 적용"
      ]
    },
    {
      "cell_type": "code",
      "metadata": {
        "id": "NNq_faywI0mg",
        "colab": {
          "base_uri": "https://localhost:8080/"
        },
        "outputId": "c9c0bc8a-b62e-45da-e0f2-cf9b0267302f"
      },
      "source": [
        "from keras.datasets import imdb\r\n",
        "from keras.preprocessing import sequence\r\n",
        "\r\n",
        "max_features = 10000  # 특성으로 사용할 단어의 수 (가장 빈번한 몇개의 단어를 사용할 것인지)\r\n",
        "maxlen = 500  # 사용할 텍스트의 길이\r\n",
        "batch_size = 32  # 한번에 네트워크에 넘겨주는 데이터의 수 \r\n",
        "\r\n",
        "print('...데이터 로딩...')\r\n",
        "(input_train, ytrain), (input_test, y_test) = imdb.load_data(num_words=max_features)\r\n",
        "print(len(input_train), '훈련 시퀀스')\r\n",
        "print(len(input_test), '테스트 시퀀스')\r\n",
        "\r\n",
        "print('시퀀스 패딩 (sample x time)')\r\n",
        "input_train = sequence.pad_sequences(input_train, maxlen=maxlen)  # 500개보다 적으면 빈자리에 0을 채우거나, 500개가 넘으면 잘라내는 등의 방식으로, 일정한 길이로 맞춘다.\r\n",
        "input_test = sequence.pad_sequences(input_test, maxlen=maxlen)\r\n",
        "print('input_train의 크기 : ', input_train.shape)\r\n",
        "print('input_test의 크기 : ', input_test.shape)"
      ],
      "execution_count": 18,
      "outputs": [
        {
          "output_type": "stream",
          "text": [
            "...데이터 로딩...\n"
          ],
          "name": "stdout"
        },
        {
          "output_type": "stream",
          "text": [
            "<string>:6: VisibleDeprecationWarning: Creating an ndarray from ragged nested sequences (which is a list-or-tuple of lists-or-tuples-or ndarrays with different lengths or shapes) is deprecated. If you meant to do this, you must specify 'dtype=object' when creating the ndarray\n",
            "/usr/local/lib/python3.6/dist-packages/tensorflow/python/keras/datasets/imdb.py:159: VisibleDeprecationWarning: Creating an ndarray from ragged nested sequences (which is a list-or-tuple of lists-or-tuples-or ndarrays with different lengths or shapes) is deprecated. If you meant to do this, you must specify 'dtype=object' when creating the ndarray\n",
            "  x_train, y_train = np.array(xs[:idx]), np.array(labels[:idx])\n",
            "/usr/local/lib/python3.6/dist-packages/tensorflow/python/keras/datasets/imdb.py:160: VisibleDeprecationWarning: Creating an ndarray from ragged nested sequences (which is a list-or-tuple of lists-or-tuples-or ndarrays with different lengths or shapes) is deprecated. If you meant to do this, you must specify 'dtype=object' when creating the ndarray\n",
            "  x_test, y_test = np.array(xs[idx:]), np.array(labels[idx:])\n"
          ],
          "name": "stderr"
        },
        {
          "output_type": "stream",
          "text": [
            "25000 훈련 시퀀스\n",
            "25000 테스트 시퀀스\n",
            "시퀀스 패딩 (sample x time)\n",
            "input_train의 크기 :  (25000, 500)\n",
            "input_test의 크기 :  (25000, 500)\n"
          ],
          "name": "stdout"
        }
      ]
    },
    {
      "cell_type": "code",
      "metadata": {
        "colab": {
          "base_uri": "https://localhost:8080/"
        },
        "id": "1fOMODj9QWWi",
        "outputId": "a42a054f-ac3f-4c29-9ad2-7350ecff1178"
      },
      "source": [
        "# Embedding 층과 SimpleRNN 층을 사용해 훈련\r\n",
        "from keras.layers import Dense\r\n",
        "\r\n",
        "model = Sequential()\r\n",
        "model.add(Embedding(max_features, 32))\r\n",
        "model.add(SimpleRNN(32))\r\n",
        "model.add(Dense(1, activation='sigmoid'))\r\n",
        "\r\n",
        "model.compile(optimizer='rmsprop', loss='binary_crossentropy', metrics=['acc'])\r\n",
        "history = model.fit(input_train, ytrain,\r\n",
        "                    epochs=10,\r\n",
        "                    batch_size=128,\r\n",
        "                    validation_split=0.2)"
      ],
      "execution_count": 20,
      "outputs": [
        {
          "output_type": "stream",
          "text": [
            "Epoch 1/10\n",
            "157/157 [==============================] - 24s 146ms/step - loss: 0.6726 - acc: 0.5567 - val_loss: 0.4371 - val_acc: 0.8198\n",
            "Epoch 2/10\n",
            "157/157 [==============================] - 22s 140ms/step - loss: 0.3949 - acc: 0.8421 - val_loss: 0.5073 - val_acc: 0.7518\n",
            "Epoch 3/10\n",
            "157/157 [==============================] - 22s 141ms/step - loss: 0.3097 - acc: 0.8766 - val_loss: 0.3730 - val_acc: 0.8568\n",
            "Epoch 4/10\n",
            "157/157 [==============================] - 23s 146ms/step - loss: 0.2119 - acc: 0.9218 - val_loss: 0.3919 - val_acc: 0.8310\n",
            "Epoch 5/10\n",
            "157/157 [==============================] - 22s 141ms/step - loss: 0.1659 - acc: 0.9409 - val_loss: 0.3909 - val_acc: 0.8390\n",
            "Epoch 6/10\n",
            "157/157 [==============================] - 23s 144ms/step - loss: 0.1212 - acc: 0.9574 - val_loss: 0.4336 - val_acc: 0.8464\n",
            "Epoch 7/10\n",
            "157/157 [==============================] - 22s 142ms/step - loss: 0.0852 - acc: 0.9724 - val_loss: 0.5626 - val_acc: 0.8432\n",
            "Epoch 8/10\n",
            "157/157 [==============================] - 22s 143ms/step - loss: 0.0681 - acc: 0.9777 - val_loss: 0.4950 - val_acc: 0.8328\n",
            "Epoch 9/10\n",
            "157/157 [==============================] - 22s 143ms/step - loss: 0.0367 - acc: 0.9896 - val_loss: 0.5003 - val_acc: 0.8506\n",
            "Epoch 10/10\n",
            "157/157 [==============================] - 22s 142ms/step - loss: 0.0236 - acc: 0.9933 - val_loss: 0.6812 - val_acc: 0.7974\n"
          ],
          "name": "stdout"
        }
      ]
    },
    {
      "cell_type": "code",
      "metadata": {
        "colab": {
          "base_uri": "https://localhost:8080/",
          "height": 563
        },
        "id": "Vj7ww9FMRCH_",
        "outputId": "434b3404-7675-4253-83b5-9cef04c90bd6"
      },
      "source": [
        "import matplotlib.pyplot as plt\r\n",
        "\r\n",
        "acc = history.history['acc']\r\n",
        "val_acc = history.history['val_acc']\r\n",
        "loss = history.history['loss']\r\n",
        "val_loss = history.history['val_loss']\r\n",
        "\r\n",
        "epochs = range(1, len(acc) + 1)\r\n",
        "\r\n",
        "plt.plot(epochs, acc, 'bo', label='Training acc')\r\n",
        "plt.plot(epochs, val_acc, 'b', label='Validation acc')\r\n",
        "plt.title('Training and validation accuracy')\r\n",
        "plt.legend()\r\n",
        "\r\n",
        "plt.figure()\r\n",
        "\r\n",
        "plt.plot(epochs, loss, 'bo', label='Training loss')\r\n",
        "plt.plot(epochs, val_loss, 'b', label='Validation loss')\r\n",
        "plt.title('Training and validation loss')\r\n",
        "plt.legend()"
      ],
      "execution_count": 21,
      "outputs": [
        {
          "output_type": "execute_result",
          "data": {
            "text/plain": [
              "<matplotlib.legend.Legend at 0x7f254981a5c0>"
            ]
          },
          "metadata": {
            "tags": []
          },
          "execution_count": 21
        },
        {
          "output_type": "display_data",
          "data": {
            "image/png": "[encoded data removed]",
            "text/plain": [
              "<Figure size 432x288 with 1 Axes>"
            ]
          },
          "metadata": {
            "tags": [],
            "needs_background": "light"
          }
        },
        {
          "output_type": "display_data",
          "data": {
            "image/png": "[encoded data removed]",
            "text/plain": [
              "<Figure size 432x288 with 1 Axes>"
            ]
          },
          "metadata": {
            "tags": [],
            "needs_background": "light"
          }
        }
      ]
    },
    {
      "cell_type": "markdown",
      "metadata": {
        "id": "TZwbBo8MSesy"
      },
      "source": [
        "이전에 순환넽워크를 사용하지 않은 모델보다, val_acc가 낮은 것을 알 수 있다. 단어의 개수를 500개로 제한해서, 적은 정보를 활용했기 때문이다.  \r\n",
        "더 성능이 좋은 고급 순환층을 살펴보자."
      ]
    },
    {
      "cell_type": "markdown",
      "metadata": {
        "id": "VZJ5ZEP5S8iQ"
      },
      "source": [
        "# 2) keras의 LSTM"
      ]
    },
    {
      "cell_type": "code",
      "metadata": {
        "colab": {
          "base_uri": "https://localhost:8080/"
        },
        "id": "sutOcknGSZ2e",
        "outputId": "c784174e-1c1d-498d-a993-357271f60c22"
      },
      "source": [
        "from keras.layers import LSTM\r\n",
        "\r\n",
        "model = Sequential()\r\n",
        "model.add(Embedding(max_features, 32))\r\n",
        "model.add(LSTM(32))  # Long Short-Term Memory 층 추가\r\n",
        "model.add(Dense(1, activation='sigmoid'))\r\n",
        "\r\n",
        "model.compile(optimizer='rmsprop',\r\n",
        "              loss='binary_crossentropy',\r\n",
        "              metrics=['acc'])\r\n",
        "history = model.fit(input_train, ytrain,\r\n",
        "                    epochs=10,\r\n",
        "                    batch_size=128,\r\n",
        "                    validation_split=0.2)"
      ],
      "execution_count": 23,
      "outputs": [
        {
          "output_type": "stream",
          "text": [
            "Epoch 1/10\n",
            "157/157 [==============================] - 53s 329ms/step - loss: 0.6428 - acc: 0.6427 - val_loss: 0.4121 - val_acc: 0.8234\n",
            "Epoch 2/10\n",
            "157/157 [==============================] - 54s 346ms/step - loss: 0.3606 - acc: 0.8607 - val_loss: 0.3290 - val_acc: 0.8610\n",
            "Epoch 3/10\n",
            "157/157 [==============================] - 54s 345ms/step - loss: 0.2545 - acc: 0.9037 - val_loss: 0.3553 - val_acc: 0.8484\n",
            "Epoch 4/10\n",
            "157/157 [==============================] - 54s 344ms/step - loss: 0.2083 - acc: 0.9228 - val_loss: 0.3215 - val_acc: 0.8728\n",
            "Epoch 5/10\n",
            "157/157 [==============================] - 55s 348ms/step - loss: 0.1765 - acc: 0.9366 - val_loss: 0.3205 - val_acc: 0.8590\n",
            "Epoch 6/10\n",
            "157/157 [==============================] - 54s 345ms/step - loss: 0.1597 - acc: 0.9411 - val_loss: 0.3354 - val_acc: 0.8886\n",
            "Epoch 7/10\n",
            "157/157 [==============================] - 54s 347ms/step - loss: 0.1424 - acc: 0.9509 - val_loss: 0.3059 - val_acc: 0.8712\n",
            "Epoch 8/10\n",
            "157/157 [==============================] - 54s 346ms/step - loss: 0.1216 - acc: 0.9584 - val_loss: 0.4030 - val_acc: 0.8662\n",
            "Epoch 9/10\n",
            "157/157 [==============================] - 57s 361ms/step - loss: 0.1208 - acc: 0.9592 - val_loss: 0.3926 - val_acc: 0.8712\n",
            "Epoch 10/10\n",
            "157/157 [==============================] - 58s 367ms/step - loss: 0.1063 - acc: 0.9645 - val_loss: 0.3302 - val_acc: 0.8710\n"
          ],
          "name": "stdout"
        }
      ]
    },
    {
      "cell_type": "code",
      "metadata": {
        "colab": {
          "base_uri": "https://localhost:8080/",
          "height": 563
        },
        "id": "V3D4_9QUTNGa",
        "outputId": "1a1cefb2-87b8-4f21-c355-c4f6d8078bb0"
      },
      "source": [
        "acc = history.history['acc']\r\n",
        "val_acc = history.history['val_acc']\r\n",
        "loss = history.history['loss']\r\n",
        "val_loss = history.history['val_loss']\r\n",
        "\r\n",
        "epochs = range(1, len(acc) + 1)\r\n",
        "\r\n",
        "plt.plot(epochs, acc, 'bo', label='Training acc')\r\n",
        "plt.plot(epochs, val_acc, 'b', label='Validation acc')\r\n",
        "plt.title('Training and validation accuracy')\r\n",
        "plt.legend()\r\n",
        "\r\n",
        "plt.figure()\r\n",
        "\r\n",
        "plt.plot(epochs, loss, 'bo', label='Training loss')\r\n",
        "plt.plot(epochs, val_loss, 'b', label='Validation loss')\r\n",
        "plt.title('Training and validation loss')\r\n",
        "plt.legend()"
      ],
      "execution_count": 24,
      "outputs": [
        {
          "output_type": "execute_result",
          "data": {
            "text/plain": [
              "<matplotlib.legend.Legend at 0x7f254d7b6978>"
            ]
          },
          "metadata": {
            "tags": []
          },
          "execution_count": 24
        },
        {
          "output_type": "display_data",
          "data": {
            "image/png": "[encoded data removed]",
            "text/plain": [
              "<Figure size 432x288 with 1 Axes>"
            ]
          },
          "metadata": {
            "tags": [],
            "needs_background": "light"
          }
        },
        {
          "output_type": "display_data",
          "data": {
            "image/png": "[encoded data removed]",
            "text/plain": [
              "<Figure size 432x288 with 1 Axes>"
            ]
          },
          "metadata": {
            "tags": [],
            "needs_background": "light"
          }
        }
      ]
    },
    {
      "cell_type": "markdown",
      "metadata": {
        "id": "jFioB12BTVx9"
      },
      "source": [
        "val_acc이 약 87%로, 조금 증가했다."
      ]
    },
    {
      "cell_type": "markdown",
      "metadata": {
        "id": "ngZtzHlc8vJj"
      },
      "source": [
        "# 3) 기온 예측 예제"
      ]
    },
    {
      "cell_type": "code",
      "metadata": {
        "colab": {
          "base_uri": "https://localhost:8080/"
        },
        "id": "eTw2Hj8zVZSQ",
        "outputId": "247a0d9f-f7ef-4c40-dcb3-94816c7ec2c1"
      },
      "source": [
        "import zipfile\r\n",
        "!unzip /content/sample_data/jena_climate_2009_2016.csv.zip"
      ],
      "execution_count": 1,
      "outputs": [
        {
          "output_type": "stream",
          "text": [
            "Archive:  /content/sample_data/jena_climate_2009_2016.csv.zip\n",
            "  inflating: jena_climate_2009_2016.csv  \n"
          ],
          "name": "stdout"
        }
      ]
    },
    {
      "cell_type": "code",
      "metadata": {
        "colab": {
          "base_uri": "https://localhost:8080/"
        },
        "id": "SELamR4u84Z9",
        "outputId": "534a8557-ee03-46d2-b336-f7e6fe7b1b5e"
      },
      "source": [
        "import os\r\n",
        "\r\n",
        "#data_dir = './datasets/jena_climate/'\r\n",
        "#fname = os.path.join(data_dir, 'jena_climate_2009_2016.csv')\r\n",
        "\r\n",
        "f = open('/content/jena_climate_2009_2016.csv')\r\n",
        "data = f.read()\r\n",
        "f.close()\r\n",
        "\r\n",
        "lines = data.split('\\n')\r\n",
        "header = lines[0].split(',') # column 이름 추출\r\n",
        "lines = lines[1:]\r\n",
        "\r\n",
        "print(header) \r\n",
        "print(len(header))  # column의 개수\r\n",
        "print(len(lines))  # 전체 데이터 개수"
      ],
      "execution_count": 9,
      "outputs": [
        {
          "output_type": "stream",
          "text": [
            "['\"Date Time\"', '\"p (mbar)\"', '\"T (degC)\"', '\"Tpot (K)\"', '\"Tdew (degC)\"', '\"rh (%)\"', '\"VPmax (mbar)\"', '\"VPact (mbar)\"', '\"VPdef (mbar)\"', '\"sh (g/kg)\"', '\"H2OC (mmol/mol)\"', '\"rho (g/m**3)\"', '\"wv (m/s)\"', '\"max. wv (m/s)\"', '\"wd (deg)\"']\n",
            "15\n",
            "420551\n"
          ],
          "name": "stdout"
        }
      ]
    },
    {
      "cell_type": "code",
      "metadata": {
        "colab": {
          "base_uri": "https://localhost:8080/"
        },
        "id": "SLwnKSYRO5s0",
        "outputId": "4fd0a4de-35b9-49c0-c998-41263b58bce7"
      },
      "source": [
        "# numpy 베열로 변환\r\n",
        "import numpy as np\r\n",
        "\r\n",
        "float_data = np.zeros((len(lines),len(header)-1))\r\n",
        "print(float_data)\r\n",
        "for i, line in enumerate(lines):\r\n",
        "  values = [float(x) for x in line.split(',')[1:]]\r\n",
        "  float_data[i,:] = values\r\n",
        "\r\n",
        "print(float_data[0,:])  # 0번째 column의 모든 행 추출"
      ],
      "execution_count": 11,
      "outputs": [
        {
          "output_type": "stream",
          "text": [
            "[[0. 0. 0. ... 0. 0. 0.]\n",
            " [0. 0. 0. ... 0. 0. 0.]\n",
            " [0. 0. 0. ... 0. 0. 0.]\n",
            " ...\n",
            " [0. 0. 0. ... 0. 0. 0.]\n",
            " [0. 0. 0. ... 0. 0. 0.]\n",
            " [0. 0. 0. ... 0. 0. 0.]]\n",
            "[ 9.96520e+02 -8.02000e+00  2.65400e+02 -8.90000e+00  9.33000e+01\n",
            "  3.33000e+00  3.11000e+00  2.20000e-01  1.94000e+00  3.12000e+00\n",
            "  1.30775e+03  1.03000e+00  1.75000e+00  1.52300e+02]\n"
          ],
          "name": "stdout"
        }
      ]
    },
    {
      "cell_type": "code",
      "metadata": {
        "colab": {
          "base_uri": "https://localhost:8080/",
          "height": 286
        },
        "id": "VAn0d79DVjva",
        "outputId": "fb76023c-e063-4500-c408-775d045b9b9d"
      },
      "source": [
        "# 시간에 따른 기온 그래프\r\n",
        "from matplotlib import pyplot as plt\r\n",
        "\r\n",
        "temp = float_data[:, 1]  # 온도(섭씨)\r\n",
        "plt.plot(range(len(temp)), temp)"
      ],
      "execution_count": 12,
      "outputs": [
        {
          "output_type": "execute_result",
          "data": {
            "text/plain": [
              "[<matplotlib.lines.Line2D at 0x7f25341d7a90>]"
            ]
          },
          "metadata": {
            "tags": []
          },
          "execution_count": 12
        },
        {
          "output_type": "display_data",
          "data": {
            "image/png": "[encoded data removed]",
            "text/plain": [
              "<Figure size 432x288 with 1 Axes>"
            ]
          },
          "metadata": {
            "tags": [],
            "needs_background": "light"
          }
        }
      ]
    },
    {
      "cell_type": "code",
      "metadata": {
        "colab": {
          "base_uri": "https://localhost:8080/",
          "height": 283
        },
        "id": "un6ZPyc8V7R1",
        "outputId": "37ce370e-50b9-4fbe-987a-feb72bef6b76"
      },
      "source": [
        "# 처음 10일간의 온도 데이터\r\n",
        "# 10분마다 한개의 데이터가 생성되므로, 10일간은 1440개의 데이터가 존재한다.\r\n",
        "plt.plot(range(1440), temp[:1440])"
      ],
      "execution_count": 13,
      "outputs": [
        {
          "output_type": "execute_result",
          "data": {
            "text/plain": [
              "[<matplotlib.lines.Line2D at 0x7f2533d270f0>]"
            ]
          },
          "metadata": {
            "tags": []
          },
          "execution_count": 13
        },
        {
          "output_type": "display_data",
          "data": {
            "image/png": "[encoded data removed]",
            "text/plain": [
              "<Figure size 432x288 with 1 Axes>"
            ]
          },
          "metadata": {
            "tags": [],
            "needs_background": "light"
          }
        }
      ]
    },
    {
      "cell_type": "markdown",
      "metadata": {
        "id": "dufvB464Woe1"
      },
      "source": [
        "## 3-1) 데이터 전처리\r\n"
      ]
    },
    {
      "cell_type": "code",
      "metadata": {
        "id": "EbQWUXojWWMz"
      },
      "source": [
        "# column마다 범위가 다르므로, 이를 정규화한다.\r\n",
        "# 정규화를 위해 표준편차와 평균을 구한다.\r\n",
        "# 처음 20만개 타입스텝을 훈련 데이터로 사용한다.\r\n",
        "mean = float_data[:200000].mean(axis=0)\r\n",
        "float_data -= mean\r\n",
        "std = float_data[:200000].std(axis=0)\r\n",
        "float_data /= std"
      ],
      "execution_count": 14,
      "outputs": []
    },
    {
      "cell_type": "code",
      "metadata": {
        "id": "6jvywJNoXo1W"
      },
      "source": [
        "# samples는 입력 데이터로 사용할 배치\r\n",
        "# targets는 samples에 대응하는 타깃 온도의 배열\r\n",
        "# 한시간에 하나의 데이터를 추출하기 위해 step=6\r\n",
        "def generator(data, lookback, delay, min_index, max_index,\r\n",
        "              shuffle=False, batch_size=128, step=6):\r\n",
        "    if max_index is None:\r\n",
        "        max_index = len(data) - delay - 1\r\n",
        "    i = min_index + lookback\r\n",
        "    while 1:\r\n",
        "        if shuffle:\r\n",
        "            rows = np.random.randint(\r\n",
        "                min_index + lookback, max_index, size=batch_size)\r\n",
        "        else:\r\n",
        "            if i + batch_size >= max_index:\r\n",
        "                i = min_index + lookback\r\n",
        "            rows = np.arange(i, min(i + batch_size, max_index))\r\n",
        "            i += len(rows)\r\n",
        "\r\n",
        "        samples = np.zeros((len(rows),  # 128(batch_size)\r\n",
        "                           lookback // step,  #1440//6 = 240\r\n",
        "                           data.shape[-1]))  #14\r\n",
        "        targets = np.zeros((len(rows),)) # 128개의 영행렬\r\n",
        "        for j, row in enumerate(rows):\r\n",
        "            indices = range(rows[j] - lookback, rows[j], step)\r\n",
        "            samples[j] = data[indices]  # 독립변수\r\n",
        "            targets[j] = data[rows[j] + delay][1]  # 종속변수\r\n",
        "        yield samples, targets"
      ],
      "execution_count": 15,
      "outputs": []
    },
    {
      "cell_type": "code",
      "metadata": {
        "id": "keTqmpMtcK1M"
      },
      "source": [
        "lookback = 1440\r\n",
        "step = 6\r\n",
        "delay = 144\r\n",
        "batch_size = 128\r\n",
        "\r\n",
        "train_gen = generator(float_data,  # 처음 20만개를 train data로 사용\r\n",
        "                      lookback=lookback,\r\n",
        "                      delay=delay,\r\n",
        "                      min_index=0,\r\n",
        "                      max_index=200000,\r\n",
        "                      shuffle=True,\r\n",
        "                      step=step, \r\n",
        "                      batch_size=batch_size)\r\n",
        "val_gen = generator(float_data,\r\n",
        "                    lookback=lookback,\r\n",
        "                    delay=delay,\r\n",
        "                    min_index=200001,\r\n",
        "                    max_index=300000,\r\n",
        "                    step=step,\r\n",
        "                    batch_size=batch_size)\r\n",
        "test_gen = generator(float_data,\r\n",
        "                     lookback=lookback,\r\n",
        "                     delay=delay,\r\n",
        "                     min_index=300001,\r\n",
        "                     max_index=None,\r\n",
        "                     step=step,\r\n",
        "                     batch_size=batch_size)\r\n",
        "\r\n",
        "# 전체 검증 세트를 순회하기 위해 val_gen에서 추출할 횟수\r\n",
        "val_steps = (300000 - 200001 - lookback) // batch_size\r\n",
        "\r\n",
        "# 전체 테스트 세트를 순회하기 위해 test_gen에서 추출할 횟수\r\n",
        "test_steps = (len(float_data) - 300001 - lookback) // batch_size"
      ],
      "execution_count": 16,
      "outputs": []
    },
    {
      "cell_type": "markdown",
      "metadata": {
        "id": "DDZGzBhWiAbt"
      },
      "source": [
        "## 3-2) 상식 수준의 기준점"
      ]
    },
    {
      "cell_type": "markdown",
      "metadata": {
        "id": "v8Ie8g37gXSB"
      },
      "source": [
        "현재 온도와 24시간 후의 온도가 동일하다고 예측하고, 그 둘의 절대오차의 평균을 구해보자."
      ]
    },
    {
      "cell_type": "code",
      "metadata": {
        "colab": {
          "base_uri": "https://localhost:8080/"
        },
        "id": "RCEvdFoZfWq2",
        "outputId": "361f57ae-8aaf-4ff9-ce8a-b53e4ec03ec3"
      },
      "source": [
        "def evaluate_naive_method():\r\n",
        "    batch_maes = []\r\n",
        "    for step in range(val_steps):\r\n",
        "        samples, targets = next(val_gen)\r\n",
        "        preds = samples[:, -1, 1]  # 24시간 후의 온도 예측값\r\n",
        "        mae = np.mean(np.abs(preds - targets))\r\n",
        "        batch_maes.append(mae)\r\n",
        "    print(np.mean(batch_maes))\r\n",
        "    \r\n",
        "evaluate_naive_method()"
      ],
      "execution_count": 20,
      "outputs": [
        {
          "output_type": "stream",
          "text": [
            "0.2897359729905486\n"
          ],
          "name": "stdout"
        }
      ]
    },
    {
      "cell_type": "markdown",
      "metadata": {
        "id": "zfDg-3hThjgp"
      },
      "source": [
        "평균 절댓값 오차(MAE)는 약 0.29이다.  \r\n",
        "딥러닝 모델이 더 나은 성능을 가지고 있는 지 확인해보자."
      ]
    },
    {
      "cell_type": "markdown",
      "metadata": {
        "id": "LTH7R9Ikim5p"
      },
      "source": [
        "## 3-3) 기본적인 머신 러닝"
      ]
    },
    {
      "cell_type": "code",
      "metadata": {
        "colab": {
          "base_uri": "https://localhost:8080/"
        },
        "id": "07wx89Ofg5TA",
        "outputId": "a728df6e-5c0d-41fe-d748-ad71e7167273"
      },
      "source": [
        "from keras.models import Sequential\r\n",
        "from keras import layers\r\n",
        "from keras.optimizers import RMSprop\r\n",
        "\r\n",
        "model = Sequential()\r\n",
        "\r\n",
        "# 1440//6x14 개의 데이터를 flat하게 만듬\r\n",
        "model.add(layers.Flatten(input_shape=(lookback // step, float_data.shape[-1])))\r\n",
        "model.add(layers.Dense(32, activation='relu'))  #32개의 출력을 내는 노드\r\n",
        "model.add(layers.Dense(1))\r\n",
        "\r\n",
        "model.compile(optimizer=RMSprop(), loss='mae')\r\n",
        "history = model.fit_generator(train_gen,\r\n",
        "                              steps_per_epoch=500,\r\n",
        "                              epochs=20,\r\n",
        "                              validation_data=val_gen,\r\n",
        "                              validation_steps=val_steps)"
      ],
      "execution_count": 22,
      "outputs": [
        {
          "output_type": "stream",
          "text": [
            "/usr/local/lib/python3.6/dist-packages/tensorflow/python/keras/engine/training.py:1844: UserWarning: `Model.fit_generator` is deprecated and will be removed in a future version. Please use `Model.fit`, which supports generators.\n",
            "  warnings.warn('`Model.fit_generator` is deprecated and '\n"
          ],
          "name": "stderr"
        },
        {
          "output_type": "stream",
          "text": [
            "Epoch 1/20\n",
            "500/500 [==============================] - 16s 31ms/step - loss: 1.7436 - val_loss: 0.6419\n",
            "Epoch 2/20\n",
            "500/500 [==============================] - 15s 30ms/step - loss: 0.5789 - val_loss: 0.3929\n",
            "Epoch 3/20\n",
            "500/500 [==============================] - 15s 30ms/step - loss: 0.3403 - val_loss: 0.3353\n",
            "Epoch 4/20\n",
            "500/500 [==============================] - 15s 30ms/step - loss: 0.2772 - val_loss: 0.3157\n",
            "Epoch 5/20\n",
            "500/500 [==============================] - 15s 30ms/step - loss: 0.2597 - val_loss: 0.3078\n",
            "Epoch 6/20\n",
            "500/500 [==============================] - 15s 30ms/step - loss: 0.2485 - val_loss: 0.3063\n",
            "Epoch 7/20\n",
            "500/500 [==============================] - 15s 30ms/step - loss: 0.2393 - val_loss: 0.3177\n",
            "Epoch 8/20\n",
            "500/500 [==============================] - 15s 30ms/step - loss: 0.2359 - val_loss: 0.3125\n",
            "Epoch 9/20\n",
            "500/500 [==============================] - 15s 30ms/step - loss: 0.2256 - val_loss: 0.3150\n",
            "Epoch 10/20\n",
            "500/500 [==============================] - 15s 30ms/step - loss: 0.2222 - val_loss: 0.3231\n",
            "Epoch 11/20\n",
            "500/500 [==============================] - 15s 30ms/step - loss: 0.2228 - val_loss: 0.3533\n",
            "Epoch 12/20\n",
            "500/500 [==============================] - 15s 30ms/step - loss: 0.2165 - val_loss: 0.3258\n",
            "Epoch 13/20\n",
            "500/500 [==============================] - 15s 30ms/step - loss: 0.2149 - val_loss: 0.3193\n",
            "Epoch 14/20\n",
            "500/500 [==============================] - 15s 30ms/step - loss: 0.2124 - val_loss: 0.3251\n",
            "Epoch 15/20\n",
            "500/500 [==============================] - 15s 30ms/step - loss: 0.2099 - val_loss: 0.3344\n",
            "Epoch 16/20\n",
            "500/500 [==============================] - 15s 30ms/step - loss: 0.2067 - val_loss: 0.3497\n",
            "Epoch 17/20\n",
            "500/500 [==============================] - 15s 30ms/step - loss: 0.2068 - val_loss: 0.3360\n",
            "Epoch 18/20\n",
            "500/500 [==============================] - 15s 30ms/step - loss: 0.2035 - val_loss: 0.3326\n",
            "Epoch 19/20\n",
            "500/500 [==============================] - 15s 30ms/step - loss: 0.2030 - val_loss: 0.3561\n",
            "Epoch 20/20\n",
            "500/500 [==============================] - 15s 30ms/step - loss: 0.2016 - val_loss: 0.3633\n"
          ],
          "name": "stdout"
        }
      ]
    },
    {
      "cell_type": "code",
      "metadata": {
        "colab": {
          "base_uri": "https://localhost:8080/",
          "height": 298
        },
        "id": "jUYJCOfshPOk",
        "outputId": "9a25edc9-5696-413b-9617-6361bf3a7475"
      },
      "source": [
        "import matplotlib.pyplot as plt\r\n",
        "\r\n",
        "loss = history.history['loss']\r\n",
        "val_loss = history.history['val_loss']\r\n",
        "\r\n",
        "epochs = range(1, len(loss) + 1)\r\n",
        "\r\n",
        "plt.figure()\r\n",
        "\r\n",
        "plt.plot(epochs, loss, 'bo', label='Training loss')\r\n",
        "plt.plot(epochs, val_loss, 'b', label='Validation loss')\r\n",
        "plt.title('Training and validation loss')\r\n",
        "plt.legend()"
      ],
      "execution_count": 23,
      "outputs": [
        {
          "output_type": "execute_result",
          "data": {
            "text/plain": [
              "<matplotlib.legend.Legend at 0x7f24ed1216a0>"
            ]
          },
          "metadata": {
            "tags": []
          },
          "execution_count": 23
        },
        {
          "output_type": "display_data",
          "data": {
            "image/png": "[encoded data removed]",
            "text/plain": [
              "<Figure size 432x288 with 1 Axes>"
            ]
          },
          "metadata": {
            "tags": [],
            "needs_background": "light"
          }
        }
      ]
    },
    {
      "cell_type": "markdown",
      "metadata": {
        "id": "Xlw_lUzzjj9a"
      },
      "source": [
        "우리가 적용한 \"상식\" 에는 머신러닝 모델이 찾지 못한 핵심 정보가 많이 들어있으므로, 기준 모델의 성능이 더 좋은 것을 알 수 있다."
      ]
    },
    {
      "cell_type": "markdown",
      "metadata": {
        "id": "AT8LR-M2khtR"
      },
      "source": [
        "## 3-4) 첫 번째 순환 신경망"
      ]
    },
    {
      "cell_type": "markdown",
      "metadata": {
        "id": "9QNsCgT9k4E9"
      },
      "source": [
        "첫번째 완전 연결 네트워크는 시계열 데이터를 펼쳐서 사용했기 때문에, 입력 데이터에서 시간 정보가 손실됐다. 이 모델 대신, 순서가 의미가 있는 시퀀스 데이터 처리 모델을 사용해 보자."
      ]
    },
    {
      "cell_type": "code",
      "metadata": {
        "colab": {
          "base_uri": "https://localhost:8080/"
        },
        "id": "ryXwJjtwk3R4",
        "outputId": "caa639ba-4379-464b-d7a8-f85677c38432"
      },
      "source": [
        "# LSTM층 대신 GRU층 사용\r\n",
        "from keras.models import Sequential\r\n",
        "from keras import layers\r\n",
        "from keras.optimizers import RMSprop\r\n",
        "\r\n",
        "model = Sequential()\r\n",
        "model.add(layers.GRU(32, input_shape=(None, float_data.shape[-1])))\r\n",
        "model.add(layers.Dense(1))\r\n",
        "\r\n",
        "model.compile(optimizer=RMSprop(), loss='mae')\r\n",
        "history = model.fit_generator(train_gen,\r\n",
        "                              steps_per_epoch=500,\r\n",
        "                              epochs=20,\r\n",
        "                              validation_data=val_gen,\r\n",
        "                              validation_steps=val_steps)"
      ],
      "execution_count": 24,
      "outputs": [
        {
          "output_type": "stream",
          "text": [
            "/usr/local/lib/python3.6/dist-packages/tensorflow/python/keras/engine/training.py:1844: UserWarning: `Model.fit_generator` is deprecated and will be removed in a future version. Please use `Model.fit`, which supports generators.\n",
            "  warnings.warn('`Model.fit_generator` is deprecated and '\n"
          ],
          "name": "stderr"
        },
        {
          "output_type": "stream",
          "text": [
            "Epoch 1/20\n",
            "500/500 [==============================] - 83s 163ms/step - loss: 0.3565 - val_loss: 0.2692\n",
            "Epoch 2/20\n",
            "500/500 [==============================] - 81s 162ms/step - loss: 0.2849 - val_loss: 0.2636\n",
            "Epoch 3/20\n",
            "500/500 [==============================] - 81s 163ms/step - loss: 0.2808 - val_loss: 0.2639\n",
            "Epoch 4/20\n",
            "500/500 [==============================] - 83s 166ms/step - loss: 0.2748 - val_loss: 0.2605\n",
            "Epoch 5/20\n",
            "500/500 [==============================] - 82s 163ms/step - loss: 0.2690 - val_loss: 0.2642\n",
            "Epoch 6/20\n",
            "500/500 [==============================] - 82s 165ms/step - loss: 0.2635 - val_loss: 0.2649\n",
            "Epoch 7/20\n",
            "500/500 [==============================] - 84s 167ms/step - loss: 0.2569 - val_loss: 0.2611\n",
            "Epoch 8/20\n",
            "500/500 [==============================] - 85s 170ms/step - loss: 0.2539 - val_loss: 0.2660\n",
            "Epoch 9/20\n",
            "500/500 [==============================] - 83s 167ms/step - loss: 0.2492 - val_loss: 0.2651\n",
            "Epoch 10/20\n",
            "500/500 [==============================] - 83s 166ms/step - loss: 0.2433 - val_loss: 0.2709\n",
            "Epoch 11/20\n",
            "500/500 [==============================] - 85s 169ms/step - loss: 0.2398 - val_loss: 0.2652\n",
            "Epoch 12/20\n",
            "500/500 [==============================] - 84s 169ms/step - loss: 0.2383 - val_loss: 0.2741\n",
            "Epoch 13/20\n",
            "500/500 [==============================] - 86s 171ms/step - loss: 0.2315 - val_loss: 0.2721\n",
            "Epoch 14/20\n",
            "500/500 [==============================] - 84s 167ms/step - loss: 0.2256 - val_loss: 0.2774\n",
            "Epoch 15/20\n",
            "500/500 [==============================] - 85s 171ms/step - loss: 0.2250 - val_loss: 0.2803\n",
            "Epoch 16/20\n",
            "500/500 [==============================] - 84s 168ms/step - loss: 0.2196 - val_loss: 0.2835\n",
            "Epoch 17/20\n",
            "500/500 [==============================] - 84s 168ms/step - loss: 0.2171 - val_loss: 0.2846\n",
            "Epoch 18/20\n",
            "500/500 [==============================] - 83s 167ms/step - loss: 0.2113 - val_loss: 0.2941\n",
            "Epoch 19/20\n",
            "500/500 [==============================] - 85s 171ms/step - loss: 0.2091 - val_loss: 0.2898\n",
            "Epoch 20/20\n",
            "500/500 [==============================] - 84s 169ms/step - loss: 0.2058 - val_loss: 0.2919\n"
          ],
          "name": "stdout"
        }
      ]
    },
    {
      "cell_type": "code",
      "metadata": {
        "colab": {
          "base_uri": "https://localhost:8080/",
          "height": 298
        },
        "id": "Im8d9QVwldE4",
        "outputId": "9dc8b8dd-e36a-46a9-9ec5-0c59a0664b1e"
      },
      "source": [
        "loss = history.history['loss']\r\n",
        "val_loss = history.history['val_loss']\r\n",
        "\r\n",
        "epochs = range(1, len(loss) + 1)\r\n",
        "\r\n",
        "plt.figure()\r\n",
        "\r\n",
        "plt.plot(epochs, loss, 'bo', label='Training loss')\r\n",
        "plt.plot(epochs, val_loss, 'b', label='Validation loss')\r\n",
        "plt.title('Training and validation loss')\r\n",
        "plt.legend()"
      ],
      "execution_count": 25,
      "outputs": [
        {
          "output_type": "execute_result",
          "data": {
            "text/plain": [
              "<matplotlib.legend.Legend at 0x7f24eb365e48>"
            ]
          },
          "metadata": {
            "tags": []
          },
          "execution_count": 25
        },
        {
          "output_type": "display_data",
          "data": {
            "image/png": "[encoded data removed]",
            "text/plain": [
              "<Figure size 432x288 with 1 Axes>"
            ]
          },
          "metadata": {
            "tags": [],
            "needs_background": "light"
          }
        }
      ]
    },
    {
      "cell_type": "markdown",
      "metadata": {
        "id": "bxJiUfJjlpEv"
      },
      "source": [
        "상식 수준의 모델보다 훨씬 좋은 성능을 보인다. 따라서 시퀀스를 펼쳐서 처리할 때에는 완전 연결 net에 비해 순환 net이 더 뛰어나다고 할 수 있다."
      ]
    },
    {
      "cell_type": "markdown",
      "metadata": {
        "id": "jFvNumysnaZ0"
      },
      "source": [
        "## 3-5 ) 과대적합 해소"
      ]
    },
    {
      "cell_type": "markdown",
      "metadata": {
        "id": "W-xOhJuCniuS"
      },
      "source": [
        "### 3-5-1) Dropout 사용"
      ]
    },
    {
      "cell_type": "code",
      "metadata": {
        "colab": {
          "base_uri": "https://localhost:8080/"
        },
        "id": "lA7RP_krnyA1",
        "outputId": "c28979df-2fa4-4e9c-cf61-2869efc35d2b"
      },
      "source": [
        "from keras.models import Sequential\r\n",
        "from keras import layers\r\n",
        "from keras.optimizers import RMSprop\r\n",
        "\r\n",
        "model = Sequential()\r\n",
        "model.add(layers.GRU(32,\r\n",
        "                     dropout=0.2,\r\n",
        "                     recurrent_dropout=0.2,\r\n",
        "                     input_shape=(None, float_data.shape[-1])))\r\n",
        "model.add(layers.Dense(1))\r\n",
        "\r\n",
        "model.compile(optimizer=RMSprop(), loss='mae')\r\n",
        "history = model.fit_generator(train_gen,\r\n",
        "                              steps_per_epoch=500,\r\n",
        "                              epochs=40,\r\n",
        "                              validation_data=val_gen,\r\n",
        "                              validation_steps=val_steps)"
      ],
      "execution_count": 26,
      "outputs": [
        {
          "output_type": "stream",
          "text": [
            "/usr/local/lib/python3.6/dist-packages/tensorflow/python/keras/engine/training.py:1844: UserWarning: `Model.fit_generator` is deprecated and will be removed in a future version. Please use `Model.fit`, which supports generators.\n",
            "  warnings.warn('`Model.fit_generator` is deprecated and '\n"
          ],
          "name": "stderr"
        },
        {
          "output_type": "stream",
          "text": [
            "Epoch 1/40\n",
            "500/500 [==============================] - 139s 274ms/step - loss: 0.3338 - val_loss: 0.2758\n",
            "Epoch 2/40\n",
            "500/500 [==============================] - 136s 272ms/step - loss: 0.3067 - val_loss: 0.2772\n",
            "Epoch 3/40\n",
            "500/500 [==============================] - 136s 272ms/step - loss: 0.3015 - val_loss: 0.2758\n",
            "Epoch 4/40\n",
            "500/500 [==============================] - 137s 273ms/step - loss: 0.2946 - val_loss: 0.2674\n",
            "Epoch 5/40\n",
            "500/500 [==============================] - 137s 274ms/step - loss: 0.2891 - val_loss: 0.2702\n",
            "Epoch 6/40\n",
            "500/500 [==============================] - 136s 273ms/step - loss: 0.2855 - val_loss: 0.2665\n",
            "Epoch 7/40\n",
            "500/500 [==============================] - 136s 272ms/step - loss: 0.2806 - val_loss: 0.2681\n",
            "Epoch 8/40\n",
            "500/500 [==============================] - 136s 272ms/step - loss: 0.2800 - val_loss: 0.2683\n",
            "Epoch 9/40\n",
            "500/500 [==============================] - 136s 273ms/step - loss: 0.2753 - val_loss: 0.2738\n",
            "Epoch 10/40\n",
            "500/500 [==============================] - 136s 271ms/step - loss: 0.2722 - val_loss: 0.2696\n",
            "Epoch 11/40\n",
            "500/500 [==============================] - 136s 271ms/step - loss: 0.2698 - val_loss: 0.2684\n",
            "Epoch 12/40\n",
            "500/500 [==============================] - 136s 271ms/step - loss: 0.2661 - val_loss: 0.2684\n",
            "Epoch 13/40\n",
            "500/500 [==============================] - 135s 270ms/step - loss: 0.2628 - val_loss: 0.2767\n",
            "Epoch 14/40\n",
            "500/500 [==============================] - 136s 272ms/step - loss: 0.2613 - val_loss: 0.2716\n",
            "Epoch 15/40\n",
            "500/500 [==============================] - 135s 270ms/step - loss: 0.2595 - val_loss: 0.2770\n",
            "Epoch 16/40\n",
            "500/500 [==============================] - 135s 271ms/step - loss: 0.2577 - val_loss: 0.2755\n",
            "Epoch 17/40\n",
            "500/500 [==============================] - 136s 272ms/step - loss: 0.2540 - val_loss: 0.2784\n",
            "Epoch 18/40\n",
            "500/500 [==============================] - 136s 272ms/step - loss: 0.2542 - val_loss: 0.2826\n",
            "Epoch 19/40\n",
            "500/500 [==============================] - 135s 271ms/step - loss: 0.2495 - val_loss: 0.2820\n",
            "Epoch 20/40\n",
            "500/500 [==============================] - 135s 270ms/step - loss: 0.2489 - val_loss: 0.2828\n",
            "Epoch 21/40\n",
            "500/500 [==============================] - 137s 273ms/step - loss: 0.2490 - val_loss: 0.2788\n",
            "Epoch 22/40\n",
            "500/500 [==============================] - 136s 271ms/step - loss: 0.2471 - val_loss: 0.2872\n",
            "Epoch 23/40\n",
            "500/500 [==============================] - 137s 275ms/step - loss: 0.2452 - val_loss: 0.2896\n",
            "Epoch 24/40\n",
            "500/500 [==============================] - 137s 274ms/step - loss: 0.2426 - val_loss: 0.2884\n",
            "Epoch 25/40\n",
            "500/500 [==============================] - 137s 274ms/step - loss: 0.2425 - val_loss: 0.2913\n",
            "Epoch 26/40\n",
            "500/500 [==============================] - 137s 275ms/step - loss: 0.2405 - val_loss: 0.2954\n",
            "Epoch 27/40\n",
            "500/500 [==============================] - 136s 272ms/step - loss: 0.2385 - val_loss: 0.2923\n",
            "Epoch 28/40\n",
            "500/500 [==============================] - 139s 278ms/step - loss: 0.2368 - val_loss: 0.3002\n",
            "Epoch 29/40\n",
            "500/500 [==============================] - 137s 274ms/step - loss: 0.2364 - val_loss: 0.2969\n",
            "Epoch 30/40\n",
            "500/500 [==============================] - 138s 275ms/step - loss: 0.2334 - val_loss: 0.2981\n",
            "Epoch 31/40\n",
            "500/500 [==============================] - 137s 273ms/step - loss: 0.2337 - val_loss: 0.2968\n",
            "Epoch 32/40\n",
            "500/500 [==============================] - 137s 274ms/step - loss: 0.2335 - val_loss: 0.2947\n",
            "Epoch 33/40\n",
            "500/500 [==============================] - 138s 275ms/step - loss: 0.2310 - val_loss: 0.2985\n",
            "Epoch 34/40\n",
            "500/500 [==============================] - 138s 276ms/step - loss: 0.2316 - val_loss: 0.3062\n",
            "Epoch 35/40\n",
            "500/500 [==============================] - 140s 281ms/step - loss: 0.2293 - val_loss: 0.3019\n",
            "Epoch 36/40\n",
            "500/500 [==============================] - 138s 275ms/step - loss: 0.2274 - val_loss: 0.3040\n",
            "Epoch 37/40\n",
            "500/500 [==============================] - 138s 276ms/step - loss: 0.2264 - val_loss: 0.3061\n",
            "Epoch 38/40\n",
            "500/500 [==============================] - 137s 274ms/step - loss: 0.2255 - val_loss: 0.3035\n",
            "Epoch 39/40\n",
            "500/500 [==============================] - 137s 274ms/step - loss: 0.2255 - val_loss: 0.3061\n",
            "Epoch 40/40\n",
            "500/500 [==============================] - 138s 276ms/step - loss: 0.2232 - val_loss: 0.3101\n"
          ],
          "name": "stdout"
        }
      ]
    },
    {
      "cell_type": "code",
      "metadata": {
        "colab": {
          "base_uri": "https://localhost:8080/",
          "height": 298
        },
        "id": "wlKNUO15nyD6",
        "outputId": "d7ed8a2d-97b6-432e-caf1-b8478595f15c"
      },
      "source": [
        "loss = history.history['loss']\r\n",
        "val_loss = history.history['val_loss']\r\n",
        "\r\n",
        "epochs = range(1, len(loss) + 1)\r\n",
        "\r\n",
        "plt.figure()\r\n",
        "\r\n",
        "plt.plot(epochs, loss, 'bo', label='Training loss')\r\n",
        "plt.plot(epochs, val_loss, 'b', label='Validation loss')\r\n",
        "plt.title('Training and validation loss')\r\n",
        "plt.legend()\r\n"
      ],
      "execution_count": 27,
      "outputs": [
        {
          "output_type": "execute_result",
          "data": {
            "text/plain": [
              "<matplotlib.legend.Legend at 0x7f24e9dc8f28>"
            ]
          },
          "metadata": {
            "tags": []
          },
          "execution_count": 27
        },
        {
          "output_type": "display_data",
          "data": {
            "image/png": "[encoded data removed]",
            "text/plain": [
              "<Figure size 432x288 with 1 Axes>"
            ]
          },
          "metadata": {
            "tags": [],
            "needs_background": "light"
          }
        }
      ]
    },
    {
      "cell_type": "markdown",
      "metadata": {
        "id": "CMsooMAwn34w"
      },
      "source": [
        "과대적합이 거의 일어나지 않았다. 성능에는 큰 차이가 없다. 이를 해결하기 위해 네트워크 용량을 늘려보자."
      ]
    },
    {
      "cell_type": "markdown",
      "metadata": {
        "id": "dAR3RdXcnmzO"
      },
      "source": [
        "### 3-5-2) 스태킹 순환층"
      ]
    },
    {
      "cell_type": "code",
      "metadata": {
        "colab": {
          "base_uri": "https://localhost:8080/"
        },
        "id": "QFOKstgooHIb",
        "outputId": "765c7fe4-db49-4f6a-af52-816324785d0b"
      },
      "source": [
        "from keras.models import Sequential\r\n",
        "from keras import layers\r\n",
        "from keras.optimizers import RMSprop\r\n",
        "\r\n",
        "model = Sequential()\r\n",
        "model.add(layers.GRU(32,\r\n",
        "                     dropout=0.1,\r\n",
        "                     recurrent_dropout=0.5,\r\n",
        "                     return_sequences=True,  # 마지막 타임스텝만 출력하는 것이 아니라 전체 시퀀스(3D 텐서)를 출력\r\n",
        "                     input_shape=(None, float_data.shape[-1])))\r\n",
        "model.add(layers.GRU(64, activation='relu',\r\n",
        "                     dropout=0.1, \r\n",
        "                     recurrent_dropout=0.5))\r\n",
        "model.add(layers.Dense(1))\r\n",
        "\r\n",
        "model.compile(optimizer=RMSprop(), loss='mae')\r\n",
        "history = model.fit_generator(train_gen,\r\n",
        "                              steps_per_epoch=500,\r\n",
        "                              epochs=10,\r\n",
        "                              validation_data=val_gen,\r\n",
        "                              validation_steps=val_steps)"
      ],
      "execution_count": 30,
      "outputs": [
        {
          "output_type": "stream",
          "text": [
            "/usr/local/lib/python3.6/dist-packages/tensorflow/python/keras/engine/training.py:1844: UserWarning: `Model.fit_generator` is deprecated and will be removed in a future version. Please use `Model.fit`, which supports generators.\n",
            "  warnings.warn('`Model.fit_generator` is deprecated and '\n"
          ],
          "name": "stderr"
        },
        {
          "output_type": "stream",
          "text": [
            "Epoch 1/10\n",
            "500/500 [==============================] - 381s 753ms/step - loss: 0.3421 - val_loss: 0.2840\n",
            "Epoch 2/10\n",
            "500/500 [==============================] - 376s 752ms/step - loss: 0.3039 - val_loss: 0.2701\n",
            "Epoch 3/10\n",
            "500/500 [==============================] - 383s 766ms/step - loss: 0.2947 - val_loss: 0.2796\n",
            "Epoch 4/10\n",
            "500/500 [==============================] - 386s 771ms/step - loss: 0.2876 - val_loss: 0.2675\n",
            "Epoch 5/10\n",
            "500/500 [==============================] - 387s 774ms/step - loss: 0.2803 - val_loss: 0.2689\n",
            "Epoch 6/10\n",
            "500/500 [==============================] - 387s 775ms/step - loss: 0.2755 - val_loss: 0.2665\n",
            "Epoch 7/10\n",
            "500/500 [==============================] - 388s 776ms/step - loss: 0.2717 - val_loss: 0.2658\n",
            "Epoch 8/10\n",
            "500/500 [==============================] - 386s 773ms/step - loss: 0.2654 - val_loss: 0.2719\n",
            "Epoch 9/10\n",
            "500/500 [==============================] - 386s 773ms/step - loss: 0.2634 - val_loss: 0.2886\n",
            "Epoch 10/10\n",
            "500/500 [==============================] - 387s 774ms/step - loss: 0.2597 - val_loss: 0.2797\n"
          ],
          "name": "stdout"
        }
      ]
    },
    {
      "cell_type": "code",
      "metadata": {
        "colab": {
          "base_uri": "https://localhost:8080/",
          "height": 298
        },
        "id": "cgVmpWycoHLD",
        "outputId": "b5b424c9-5f61-4afe-8ca7-15dd31796cf6"
      },
      "source": [
        "loss = history.history['loss']\r\n",
        "val_loss = history.history['val_loss']\r\n",
        "\r\n",
        "epochs = range(1, len(loss) + 1)\r\n",
        "\r\n",
        "plt.figure()\r\n",
        "\r\n",
        "plt.plot(epochs, loss, 'bo', label='Training loss')\r\n",
        "plt.plot(epochs, val_loss, 'b', label='Validation loss')\r\n",
        "plt.title('Training and validation loss')\r\n",
        "plt.legend()"
      ],
      "execution_count": 31,
      "outputs": [
        {
          "output_type": "execute_result",
          "data": {
            "text/plain": [
              "<matplotlib.legend.Legend at 0x7f24ecce90f0>"
            ]
          },
          "metadata": {
            "tags": []
          },
          "execution_count": 31
        },
        {
          "output_type": "display_data",
          "data": {
            "image/png": "[encoded data removed]",
            "text/plain": [
              "<Figure size 432x288 with 1 Axes>"
            ]
          },
          "metadata": {
            "tags": [],
            "needs_background": "light"
          }
        }
      ]
    },
    {
      "cell_type": "markdown",
      "metadata": {
        "id": "hP0puyepp8Ga"
      },
      "source": [
        "성능이 미미하게 향상됐다. 충분히 과대적합되도록 층의 크기를 늘릴 수도 있다. 하지만 이만큼 층을 추가했는데 성능의 큰 향상은 없는 걸로 보아, 더이상 네트워크의 용량을 늘리는 것은 도움이 안된다고 볼 수 있다."
      ]
    },
    {
      "cell_type": "markdown",
      "metadata": {
        "id": "RvLCwIUXnmvY"
      },
      "source": [
        "### 3-5-3) 양방향 RNN 사용"
      ]
    },
    {
      "cell_type": "code",
      "metadata": {
        "id": "WbggbqKSuDC6"
      },
      "source": [
        "# 최근 데이터가 먼저 나오도록 입력 시퀀스를 처리\r\n",
        "\r\n",
        "def reverse_order_generator(data, lookback, delay, min_index, max_index,\r\n",
        "                            shuffle=False, batch_size=128, step=6):\r\n",
        "    if max_index is None:\r\n",
        "        max_index = len(data) - delay - 1\r\n",
        "    i = min_index + lookback\r\n",
        "    while 1:\r\n",
        "        if shuffle:\r\n",
        "            rows = np.random.randint(\r\n",
        "                min_index + lookback, max_index, size=batch_size)\r\n",
        "        else:\r\n",
        "            if i + batch_size >= max_index:\r\n",
        "                i = min_index + lookback\r\n",
        "            rows = np.arange(i, min(i + batch_size, max_index))\r\n",
        "            i += len(rows)\r\n",
        "\r\n",
        "        samples = np.zeros((len(rows),\r\n",
        "                           lookback // step,\r\n",
        "                           data.shape[-1]))\r\n",
        "        targets = np.zeros((len(rows),))\r\n",
        "        for j, row in enumerate(rows):\r\n",
        "            indices = range(rows[j] - lookback, rows[j], step)\r\n",
        "            samples[j] = data[indices]\r\n",
        "            targets[j] = data[rows[j] + delay][1]\r\n",
        "        yield samples[:, ::-1, :], targets\r\n",
        "        \r\n",
        "train_gen_reverse = reverse_order_generator(\r\n",
        "    float_data,\r\n",
        "    lookback=lookback,\r\n",
        "    delay=delay,\r\n",
        "    min_index=0,\r\n",
        "    max_index=200000,\r\n",
        "    shuffle=True,\r\n",
        "    step=step, \r\n",
        "    batch_size=batch_size)\r\n",
        "val_gen_reverse = reverse_order_generator(\r\n",
        "    float_data,\r\n",
        "    lookback=lookback,\r\n",
        "    delay=delay,\r\n",
        "    min_index=200001,\r\n",
        "    max_index=300000,\r\n",
        "    step=step,\r\n",
        "    batch_size=batch_size)"
      ],
      "execution_count": 32,
      "outputs": []
    },
    {
      "cell_type": "code",
      "metadata": {
        "colab": {
          "base_uri": "https://localhost:8080/"
        },
        "id": "i43Cyw53uMtu",
        "outputId": "36ba3749-127c-4065-e206-ad3fa79181e3"
      },
      "source": [
        "model = Sequential()\r\n",
        "model.add(layers.GRU(32, input_shape=(None, float_data.shape[-1])))\r\n",
        "model.add(layers.Dense(1))\r\n",
        "\r\n",
        "model.compile(optimizer=RMSprop(), loss='mae')\r\n",
        "history = model.fit_generator(train_gen_reverse,\r\n",
        "                              steps_per_epoch=500,\r\n",
        "                              epochs=20,\r\n",
        "                              validation_data=val_gen_reverse,\r\n",
        "                              validation_steps=val_steps)"
      ],
      "execution_count": 33,
      "outputs": [
        {
          "output_type": "stream",
          "text": [
            "/usr/local/lib/python3.6/dist-packages/tensorflow/python/keras/engine/training.py:1844: UserWarning: `Model.fit_generator` is deprecated and will be removed in a future version. Please use `Model.fit`, which supports generators.\n",
            "  warnings.warn('`Model.fit_generator` is deprecated and '\n"
          ],
          "name": "stderr"
        },
        {
          "output_type": "stream",
          "text": [
            "Epoch 1/20\n",
            "500/500 [==============================] - 84s 164ms/step - loss: 0.5002 - val_loss: 0.4778\n",
            "Epoch 2/20\n",
            "500/500 [==============================] - 83s 167ms/step - loss: 0.4501 - val_loss: 0.4660\n",
            "Epoch 3/20\n",
            "500/500 [==============================] - 82s 165ms/step - loss: 0.4117 - val_loss: 0.4639\n",
            "Epoch 4/20\n",
            "500/500 [==============================] - 82s 164ms/step - loss: 0.3694 - val_loss: 0.4450\n",
            "Epoch 5/20\n",
            "500/500 [==============================] - 82s 163ms/step - loss: 0.3440 - val_loss: 0.4450\n",
            "Epoch 6/20\n",
            "500/500 [==============================] - 84s 169ms/step - loss: 0.3239 - val_loss: 0.4443\n",
            "Epoch 7/20\n",
            "500/500 [==============================] - 83s 166ms/step - loss: 0.3117 - val_loss: 0.4394\n",
            "Epoch 8/20\n",
            "500/500 [==============================] - 84s 169ms/step - loss: 0.2970 - val_loss: 0.4357\n",
            "Epoch 9/20\n",
            "500/500 [==============================] - 82s 164ms/step - loss: 0.2833 - val_loss: 0.4281\n",
            "Epoch 10/20\n",
            "500/500 [==============================] - 82s 164ms/step - loss: 0.2757 - val_loss: 0.4275\n",
            "Epoch 11/20\n",
            "500/500 [==============================] - 84s 168ms/step - loss: 0.2678 - val_loss: 0.4385\n",
            "Epoch 12/20\n",
            "500/500 [==============================] - 84s 168ms/step - loss: 0.2606 - val_loss: 0.4381\n",
            "Epoch 13/20\n",
            "500/500 [==============================] - 83s 166ms/step - loss: 0.2577 - val_loss: 0.4339\n",
            "Epoch 14/20\n",
            "500/500 [==============================] - 83s 167ms/step - loss: 0.2496 - val_loss: 0.4365\n",
            "Epoch 15/20\n",
            "500/500 [==============================] - 84s 168ms/step - loss: 0.2480 - val_loss: 0.4402\n",
            "Epoch 16/20\n",
            "500/500 [==============================] - 84s 168ms/step - loss: 0.2420 - val_loss: 0.4579\n",
            "Epoch 17/20\n",
            "500/500 [==============================] - 83s 166ms/step - loss: 0.2388 - val_loss: 0.4454\n",
            "Epoch 18/20\n",
            "500/500 [==============================] - 85s 171ms/step - loss: 0.2352 - val_loss: 0.4425\n",
            "Epoch 19/20\n",
            "500/500 [==============================] - 83s 167ms/step - loss: 0.2305 - val_loss: 0.4453\n",
            "Epoch 20/20\n",
            "500/500 [==============================] - 83s 165ms/step - loss: 0.2275 - val_loss: 0.4477\n"
          ],
          "name": "stdout"
        }
      ]
    },
    {
      "cell_type": "code",
      "metadata": {
        "colab": {
          "base_uri": "https://localhost:8080/",
          "height": 298
        },
        "id": "SZ4FjfghuMw1",
        "outputId": "f3113b25-d08b-45f0-a191-620bdabac975"
      },
      "source": [
        "loss = history.history['loss']\r\n",
        "val_loss = history.history['val_loss']\r\n",
        "\r\n",
        "epochs = range(1, len(loss) + 1)\r\n",
        "\r\n",
        "plt.figure()\r\n",
        "\r\n",
        "plt.plot(epochs, loss, 'bo', label='Training loss')\r\n",
        "plt.plot(epochs, val_loss, 'b', label='Validation loss')\r\n",
        "plt.title('Training and validation loss')"
      ],
      "execution_count": 34,
      "outputs": [
        {
          "output_type": "execute_result",
          "data": {
            "text/plain": [
              "Text(0.5, 1.0, 'Training and validation loss')"
            ]
          },
          "metadata": {
            "tags": []
          },
          "execution_count": 34
        },
        {
          "output_type": "display_data",
          "data": {
            "image/png": "[encoded data removed]",
            "text/plain": [
              "<Figure size 432x288 with 1 Axes>"
            ]
          },
          "metadata": {
            "tags": [],
            "needs_background": "light"
          }
        }
      ]
    },
    {
      "cell_type": "markdown",
      "metadata": {
        "id": "g026ea6_uQpw"
      },
      "source": [
        "상식수준의 기준점보다 성능이 낮은 것을 확인할 수 있다. 과거보다 최근 내용을 더 잘 기억하기 때문에, 날씨 예측 예제에서는 시간 순서대로 처리하는 것이 매우 중요하다. 하지만 자연어 처리를 포함한 많은 문제에서는 시간이 크게 중요하지 않다. 문장 전체의 의미에, 단어가 어디에 위치해있느냐는 크게 영향을 주지 않기 때문이다."
      ]
    },
    {
      "cell_type": "code",
      "metadata": {
        "colab": {
          "base_uri": "https://localhost:8080/"
        },
        "id": "OgGZc4avuyMU",
        "outputId": "969f97e8-d848-48e0-bd2c-be09b8f9d770"
      },
      "source": [
        "#자연어 처리 예제에 적용 (LSTM 활용)\r\n",
        "\r\n",
        "from keras.datasets import imdb\r\n",
        "from keras.preprocessing import sequence\r\n",
        "from keras import layers\r\n",
        "from keras.models import Sequential\r\n",
        "\r\n",
        "max_features = 10000  # 특성으로 사용할 단어의 수\r\n",
        "maxlen = 500  # 사용할 텍스트의 길이(가장 빈번한 max_features 개의 단어만 사용)\r\n",
        "\r\n",
        "(x_train, y_train), (x_test, y_test) = imdb.load_data(num_words=max_features)\r\n",
        "\r\n",
        "# 시퀀스를 뒤집는다\r\n",
        "x_train = [x[::-1] for x in x_train]\r\n",
        "x_test = [x[::-1] for x in x_test]\r\n",
        "\r\n",
        "# 시퀀스에 패딩을 추가\r\n",
        "x_train = sequence.pad_sequences(x_train, maxlen=maxlen)\r\n",
        "x_test = sequence.pad_sequences(x_test, maxlen=maxlen)\r\n",
        "\r\n",
        "model = Sequential()\r\n",
        "model.add(layers.Embedding(max_features, 128))\r\n",
        "model.add(layers.LSTM(32))\r\n",
        "model.add(layers.Dense(1, activation='sigmoid'))\r\n",
        "\r\n",
        "model.compile(optimizer='rmsprop',\r\n",
        "              loss='binary_crossentropy',\r\n",
        "              metrics=['acc'])\r\n",
        "history = model.fit(x_train, y_train,\r\n",
        "                    epochs=10,\r\n",
        "                    batch_size=128,\r\n",
        "                    validation_split=0.2)"
      ],
      "execution_count": 35,
      "outputs": [
        {
          "output_type": "stream",
          "text": [
            "Downloading data from https://storage.googleapis.com/tensorflow/tf-keras-datasets/imdb.npz\n",
            "17465344/17464789 [==============================] - 0s 0us/step\n"
          ],
          "name": "stdout"
        },
        {
          "output_type": "stream",
          "text": [
            "<string>:6: VisibleDeprecationWarning: Creating an ndarray from ragged nested sequences (which is a list-or-tuple of lists-or-tuples-or ndarrays with different lengths or shapes) is deprecated. If you meant to do this, you must specify 'dtype=object' when creating the ndarray\n",
            "/usr/local/lib/python3.6/dist-packages/tensorflow/python/keras/datasets/imdb.py:159: VisibleDeprecationWarning: Creating an ndarray from ragged nested sequences (which is a list-or-tuple of lists-or-tuples-or ndarrays with different lengths or shapes) is deprecated. If you meant to do this, you must specify 'dtype=object' when creating the ndarray\n",
            "  x_train, y_train = np.array(xs[:idx]), np.array(labels[:idx])\n",
            "/usr/local/lib/python3.6/dist-packages/tensorflow/python/keras/datasets/imdb.py:160: VisibleDeprecationWarning: Creating an ndarray from ragged nested sequences (which is a list-or-tuple of lists-or-tuples-or ndarrays with different lengths or shapes) is deprecated. If you meant to do this, you must specify 'dtype=object' when creating the ndarray\n",
            "  x_test, y_test = np.array(xs[idx:]), np.array(labels[idx:])\n"
          ],
          "name": "stderr"
        },
        {
          "output_type": "stream",
          "text": [
            "Epoch 1/10\n",
            "157/157 [==============================] - 70s 432ms/step - loss: 0.6112 - acc: 0.6519 - val_loss: 0.4145 - val_acc: 0.8452\n",
            "Epoch 2/10\n",
            "157/157 [==============================] - 73s 463ms/step - loss: 0.3426 - acc: 0.8691 - val_loss: 0.3215 - val_acc: 0.8792\n",
            "Epoch 3/10\n",
            "157/157 [==============================] - 70s 446ms/step - loss: 0.2508 - acc: 0.9085 - val_loss: 0.4502 - val_acc: 0.8256\n",
            "Epoch 4/10\n",
            "157/157 [==============================] - 69s 442ms/step - loss: 0.2027 - acc: 0.9282 - val_loss: 0.3386 - val_acc: 0.8800\n",
            "Epoch 5/10\n",
            "157/157 [==============================] - 71s 450ms/step - loss: 0.1877 - acc: 0.9340 - val_loss: 0.4211 - val_acc: 0.8698\n",
            "Epoch 6/10\n",
            "157/157 [==============================] - 71s 452ms/step - loss: 0.1581 - acc: 0.9453 - val_loss: 0.4025 - val_acc: 0.8634\n",
            "Epoch 7/10\n",
            "157/157 [==============================] - 72s 460ms/step - loss: 0.1524 - acc: 0.9495 - val_loss: 0.4615 - val_acc: 0.8590\n",
            "Epoch 8/10\n",
            "157/157 [==============================] - 71s 455ms/step - loss: 0.1429 - acc: 0.9515 - val_loss: 0.4575 - val_acc: 0.8486\n",
            "Epoch 9/10\n",
            "157/157 [==============================] - 71s 452ms/step - loss: 0.1196 - acc: 0.9604 - val_loss: 0.4080 - val_acc: 0.8662\n",
            "Epoch 10/10\n",
            "157/157 [==============================] - 72s 456ms/step - loss: 0.1058 - acc: 0.9649 - val_loss: 0.4302 - val_acc: 0.8670\n"
          ],
          "name": "stdout"
        }
      ]
    },
    {
      "cell_type": "markdown",
      "metadata": {
        "id": "_wG55FIWvVZU"
      },
      "source": [
        "시퀀스를 뒤집지 않고, 시간 순서로 훈련한 LSTM과 성능이 거의 동일하다."
      ]
    },
    {
      "cell_type": "markdown",
      "metadata": {
        "id": "6ySrWHN4vwTP"
      },
      "source": [
        "## 3-6) keras의 Bidirectional 층을 사용한 양방향 RNN"
      ]
    },
    {
      "cell_type": "markdown",
      "metadata": {
        "id": "gqO_rz3qwMMz"
      },
      "source": [
        "### 3-6-1) IMDB 감성 분석 문제에 적용"
      ]
    },
    {
      "cell_type": "code",
      "metadata": {
        "id": "ezdftYSDwBI6"
      },
      "source": [
        "from keras import backend as K\r\n",
        "K.clear_session()"
      ],
      "execution_count": 36,
      "outputs": []
    },
    {
      "cell_type": "code",
      "metadata": {
        "colab": {
          "base_uri": "https://localhost:8080/"
        },
        "id": "-W5BIDALwQi2",
        "outputId": "7640ab9b-29ca-4221-cbdd-5260e7036b59"
      },
      "source": [
        "model = Sequential()\r\n",
        "model.add(layers.Embedding(max_features, 32))\r\n",
        "model.add(layers.Bidirectional(layers.LSTM(32)))\r\n",
        "model.add(layers.Dense(1, activation='sigmoid'))\r\n",
        "\r\n",
        "model.compile(optimizer='rmsprop', loss='binary_crossentropy', metrics=['acc'])\r\n",
        "history = model.fit(x_train, y_train, epochs=10, batch_size=128, validation_split=0.2)"
      ],
      "execution_count": 37,
      "outputs": [
        {
          "output_type": "stream",
          "text": [
            "Epoch 1/10\n",
            "157/157 [==============================] - 97s 591ms/step - loss: 0.6485 - acc: 0.6080 - val_loss: 0.4289 - val_acc: 0.8376\n",
            "Epoch 2/10\n",
            "157/157 [==============================] - 90s 573ms/step - loss: 0.4288 - acc: 0.8314 - val_loss: 0.4880 - val_acc: 0.7692\n",
            "Epoch 3/10\n",
            "157/157 [==============================] - 90s 574ms/step - loss: 0.3172 - acc: 0.8774 - val_loss: 0.4900 - val_acc: 0.8276\n",
            "Epoch 4/10\n",
            "157/157 [==============================] - 92s 585ms/step - loss: 0.2453 - acc: 0.9104 - val_loss: 0.3104 - val_acc: 0.8848\n",
            "Epoch 5/10\n",
            "157/157 [==============================] - 91s 581ms/step - loss: 0.2156 - acc: 0.9268 - val_loss: 0.3169 - val_acc: 0.8788\n",
            "Epoch 6/10\n",
            "157/157 [==============================] - 90s 576ms/step - loss: 0.1848 - acc: 0.9364 - val_loss: 0.3125 - val_acc: 0.8848\n",
            "Epoch 7/10\n",
            "157/157 [==============================] - 90s 576ms/step - loss: 0.1754 - acc: 0.9401 - val_loss: 0.5389 - val_acc: 0.8378\n",
            "Epoch 8/10\n",
            "157/157 [==============================] - 90s 572ms/step - loss: 0.1569 - acc: 0.9491 - val_loss: 0.3555 - val_acc: 0.8640\n",
            "Epoch 9/10\n",
            "157/157 [==============================] - 89s 570ms/step - loss: 0.1382 - acc: 0.9541 - val_loss: 0.3812 - val_acc: 0.8738\n",
            "Epoch 10/10\n",
            "157/157 [==============================] - 89s 567ms/step - loss: 0.1244 - acc: 0.9571 - val_loss: 0.5283 - val_acc: 0.8670\n"
          ],
          "name": "stdout"
        }
      ]
    },
    {
      "cell_type": "markdown",
      "metadata": {
        "id": "tLbq9TzmwXm6"
      },
      "source": [
        "val_acc가 87% 정도로, 양방향을 적용하지 않은 LSTM보다 조금 성능이 향상됐다. 양방향인만큼, 단방향보다 모델 파라미터가 두 배 많기 때문에 과대적합이 일찍 시작된다."
      ]
    },
    {
      "cell_type": "markdown",
      "metadata": {
        "id": "0XdsbvErwpgF"
      },
      "source": [
        "### 3-6-2 ) 온도 예측 문제에 적용"
      ]
    },
    {
      "cell_type": "code",
      "metadata": {
        "colab": {
          "base_uri": "https://localhost:8080/"
        },
        "id": "LOu6IbB_ws0X",
        "outputId": "2b8af2ed-56d0-49af-de59-825b183d7787"
      },
      "source": [
        "from keras.models import Sequential\r\n",
        "from keras import layers\r\n",
        "from keras.optimizers import RMSprop\r\n",
        "\r\n",
        "model = Sequential()\r\n",
        "model.add(layers.Bidirectional(\r\n",
        "    layers.GRU(32), input_shape=(None, float_data.shape[-1])))\r\n",
        "model.add(layers.Dense(1))\r\n",
        "\r\n",
        "model.compile(optimizer=RMSprop(), loss='mae')\r\n",
        "history = model.fit_generator(train_gen,\r\n",
        "                              steps_per_epoch=500,\r\n",
        "                              epochs=10,\r\n",
        "                              validation_data=val_gen,\r\n",
        "                              validation_steps=val_steps)"
      ],
      "execution_count": 38,
      "outputs": [
        {
          "output_type": "stream",
          "text": [
            "/usr/local/lib/python3.6/dist-packages/tensorflow/python/keras/engine/training.py:1844: UserWarning: `Model.fit_generator` is deprecated and will be removed in a future version. Please use `Model.fit`, which supports generators.\n",
            "  warnings.warn('`Model.fit_generator` is deprecated and '\n"
          ],
          "name": "stderr"
        },
        {
          "output_type": "stream",
          "text": [
            "Epoch 1/10\n",
            "500/500 [==============================] - 149s 293ms/step - loss: 0.3190 - val_loss: 0.2734\n",
            "Epoch 2/10\n",
            "500/500 [==============================] - 146s 292ms/step - loss: 0.2778 - val_loss: 0.2686\n",
            "Epoch 3/10\n",
            "500/500 [==============================] - 145s 291ms/step - loss: 0.2701 - val_loss: 0.2646\n",
            "Epoch 4/10\n",
            "500/500 [==============================] - 145s 291ms/step - loss: 0.2635 - val_loss: 0.2641\n",
            "Epoch 5/10\n",
            "500/500 [==============================] - 144s 288ms/step - loss: 0.2578 - val_loss: 0.2662\n",
            "Epoch 6/10\n",
            "500/500 [==============================] - 146s 293ms/step - loss: 0.2541 - val_loss: 0.2651\n",
            "Epoch 7/10\n",
            "500/500 [==============================] - 144s 288ms/step - loss: 0.2498 - val_loss: 0.2709\n",
            "Epoch 8/10\n",
            "500/500 [==============================] - 145s 290ms/step - loss: 0.2418 - val_loss: 0.2718\n",
            "Epoch 9/10\n",
            "500/500 [==============================] - 146s 292ms/step - loss: 0.2377 - val_loss: 0.2818\n",
            "Epoch 10/10\n",
            "500/500 [==============================] - 145s 289ms/step - loss: 0.2320 - val_loss: 0.2812\n"
          ],
          "name": "stdout"
        }
      ]
    },
    {
      "cell_type": "markdown",
      "metadata": {
        "id": "YJyiNGwEwxVe"
      },
      "source": [
        "3-4 에서 수행한 일반 GRU 층과 성능이 비슷하다."
      ]
    }
  ]
}