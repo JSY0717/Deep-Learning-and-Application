{
  "nbformat": 4,
  "nbformat_minor": 0,
  "metadata": {
    "colab": {
      "name": "Generative Adversarial Net.ipynb",
      "provenance": [],
      "authorship_tag": "ABX9TyMzMeW2zs90isNY+pNsAWwg"
    },
    "kernelspec": {
      "name": "python3",
      "display_name": "Python 3"
    }
  },
  "cells": [
    {
      "cell_type": "markdown",
      "metadata": {
        "id": "Kc4eoYDoBTCR"
      },
      "source": [
        "# 적대적 생성 신경망 GAN"
      ]
    },
    {
      "cell_type": "markdown",
      "metadata": {
        "id": "C8OMUstgGJ4e"
      },
      "source": [
        "## 1) generator"
      ]
    },
    {
      "cell_type": "code",
      "metadata": {
        "colab": {
          "base_uri": "https://localhost:8080/"
        },
        "id": "m5K5P7xSzIyB",
        "outputId": "eb92d64c-e297-4755-aab7-08bad2dc91e1"
      },
      "source": [
        "import keras\r\n",
        "from keras import layers\r\n",
        "import numpy as np\r\n",
        "\r\n",
        "latent_dim = 32  # 랜덤 벡터 사이즈 (잠재 공간의 무작위한 포인트)\r\n",
        "\r\n",
        "# 식별자 모델에 입력될 데이터의 shape\r\n",
        "height = 32\r\n",
        "width = 32\r\n",
        "channels = 3\r\n",
        "\r\n",
        "generator_input = keras.Input(shape=(latent_dim,))  # 생성자 네트워크에 shape=32의 데이터를 입력 \r\n",
        "\r\n",
        "# 입력을 16 × 16 크기의 128개 채널을 가진 특성 맵으로 변환합니다\r\n",
        "x = layers.Dense(128 * 16 * 16)(generator_input)  # 128x16x16 의 크기로 출력\r\n",
        "x = layers.LeakyReLU()(x)\r\n",
        "x = layers.Reshape((16, 16, 128))(x)  # 출력된 결과물을 reshape\r\n",
        "\r\n",
        "# 합성곱 층을 추가합니다\r\n",
        "# 채널 개수=256, 커널 사이즈=5x5\r\n",
        "# 입출력 이미지의 사이즈 동일\r\n",
        "x = layers.Conv2D(256, 5, padding='same')(x)  \r\n",
        "x = layers.LeakyReLU()(x)\r\n",
        "\r\n",
        "# 32 × 32 크기로 업샘플링합니다\r\n",
        "x = layers.Conv2DTranspose(256, 4, strides=2, padding='same')(x)\r\n",
        "x = layers.LeakyReLU()(x)\r\n",
        "\r\n",
        "# 합성곱 층을 더 추가합니다\r\n",
        "# 256개의 5x5 필터 설정\r\n",
        "x = layers.Conv2D(256, 5, padding='same')(x)\r\n",
        "x = layers.LeakyReLU()(x)\r\n",
        "x = layers.Conv2D(256, 5, padding='same')(x)\r\n",
        "x = layers.LeakyReLU()(x)\r\n",
        "\r\n",
        "# 3개의 7x7 필터를 통과\r\n",
        "x = layers.Conv2D(channels, 7, activation='tanh', padding='same')(x)\r\n",
        "\r\n",
        "generator = keras.models.Model(generator_input, x)  # 생성자 네트워크 구성\r\n",
        "generator.summary()"
      ],
      "execution_count": 5,
      "outputs": [
        {
          "output_type": "stream",
          "text": [
            "Model: \"model\"\n",
            "_________________________________________________________________\n",
            "Layer (type)                 Output Shape              Param #   \n",
            "=================================================================\n",
            "input_1 (InputLayer)         [(None, 32)]              0         \n",
            "_________________________________________________________________\n",
            "dense (Dense)                (None, 32768)             1081344   \n",
            "_________________________________________________________________\n",
            "leaky_re_lu (LeakyReLU)      (None, 32768)             0         \n",
            "_________________________________________________________________\n",
            "reshape (Reshape)            (None, 16, 16, 128)       0         \n",
            "_________________________________________________________________\n",
            "conv2d (Conv2D)              (None, 16, 16, 256)       819456    \n",
            "_________________________________________________________________\n",
            "leaky_re_lu_1 (LeakyReLU)    (None, 16, 16, 256)       0         \n",
            "_________________________________________________________________\n",
            "conv2d_transpose (Conv2DTran (None, 32, 32, 256)       1048832   \n",
            "_________________________________________________________________\n",
            "leaky_re_lu_2 (LeakyReLU)    (None, 32, 32, 256)       0         \n",
            "_________________________________________________________________\n",
            "conv2d_1 (Conv2D)            (None, 32, 32, 256)       1638656   \n",
            "_________________________________________________________________\n",
            "leaky_re_lu_3 (LeakyReLU)    (None, 32, 32, 256)       0         \n",
            "_________________________________________________________________\n",
            "conv2d_2 (Conv2D)            (None, 32, 32, 256)       1638656   \n",
            "_________________________________________________________________\n",
            "leaky_re_lu_4 (LeakyReLU)    (None, 32, 32, 256)       0         \n",
            "_________________________________________________________________\n",
            "conv2d_3 (Conv2D)            (None, 32, 32, 3)         37635     \n",
            "=================================================================\n",
            "Total params: 6,264,579\n",
            "Trainable params: 6,264,579\n",
            "Non-trainable params: 0\n",
            "_________________________________________________________________\n"
          ],
          "name": "stdout"
        }
      ]
    },
    {
      "cell_type": "markdown",
      "metadata": {
        "id": "ShodIHq1H6yu"
      },
      "source": [
        "## 2) 판별자"
      ]
    },
    {
      "cell_type": "code",
      "metadata": {
        "colab": {
          "base_uri": "https://localhost:8080/"
        },
        "id": "uUsqK_JCGGvV",
        "outputId": "2b0270f3-94ca-49e5-a8e5-1f89525a206c"
      },
      "source": [
        "# 판별자 모델에 입력될 데이터의 shape=(32,32,3)\r\n",
        "discriminator_input = layers.Input(shape=(height, width, channels))\r\n",
        "\r\n",
        "x = layers.Conv2D(128, 3)(discriminator_input)\r\n",
        "x = layers.LeakyReLU()(x)\r\n",
        "x = layers.Conv2D(128, 4, strides=2)(x)\r\n",
        "x = layers.LeakyReLU()(x)\r\n",
        "x = layers.Conv2D(128, 4, strides=2)(x)\r\n",
        "x = layers.LeakyReLU()(x)\r\n",
        "x = layers.Conv2D(128, 4, strides=2)(x)\r\n",
        "x = layers.LeakyReLU()(x)\r\n",
        "x = layers.Flatten()(x)\r\n",
        "\r\n",
        "# 생성자가 생성한 노이즈 이미지를 해결하기 위해 드롭아웃 층을 넣는다.\r\n",
        "x = layers.Dropout(0.4)(x)\r\n",
        "\r\n",
        "# 분류 층\r\n",
        "x = layers.Dense(1, activation='sigmoid')(x)\r\n",
        "\r\n",
        "# 식별자 네트워크 구성\r\n",
        "discriminator = keras.models.Model(discriminator_input, x)\r\n",
        "discriminator.summary()\r\n",
        "\r\n",
        "# 옵티마이저에서 (값을 지정하여) 그래디언트 클리핑을 사용합니다\r\n",
        "# 안정된 훈련을 위해서 학습률 감쇠를 사용합니다\r\n",
        "# Gradient Clipping : 그래디언트 폭주를 막기 위해, 역전파 단계에서 기울기 값이 특정 임계치를 넘지 못하게 제한한다.\r\n",
        "discriminator_optimizer = keras.optimizers.RMSprop(lr=0.0008, clipvalue=1.0, decay=1e-8)\r\n",
        "\r\n",
        "discriminator.compile(optimizer=discriminator_optimizer, loss='binary_crossentropy')"
      ],
      "execution_count": 2,
      "outputs": [
        {
          "output_type": "stream",
          "text": [
            "Model: \"model_1\"\n",
            "_________________________________________________________________\n",
            "Layer (type)                 Output Shape              Param #   \n",
            "=================================================================\n",
            "input_2 (InputLayer)         [(None, 32, 32, 3)]       0         \n",
            "_________________________________________________________________\n",
            "conv2d_4 (Conv2D)            (None, 30, 30, 128)       3584      \n",
            "_________________________________________________________________\n",
            "leaky_re_lu_5 (LeakyReLU)    (None, 30, 30, 128)       0         \n",
            "_________________________________________________________________\n",
            "conv2d_5 (Conv2D)            (None, 14, 14, 128)       262272    \n",
            "_________________________________________________________________\n",
            "leaky_re_lu_6 (LeakyReLU)    (None, 14, 14, 128)       0         \n",
            "_________________________________________________________________\n",
            "conv2d_6 (Conv2D)            (None, 6, 6, 128)         262272    \n",
            "_________________________________________________________________\n",
            "leaky_re_lu_7 (LeakyReLU)    (None, 6, 6, 128)         0         \n",
            "_________________________________________________________________\n",
            "conv2d_7 (Conv2D)            (None, 2, 2, 128)         262272    \n",
            "_________________________________________________________________\n",
            "leaky_re_lu_8 (LeakyReLU)    (None, 2, 2, 128)         0         \n",
            "_________________________________________________________________\n",
            "flatten (Flatten)            (None, 512)               0         \n",
            "_________________________________________________________________\n",
            "dropout (Dropout)            (None, 512)               0         \n",
            "_________________________________________________________________\n",
            "dense_1 (Dense)              (None, 1)                 513       \n",
            "=================================================================\n",
            "Total params: 790,913\n",
            "Trainable params: 790,913\n",
            "Non-trainable params: 0\n",
            "_________________________________________________________________\n"
          ],
          "name": "stdout"
        }
      ]
    },
    {
      "cell_type": "markdown",
      "metadata": {
        "id": "Wg7_4T61IeRM"
      },
      "source": [
        ""
      ]
    },
    {
      "cell_type": "markdown",
      "metadata": {
        "id": "hSbVaHvNIbQ0"
      },
      "source": [
        "## 3) 적대적 네트워크"
      ]
    },
    {
      "cell_type": "code",
      "metadata": {
        "id": "0tb4nXVeIRbA"
      },
      "source": [
        "# 판별자의 가중치가 훈련되지 않도록 설정합니다(gan 모델에만 적용됩니다)\r\n",
        "discriminator.trainable = False\r\n",
        "\r\n",
        "gan_input = keras.Input(shape=(latent_dim,))  # 랜덤 노이즈 = 32차원\r\n",
        "gan_output = discriminator(generator(gan_input))\r\n",
        "\r\n",
        "# GAN 함수 정의\r\n",
        "gan = keras.models.Model(gan_input, gan_output)\r\n",
        "\r\n",
        "gan_optimizer = keras.optimizers.RMSprop(lr=0.0004, clipvalue=1.0, decay=1e-8)\r\n",
        "gan.compile(optimizer=gan_optimizer, loss='binary_crossentropy')"
      ],
      "execution_count": 3,
      "outputs": []
    },
    {
      "cell_type": "markdown",
      "metadata": {
        "id": "Rs9U0H81J--I"
      },
      "source": [
        "## 4) DCGAN 훈련\r\n",
        "\r\n",
        "\r\n"
      ]
    },
    {
      "cell_type": "code",
      "metadata": {
        "colab": {
          "base_uri": "https://localhost:8080/"
        },
        "id": "E7GM10vBJ1HX",
        "outputId": "a0186384-1dbc-48f2-a44d-36959da2fa37"
      },
      "source": [
        "import os\r\n",
        "from keras.preprocessing import image\r\n",
        "\r\n",
        "# CIFAR10 데이터를 로드합니다\r\n",
        "(x_train, y_train), (_, _) = keras.datasets.cifar10.load_data()\r\n",
        "\r\n",
        "# 개구리 이미지를 선택합니다(클래스 6)\r\n",
        "x_train = x_train[y_train.flatten() == 6]\r\n",
        "\r\n",
        "# 데이터를 정규화합니다\r\n",
        "x_train = x_train.reshape(\r\n",
        "    (x_train.shape[0],) + (height, width, channels)).astype('float32') / 255.\r\n",
        "\r\n",
        "iterations = 10000\r\n",
        "batch_size = 20\r\n",
        "#save_dir = '/content/sample_data'\r\n",
        "#if not os.path.exists(save_dir):\r\n",
        "#    os.mkdir(save_dir)\r\n",
        "\r\n",
        "# 훈련 반복 시작\r\n",
        "start = 0\r\n",
        "for step in range(iterations):\r\n",
        "    # 잠재 공간에서 무작위로 포인트를 샘플링합니다\r\n",
        "    random_latent_vectors = np.random.normal(size=(batch_size, latent_dim))\r\n",
        "\r\n",
        "    # 가짜 이미지를 디코딩합니다\r\n",
        "    generated_images = generator.predict(random_latent_vectors)\r\n",
        "\r\n",
        "    # 진짜 이미지와 연결합니다\r\n",
        "    stop = start + batch_size\r\n",
        "    real_images = x_train[start: stop]\r\n",
        "    combined_images = np.concatenate([generated_images, real_images])\r\n",
        "\r\n",
        "    # 진짜와 가짜 이미지를 구분하여 레이블을 합칩니다\r\n",
        "    labels = np.concatenate([np.ones((batch_size, 1)),\r\n",
        "                             np.zeros((batch_size, 1))])\r\n",
        "    # 레이블에 랜덤 노이즈를 추가합니다. 아주 중요합니다!\r\n",
        "    labels += 0.05 * np.random.random(labels.shape)\r\n",
        "\r\n",
        "    # discriminator를 훈련합니다\r\n",
        "    d_loss = discriminator.train_on_batch(combined_images, labels)\r\n",
        "\r\n",
        "    # 잠재 공간에서 무작위로 포인트를 샘플링합니다\r\n",
        "    random_latent_vectors = np.random.normal(size=(batch_size, latent_dim))\r\n",
        "\r\n",
        "    # 모두 “진짜 이미지\"라고 레이블을 만듭니다\r\n",
        "    misleading_targets = np.zeros((batch_size, 1))\r\n",
        "\r\n",
        "    # generator를 훈련합니다(gan 모델에서 discriminator의 가중치는 동결됩니다)\r\n",
        "    a_loss = gan.train_on_batch(random_latent_vectors, misleading_targets)\r\n",
        "    \r\n",
        "    start += batch_size\r\n",
        "    if start > len(x_train) - batch_size:\r\n",
        "      start = 0\r\n",
        "\r\n",
        "    # 중간 중간 저장하고 그래프를 그립니다\r\n",
        "    if step % 100 == 0:\r\n",
        "        # 모델 가중치를 저장합니다\r\n",
        "        gan.save_weights('gan.h5')\r\n",
        "\r\n",
        "        # 측정 지표를 출력합니다\r\n",
        "        print('스텝 %s에서 판별자 손실: %s' % (step, d_loss))\r\n",
        "        print('스텝 %s에서 적대적 손실: %s' % (step, a_loss))\r\n",
        "\r\n",
        "        # 생성된 이미지 하나를 저장합니다\r\n",
        "        #img = image.array_to_img(generated_images[0] * 255., scale=False)\r\n",
        "        #img.save(os.path.join(save_dir, 'generated_frog' + str(step) + '.png'))\r\n",
        "\r\n",
        "        # 비교를 위해 진짜 이미지 하나를 저장합니다\r\n",
        "        #img = image.array_to_img(real_images[0] * 255., scale=False)\r\n",
        "        #img.save(os.path.join(save_dir, 'real_frog' + str(step) + '.png'))"
      ],
      "execution_count": null,
      "outputs": [
        {
          "output_type": "stream",
          "text": [
            "스텝 0에서 판별자 손실: 0.7452754378318787\n",
            "스텝 0에서 적대적 손실: 0.7883732318878174\n",
            "스텝 100에서 판별자 손실: 0.6927130222320557\n",
            "스텝 100에서 적대적 손실: 0.7432834506034851\n",
            "스텝 200에서 판별자 손실: 0.7000331878662109\n",
            "스텝 200에서 적대적 손실: 0.7692786455154419\n",
            "스텝 300에서 판별자 손실: 0.7160402536392212\n",
            "스텝 300에서 적대적 손실: 1.3634451627731323\n",
            "스텝 400에서 판별자 손실: 0.6777041554450989\n",
            "스텝 400에서 적대적 손실: 0.7752559781074524\n",
            "스텝 500에서 판별자 손실: 0.687684953212738\n",
            "스텝 500에서 적대적 손실: 0.7976940274238586\n"
          ],
          "name": "stdout"
        }
      ]
    },
    {
      "cell_type": "markdown",
      "metadata": {
        "id": "WCqSGZXRJ-e0"
      },
      "source": [
        "## 5) 가짜 이미지 출력"
      ]
    },
    {
      "cell_type": "code",
      "metadata": {
        "colab": {
          "base_uri": "https://localhost:8080/",
          "height": 1000
        },
        "id": "eXcw8r9GKZYN",
        "outputId": "c7be392f-0088-4e4b-f73b-71cd357a9eee"
      },
      "source": [
        "import matplotlib.pyplot as plt\r\n",
        "from keras.preprocessing import image\r\n",
        "import numpy as np\r\n",
        "\r\n",
        "# 잠재 공간에서 랜덤한 포인트를 샘플링합니다\r\n",
        "latent_dim = 32  # 랜덤 벡터 사이즈 (잠재 공간의 무작위한 포인트)\r\n",
        "random_latent_vectors = np.random.normal(size=(10, latent_dim))\r\n",
        "\r\n",
        "# 가짜 이미지로 디코딩합니다\r\n",
        "generated_images = generator.predict(random_latent_vectors)\r\n",
        "\r\n",
        "for i in range(generated_images.shape[0]):\r\n",
        "    img = image.array_to_img(generated_images[i] * 255., scale=False)\r\n",
        "    plt.figure()\r\n",
        "    plt.imshow(img)\r\n",
        "    \r\n",
        "plt.show()"
      ],
      "execution_count": 7,
      "outputs": [
        {
          "output_type": "display_data",
          "data": {
            "image/png": "[encoded data removed]",
            "text/plain": [
              "<Figure size 432x288 with 1 Axes>"
            ]
          },
          "metadata": {
            "tags": [],
            "needs_background": "light"
          }
        },
        {
          "output_type": "display_data",
          "data": {
            "image/png": "[encoded data removed]",
            "text/plain": [
              "<Figure size 432x288 with 1 Axes>"
            ]
          },
          "metadata": {
            "tags": [],
            "needs_background": "light"
          }
        },
        {
          "output_type": "display_data",
          "data": {
            "image/png": "[encoded data removed]",
            "text/plain": [
              "<Figure size 432x288 with 1 Axes>"
            ]
          },
          "metadata": {
            "tags": [],
            "needs_background": "light"
          }
        },
        {
          "output_type": "display_data",
          "data": {
            "image/png": "[encoded data removed]",
            "text/plain": [
              "<Figure size 432x288 with 1 Axes>"
            ]
          },
          "metadata": {
            "tags": [],
            "needs_background": "light"
          }
        },
        {
          "output_type": "display_data",
          "data": {
            "image/png": "[encoded data removed]",
            "text/plain": [
              "<Figure size 432x288 with 1 Axes>"
            ]
          },
          "metadata": {
            "tags": [],
            "needs_background": "light"
          }
        },
        {
          "output_type": "display_data",
          "data": {
            "image/png": "[encoded data removed]",
            "text/plain": [
              "<Figure size 432x288 with 1 Axes>"
            ]
          },
          "metadata": {
            "tags": [],
            "needs_background": "light"
          }
        },
        {
          "output_type": "display_data",
          "data": {
            "image/png": "[encoded data removed]",
            "text/plain": [
              "<Figure size 432x288 with 1 Axes>"
            ]
          },
          "metadata": {
            "tags": [],
            "needs_background": "light"
          }
        },
        {
          "output_type": "display_data",
          "data": {
            "image/png": "[encoded data removed]",
            "text/plain": [
              "<Figure size 432x288 with 1 Axes>"
            ]
          },
          "metadata": {
            "tags": [],
            "needs_background": "light"
          }
        },
        {
          "output_type": "display_data",
          "data": {
            "image/png": "[encoded data removed]",
            "text/plain": [
              "<Figure size 432x288 with 1 Axes>"
            ]
          },
          "metadata": {
            "tags": [],
            "needs_background": "light"
          }
        },
        {
          "output_type": "display_data",
          "data": {
            "image/png": "[encoded data removed]",
            "text/plain": [
              "<Figure size 432x288 with 1 Axes>"
            ]
          },
          "metadata": {
            "tags": [],
            "needs_background": "light"
          }
        }
      ]
    },
    {
      "cell_type": "markdown",
      "metadata": {
        "id": "WsMPxzoOpt3c"
      },
      "source": [
        "적은 수의 스텝을 사용했기 때문에 덜 자세한 이미지가 표현된다."
      ]
    },
    {
      "cell_type": "code",
      "metadata": {
        "id": "5BUVUnF1q9Pp"
      },
      "source": [
        ""
      ],
      "execution_count": null,
      "outputs": []
    }
  ]
}